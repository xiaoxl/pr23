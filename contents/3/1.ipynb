{
  "cells": [
    {
      "cell_type": "markdown",
      "id": "03168ef8",
      "metadata": {},
      "source": [
        "## Basics\n",
        "\n",
        "The core data structure for `numpy` is `numpy.ndarray`. It is called *NumPy N-d array*. In most cases we will use its alias `array` for simplicity. You may treat it as a generalized version of `list`. However it can do so much more than the built-in `list`. \n",
        "\n",
        "To use `numpy`, we just import it. In most cases you would like to use the alias `np`.\n"
      ]
    },
    {
      "cell_type": "code",
      "execution_count": null,
      "id": "25df39d1",
      "metadata": {},
      "outputs": [],
      "source": [
        "import numpy as np"
      ]
    },
    {
      "cell_type": "markdown",
      "id": "9ea5959c",
      "metadata": {},
      "source": [
        "Using alias, we will just call NumPy N-d array `np.array`.\n",
        "\n",
        "### Understanding `np.array`\n",
        "The simplest way to look at an `np.array` is to think it as lists of list. Here are some examples.\n",
        "\n",
        "- This is an example of a 1d array. Note that it can be treated as a list. You may get access to its entries by 1 index, e.g. `a[0]`. This means that: we have a list, and we want to get the `0`th element in the list.\n"
      ]
    },
    {
      "cell_type": "code",
      "execution_count": null,
      "id": "2f6e1f92",
      "metadata": {},
      "outputs": [],
      "source": [
        "a = np.array([1, 2])\n",
        "a"
      ]
    },
    {
      "cell_type": "markdown",
      "id": "5c126563",
      "metadata": {},
      "source": [
        "- This is an example of a 2d array. Note that it can be treated as a list of lists. You may get access to its entries by 2 indexes, e.g. `b[0, 0]`. This means that: we have a list of lists. We first get the `0`th element (which is a list), and then get the `0`th element from this `0`th list (which is a number).\n"
      ]
    },
    {
      "cell_type": "code",
      "execution_count": null,
      "id": "969df58f",
      "metadata": {},
      "outputs": [],
      "source": [
        "b = np.array([[1, 2], [3,4]])\n",
        "b"
      ]
    },
    {
      "cell_type": "markdown",
      "id": "f8ddbf17",
      "metadata": {},
      "source": [
        "- This is an example of a 3d array. Note that it can be treated as a list of lists of lists. You may get access to its entries by 3 indexes, e.g. `c[0, 0, 0]`. This means that: we have a list of lists of lists. We first get the `0`th element (which is a list of lists), and then get the `0`th element (which is a list) from this `0`th list of lists, and then get the `0`th element (which is a number) from the previous list.\n"
      ]
    },
    {
      "cell_type": "code",
      "execution_count": null,
      "id": "e411502d",
      "metadata": {},
      "outputs": [],
      "source": [
        "c = np.array([[[1, 2], [3,4]], [[1, 2], [3,4]]])\n",
        "c"
      ]
    },
    {
      "cell_type": "markdown",
      "id": "e941df7f",
      "metadata": {},
      "source": [
        "#### The dimension of `np.array`\n",
        "There is a very confusing terminology for `np.array`: dimension. The actual word using in documents is actually `axes`. It refers to the number of coordinates required to describe the location. \n",
        "\n",
        "In the previous example, `a` is a 1d array since you only need 1 index to get entries, `b` is a 2d array since you need 2 indexes to get entries, and `c` is a 3d array since you need 3 indexes to get entries.\n",
        "\n",
        "We could use `.ndim` to check the dimension of a `np.array`.\n"
      ]
    },
    {
      "cell_type": "code",
      "execution_count": null,
      "id": "7383dc15",
      "metadata": {},
      "outputs": [],
      "source": [
        "d = np.array([[1, 2, 3], [4, 5, 6]])\n",
        "d.ndim"
      ]
    },
    {
      "cell_type": "markdown",
      "id": "8aae3107",
      "metadata": {},
      "source": [
        "::: {.callout-note}\n",
        "## Comparing to Linear algebras\n",
        "The dimension of an `np.array` and the dimenion of a vector in Linear algebras are totally different. In this example, as a `np.array`, `a=np.array([1, 2])` is a 1d `np.array`, of length `2`. As a vector, it is a 2d vector.\n",
        ":::\n",
        "\n",
        "To describe the length of each axes, we could use `.shape`. It will tells us the length of each axis. In other words, it tells us the maximal index of each axis.\n",
        "\n",
        "\n",
        "::: {#exm-}"
      ]
    },
    {
      "cell_type": "code",
      "execution_count": null,
      "id": "07396327",
      "metadata": {},
      "outputs": [],
      "source": [
        "d = np.array([[1, 2, 3], [4, 5, 6]])\n",
        "d.shape"
      ]
    },
    {
      "cell_type": "markdown",
      "id": "385d1321",
      "metadata": {},
      "source": [
        "The shape of `d` is `(2, 3)`, which means that the length of axis 0 is `2` and the length of axis 1 is `3`. \n",
        "\n",
        "- Axis 0 is the vertical axis, and its index is corresponding to rows. The length of axis 0 is actually the number of rows.\n",
        "- Axis 1 is the horizental axis, and its index is corresponding to columns. The length of axis 1 is actually the number of columns.\n",
        "\n",
        "So a 2d array can be treated as a matrix, and the shape being `(2, 3)` means that the matrix has `2` rows and `3` columns.\n",
        ":::\n",
        "\n",
        "::: {.callout-caution}\n",
        "`.ndim` and `.shape` are not methods. There is no `()` behind.\n",
        ":::\n",
        "\n",
        "\n",
        "#### Moving along axis\n",
        "A lot of `numpy` methods has an argument `axis=`, which let you to specify performing the action along which axis. You may understand this \"along axis\" in the following way. `axis=i` means that when we perform the action, we keep all other indexes the same, only changing the index on axis `i`.\n",
        "\n",
        "For example, `b.sum(axis=0)` means that we want to add all entries along axis `0`. So we start from a certain entry, keeping all other index the same when changing index on axis `0` only, and add all these entries together. Since axis `0` is corresponding to rows index, only changing row index means we are moving vertically. So if `b` is a 2d array, `b.sum(axis=0)` means we are adding all column together.\n",
        "\n",
        "We will do more examples later this section.\n",
        "\n",
        "\n",
        "\n",
        "### Create `np.array`\n",
        "There are many ways to create `np.array`. We list some basic ways below.\n",
        "\n",
        "\n",
        "::: {.callout-note collapse=\"true\"}\n",
        "# Converting from a Python list\n",
        "You may apply `np.array()` to a list to convert it into a `np.array`.\n",
        "\n",
        "1. A list of numbers will create a 1d array.\n",
        "2. A list of lists will create a 2d array.\n",
        "3. Further nested lists will create higher-dimensional arrays.\n",
        "\n",
        "All arraies in the previous sections are created in this way.\n",
        ":::\n",
        "\n",
        "::: {.callout-note collapse=\"true\"}\n",
        "# Intrinsic NumPy array creation functions\n",
        "Here is an incomplete list of such functions.\n",
        "\n",
        "1. `np.ones()` and `np.zeros()`\n",
        "\n",
        "2. `np.ones_list()` and `np.zeros_like()`\n",
        "\n",
        "3. `np.eye()`\n",
        "\n",
        "4. `np.arange()`\n",
        "    fasdfasfasdfsa\n",
        "    sdfasfdsadfa\n",
        "    asfasdf\n",
        "    sdfasf\n",
        "    \n",
        "\n",
        "5. `np.linspace()`\n",
        "\n",
        ":::\n",
        "\n",
        "- Converting from a Python list.\n",
        "- Intrinsic NumPy array creation functions\n",
        "- `np.ones`, `np.ones_like`\n",
        "- `np.eye`\n",
        "- `np.random.rand`\n",
        "- `np.arange`\n",
        "- `np.linspace`\n",
        "\n",
        "::: {.callout-caution collapse=\"true\"}\n",
        "# Pay attention to the format of inputs\n",
        "Please be very careful about the format of the input. For example, when you want to specify the dimension of the array, using `np.zeros`, you need to input a `tuple`. On the other hand, when using `np.random.rand`, you just directly input the dimensions one by one.\n"
      ]
    },
    {
      "cell_type": "code",
      "execution_count": null,
      "id": "99138824",
      "metadata": {},
      "outputs": [],
      "source": [
        "#| eval: false\n",
        "import numpy as np\n",
        "\n",
        "np.zeros((3, 2))\n",
        "np.random.rand(3, 2)"
      ]
    },
    {
      "cell_type": "markdown",
      "id": "3b3e997b",
      "metadata": {},
      "source": [
        "In this case, the official documents are always your friend.\n",
        ":::\n",
        "\n",
        "\n",
        "\n",
        "### Mathematical and Statistical Methods\n",
        "\n",
        "- `+`, `-`, `*`, `/`, `**`, etc.. \n",
        "- `np.sin`, `np.exp`, `np.sqrt`, etc..\n",
        "\n",
        "- `mean`, `sum`, `std`, `var`, `cumsum`\n",
        "- `max` and `min`\n",
        "- `maximum` and `minimum`\n",
        "- `argmin` and `argmax`\n",
        "\n",
        "- `np.sort`\n",
        "- `np.unique`, `np.any`\n",
        "\n",
        "- `np.dot`: Matrix multiplication\n",
        "- `np.concatenate`\n",
        "\n",
        "- Broadcast\n",
        "\n",
        "\n",
        "::: {#exm-}\n",
        "## Axis\n",
        "Given `A = np.array([[1,2],[3,4]])` and `B = np.array([[5,6],[7,8]])`, please use `np.concatenate` to concatencate these two matrices to get a new matrix, in the order:\n",
        "\n",
        "- `A` left, `B` right\n",
        "- `A` right, `B` left\n",
        "- `A` up, `B` down\n",
        "- `A` down, `B` up\n",
        ":::\n",
        "\n",
        "\n",
        "### Common attributes and methods\n",
        "\n",
        "- `shape`\n",
        "- `dtype`\n",
        "- `ndim`\n",
        "- Any arithmetic operations between equal-size arrays applies the operation element-wise. \n",
        "\n",
        "\n",
        "\n",
        "::: {#exm-}\n",
        "`MNIST` is a very famous dataset of hand written images. Here is how to load it. Note that in this instance of the dataset the data are stored as `numpy` arraies."
      ]
    },
    {
      "cell_type": "code",
      "execution_count": null,
      "id": "0c546be5",
      "metadata": {},
      "outputs": [],
      "source": [
        "#| eval: false\n",
        "import tensorflow as tf\n",
        "\n",
        "(X_train, y_train), (X_test, y_test) = tf.keras.datasets.mnist.load_data()\n",
        "X_train.shape"
      ]
    },
    {
      "cell_type": "markdown",
      "id": "f3f12d1d",
      "metadata": {},
      "source": [
        ":::\n"
      ]
    }
  ],
  "metadata": {
    "kernelspec": {
      "display_name": "base",
      "language": "python",
      "name": "python3"
    },
    "language_info": {
      "name": "python",
      "version": "3.9.15 (main, Nov 24 2022, 14:39:17) [MSC v.1916 64 bit (AMD64)]"
    },
    "vscode": {
      "interpreter": {
        "hash": "751505e7643273cbcbeaa1bb736c81b6240211b07adc00fd9c9dc667484aebb9"
      }
    }
  },
  "nbformat": 4,
  "nbformat_minor": 5
}
