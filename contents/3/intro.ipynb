{
  "cells": [
    {
      "cell_type": "markdown",
      "metadata": {},
      "source": [
        "# Package: `numpy`\n",
        "\n",
        "The main reference for this chapter is @McK2017.\n",
        "\n",
        "\n",
        "## Basics\n",
        "\n",
        "The core data structure for `numpy` is `numpy.ndarray`. It is called *NumPy N-d array*. In most cases we will use its alias `array` for simplicity. You may treat it as a generalized version of `list`. However it can do so much more than the built-in `list`. \n",
        "\n",
        "To use `numpy`, we just import it. In most cases you would like to use the alias `np`."
      ],
      "id": "6f0eacd8"
    },
    {
      "cell_type": "code",
      "metadata": {},
      "source": [
        "import numpy as np"
      ],
      "id": "755170af",
      "execution_count": null,
      "outputs": []
    },
    {
      "cell_type": "markdown",
      "metadata": {},
      "source": [
        "Using alias, we will just call NumPy N-d array `np.array`.\n",
        "\n",
        "### Understanding `np.array`\n",
        "The simplest way to look at an `np.array` is to think it as lists of list. Here are some examples.\n",
        "\n",
        "- This is an example of a 1d array. Note that it can be treated as a list. You may get access to its entries by 1 index, e.g. `a[0]`. This means that: we have a list, and we want to get the `0`th element in the list."
      ],
      "id": "cd14d944"
    },
    {
      "cell_type": "code",
      "metadata": {},
      "source": [
        "a = np.array([1, 2])\n",
        "a"
      ],
      "id": "c0018a5e",
      "execution_count": null,
      "outputs": []
    },
    {
      "cell_type": "markdown",
      "metadata": {},
      "source": [
        "- This is an example of a 2d array. Note that it can be treated as a list of lists. You may get access to its entries by 2 indexes, e.g. `b[0, 0]`. This means that: we have a list of lists. We first get the `0`th element (which is a list), and then get the `0`th element from this `0`th list (which is a number)."
      ],
      "id": "f4510782"
    },
    {
      "cell_type": "code",
      "metadata": {},
      "source": [
        "b = np.array([[1, 2], [3,4]])\n",
        "b"
      ],
      "id": "fae64820",
      "execution_count": null,
      "outputs": []
    },
    {
      "cell_type": "markdown",
      "metadata": {},
      "source": [
        "- This is an example of a 3d array. Note that it can be treated as a list of lists of lists. You may get access to its entries by 3 indexes, e.g. `c[0, 0, 0]`. This means that: we have a list of lists of lists. We first get the `0`th element (which is a list of lists), and then get the `0`th element (which is a list) from this `0`th list of lists, and then get the `0`th element (which is a number) from the previous list."
      ],
      "id": "ae6e2c83"
    },
    {
      "cell_type": "code",
      "metadata": {},
      "source": [
        "c = np.array([[[1, 2], [3,4]], [[1, 2], [3,4]]])\n",
        "c"
      ],
      "id": "2e394e5c",
      "execution_count": null,
      "outputs": []
    },
    {
      "cell_type": "markdown",
      "metadata": {},
      "source": [
        "#### The dimension of `np.array`\n",
        "There is a very confusing terminology for `np.array`: dimension. The actual word using in documents is actually `axes`. It refers to the number of coordinates required to describe the location. \n",
        "\n",
        "In the previous example, `a` is a 1d array since you only need 1 index to get entries, `b` is a 2d array since you need 2 indexes to get entries, and `c` is a 3d array since you need 3 indexes to get entries.\n",
        "\n",
        "We could use `.ndim` to check the dimension of a `np.array`."
      ],
      "id": "caf36c15"
    },
    {
      "cell_type": "code",
      "metadata": {},
      "source": [
        "d = np.array([[1, 2, 3], [4, 5, 6]])\n",
        "d.ndim"
      ],
      "id": "9419a6e9",
      "execution_count": null,
      "outputs": []
    },
    {
      "cell_type": "markdown",
      "metadata": {},
      "source": [
        "::: {.callout-note}\n",
        "## Comparing to Linear algebras\n",
        "The dimension of an `np.array` and the dimenion of a vector in Linear algebras are totally different. In this example, as a `np.array`, `a` is a 1d `np.array`, of length `3`. As a vector, it is a 3d vector.\n",
        ":::\n",
        "\n",
        "To describe the length of each axes, we could use `.shape`. It will tells us the length of each axis. In other words, it tells us the maximal index of each axis.\n",
        "\n",
        "\n",
        "::: {#exm-}"
      ],
      "id": "4a7ae477"
    },
    {
      "cell_type": "code",
      "metadata": {},
      "source": [
        "d = np.array([[1, 2, 3], [4, 5, 6]])\n",
        "d.shape"
      ],
      "id": "dfab967f",
      "execution_count": null,
      "outputs": []
    },
    {
      "cell_type": "markdown",
      "metadata": {},
      "source": [
        "The shape of `d` is `(2, 3)`, which means that the length of axis 0 is `2` and the length of axis 1 is `3`. \n",
        "\n",
        "- Axis 0 is the vertical axis, and its index is corresponding to rows. The length of axis 0 is actually the number of rows.\n",
        "- Axis 1 is the horizental axis, and its index is corresponding to columns. The length of axis 1 is actually the number of columns.\n",
        "\n",
        "So a 2d array can be treated as a matrix, and the shape being `(2, 3)` means that the matrix has `2` rows and `3` columns.\n",
        ":::\n",
        "\n",
        "::: {.callout-caution}\n",
        "`.ndim` and `.shape` are not methods. There is no `()` behind.\n",
        ":::\n",
        "\n",
        "\n",
        "#### Moving along axis\n",
        "A lot of `numpy` methods has an argument `axis=`, which let you to specify performing the action along which axis. You may understand this \"along axis\" in the following way. `axis=i` means that when we perform the action, we keep all other indexes the same, only changing the index on axis `i`.\n",
        "\n",
        "For example, `b.sum(axis=0)` means that we want to add all entries along axis `0`. So we start from a certain entry, keeping all other index the same when changing index on axis `0` only, and add all these entries together. Since axis `0` is corresponding to rows index, only changing row index means we are moving vertically. So if `b` is a 2d array, `b.sum(axis=0)` means we are adding all column together.\n",
        "\n",
        "We will do more examples later this section.\n",
        "\n",
        "\n",
        "\n",
        "### Create `np.array`\n",
        "`np.array` is called Numpy Ndarray. It is a table of elements (usually numbers), all of the same type, indexed by a tuple of non-negative integers. In NumPy dimensions are called *axes*. It refers to the number of axes need to index it., and it is NOT the dimension of the vector spaces.\n",
        "\n",
        "\n",
        "\n",
        "There are many ways to do that. \n",
        "\n",
        "- convert a list into a numpy array.\n",
        "- `np.zeros`, `np.zeros_like`\n",
        "- `np.ones`, `np.ones_like`\n",
        "- `np.eye`\n",
        "- `np.random.rand`\n",
        "- `np.arange`\n",
        "- `np.linspace`\n",
        "\n",
        "::: {.callout-note}\n",
        "Please be very careful about the format of the input. For example, when you want to specify the dimension of the array, using `np.zeros`, you need to input a `tuple`. On the other hand, when using `np.random.rand`, you just directly input the dimensions one by one."
      ],
      "id": "48812b7a"
    },
    {
      "cell_type": "code",
      "metadata": {},
      "source": [
        "#| eval: false\n",
        "import numpy as np\n",
        "\n",
        "np.zeros((3, 2))\n",
        "np.random.rand(3, 2)"
      ],
      "id": "44a5e514",
      "execution_count": null,
      "outputs": []
    },
    {
      "cell_type": "markdown",
      "metadata": {},
      "source": [
        "In this case, the official documents are always your friend.\n",
        ":::\n",
        "\n",
        "\n",
        "\n",
        "### Mathematical and Statistical Methods\n",
        "\n",
        "- `+`, `-`, `*`, `/`, `**`, etc.. \n",
        "- `np.sin`, `np.exp`, `np.sqrt`, etc..\n",
        "\n",
        "- `mean`, `sum`, `std`, `var`, `cumsum`\n",
        "- `max` and `min`\n",
        "- `maximum` and `minimum`\n",
        "- `argmin` and `argmax`\n",
        "\n",
        "- `np.sort`\n",
        "- `np.unique`, `np.any`\n",
        "\n",
        "- `np.dot`: Matrix multiplication\n",
        "- `np.concatenate`\n",
        "\n",
        "- Broadcast\n",
        "\n",
        "\n",
        "::: {#exm-}\n",
        "## Axis\n",
        "Given `A = np.array([[1,2],[3,4]])` and `B = np.array([[5,6],[7,8]])`, please use `np.concatenate` to concatencate these two matrices to get a new matrix, in the order:\n",
        "\n",
        "- `A` left, `B` right\n",
        "- `A` right, `B` left\n",
        "- `A` up, `B` down\n",
        "- `A` down, `B` up\n",
        ":::\n",
        "\n",
        "\n",
        "### Common attributes and methods\n",
        "\n",
        "- `shape`\n",
        "- `dtype`\n",
        "- `ndim`\n",
        "- Any arithmetic operations between equal-size arrays applies the operation element-wise. \n",
        "\n",
        "\n",
        "\n",
        "::: {#exm-}\n",
        "`MNIST` is a very famous dataset of hand written images. Here is how to load it. Note that in this instance of the dataset the data are stored as `numpy` arraies."
      ],
      "id": "ce0dff6d"
    },
    {
      "cell_type": "code",
      "metadata": {},
      "source": [
        "#| eval: false\n",
        "import tensorflow as tf\n",
        "\n",
        "(X_train, y_train), (X_test, y_test) = tf.keras.datasets.mnist.load_data()\n",
        "X_train.shape"
      ],
      "id": "f42d83ef",
      "execution_count": null,
      "outputs": []
    },
    {
      "cell_type": "markdown",
      "metadata": {},
      "source": [
        ":::\n",
        "\n",
        "\n",
        "\n",
        "## Indexing\n",
        "\n",
        "### Basic indexing and slicing\n",
        "\n",
        "First see the following example.\n",
        "\n",
        "\n",
        "::: {#exm-}"
      ],
      "id": "249cdefa"
    },
    {
      "cell_type": "code",
      "metadata": {},
      "source": [
        "import numpy as np\n",
        "arr = np.arange(10)\n",
        "\n",
        "print(arr[5])\n",
        "print(arr[5:8])\n",
        "\n",
        "arr[5:8] = 12\n",
        "print(arr)\n",
        "\n",
        "print(arr[5:8:2])\n",
        "print(arr[8:5:-1])\n",
        "print(arr[::-1])"
      ],
      "id": "b2a9ac95",
      "execution_count": null,
      "outputs": []
    },
    {
      "cell_type": "markdown",
      "metadata": {},
      "source": [
        ":::\n",
        "\n",
        "\n",
        "To do slicing in higher dimensional case, you may either treat a `numpy` array as a nested list, or you may directly work with it with multiindexes.\n",
        "\n",
        "\n",
        "::: {#exm-}"
      ],
      "id": "38519ab2"
    },
    {
      "cell_type": "code",
      "metadata": {},
      "source": [
        "import numpy as np\n",
        "arr3d = np.arange(12).reshape(2, 2, 3)\n",
        "\n",
        "print('case 1:\\n {}'.format(arr3d))\n",
        "print('case 2:\\n {}'.format(arr3d[0, 1, 2]))\n",
        "print('case 3:\\n {}'.format(arr3d[:, 0: 2, 1]))\n",
        "print('case 4:\\n {}'.format(arr3d[:, 0: 2, 1:2]))"
      ],
      "id": "eaa83387",
      "execution_count": null,
      "outputs": []
    },
    {
      "cell_type": "markdown",
      "metadata": {},
      "source": [
        ":::\n",
        "\n",
        "\n",
        "### Boolean Indexing\n",
        "`numpy` array can accept index in terms of numpy arries with boolean indexing.\n",
        "\n",
        "\n",
        "::: {#exm-}"
      ],
      "id": "aa0ee4c9"
    },
    {
      "cell_type": "code",
      "metadata": {},
      "source": [
        "import numpy as np\n",
        "a = np.arange(4)\n",
        "b = np.array([True, True, False, True])\n",
        "print(a)\n",
        "print(b)\n",
        "print(a[b])"
      ],
      "id": "a82255e1",
      "execution_count": null,
      "outputs": []
    },
    {
      "cell_type": "markdown",
      "metadata": {},
      "source": [
        ":::\n",
        "\n",
        "We could combine this way with the logic computation to filter out the elements we don't want.\n",
        "\n",
        "\n",
        "::: {#exm-}\n",
        "Please replace the odd number in the array by its negative."
      ],
      "id": "597044b7"
    },
    {
      "cell_type": "code",
      "metadata": {},
      "source": [
        "import numpy as np\n",
        "arr = np.arange(10)\n",
        "odd = arr %2 == 1\n",
        "arr[odd] = arr[odd] * (-1)\n",
        "\n",
        "print(arr)"
      ],
      "id": "bd47251b",
      "execution_count": null,
      "outputs": []
    },
    {
      "cell_type": "markdown",
      "metadata": {},
      "source": [
        ":::\n",
        "\n",
        "### Fancy indexing\n",
        "Fancy indexing is a term adopted by NumPy to describe indexing using integer arrays. \n",
        "\n",
        "::: {#exm-}"
      ],
      "id": "e4421d75"
    },
    {
      "cell_type": "code",
      "metadata": {},
      "source": [
        "import numpy as np\n",
        "\n",
        "arr = np.zeros((8, 4))\n",
        "for i in range(8):\n",
        "    arr[i] = i\n",
        "\n",
        "arr[[4, 3, 0, 6]]"
      ],
      "id": "aaa6fa07",
      "execution_count": null,
      "outputs": []
    },
    {
      "cell_type": "markdown",
      "metadata": {},
      "source": [
        ":::\n",
        "\n",
        "::: {#exm-}"
      ],
      "id": "91725d12"
    },
    {
      "cell_type": "code",
      "metadata": {},
      "source": [
        "import numpy as np\n",
        "\n",
        "arr = np.arange(32).reshape((8, 4))\n",
        "print(arr)\n",
        "print(arr[[1, 5, 7, 2], [0, 3, 1, 2]])\n",
        "print(arr[[1, 5, 7, 2]][:, [0, 3, 1, 2]])"
      ],
      "id": "391e9149",
      "execution_count": null,
      "outputs": []
    },
    {
      "cell_type": "markdown",
      "metadata": {},
      "source": [
        ":::\n",
        "\n",
        "\n",
        "### [Copies and views](https://numpy.org/doc/stable/user/basics.copies.html)\n",
        "The view of an numpy array is a way to get access to the array without copying internel data. When operating with a view, the original data as well as all other views of the original data will be modified simutanously. \n",
        "\n",
        "The default setting for copies and views is that, basic indexing and slicing will make views, and advanced indexing and slicing (e.g. boolean indexing, fancy indexing, etc.) will make copies. For other operations, you need to check the documents to know how they work. For example, `np.reshape` creates a view where possible, and `np.flatten` always creates a copy.\n",
        "\n",
        "You may use `np.view()` or `np.copy()` to make views or copies explicitly. \n",
        "::: {#exm-}"
      ],
      "id": "1db10696"
    },
    {
      "cell_type": "code",
      "metadata": {},
      "source": [
        "import numpy as np\n",
        "arr = np.arange(10)\n",
        "b = arr[5:8]\n",
        "print('arr is {}'.format(arr))\n",
        "print('b is {}'.format(b))\n",
        "\n",
        "b[0] = -1\n",
        "print('arr is {}'.format(arr))\n",
        "print('b is {}'.format(b))\n",
        "\n",
        "\n",
        "arr[6] = -2\n",
        "print('arr is {}'.format(arr))\n",
        "print('b is {}'.format(b))\n",
        "\n",
        "print('The base of b is {}'.format(b.base))"
      ],
      "id": "5f17be8c",
      "execution_count": null,
      "outputs": []
    },
    {
      "cell_type": "markdown",
      "metadata": {},
      "source": [
        ":::\n",
        "\n",
        "\n",
        "The way to make explicit copy is `.copy()`.\n",
        "\n",
        "\n",
        "::: {#exm-}"
      ],
      "id": "a1f2368f"
    },
    {
      "cell_type": "code",
      "metadata": {},
      "source": [
        "import numpy as np\n",
        "arr = np.arange(10)\n",
        "b = arr[5:8].copy()\n",
        "print('arr is {}'.format(arr))\n",
        "print('b is {}'.format(b))\n",
        "\n",
        "b[0] = -1\n",
        "print('arr is {}'.format(arr))\n",
        "print('b is {}'.format(b))\n",
        "\n",
        "\n",
        "arr[6] = -2\n",
        "print('arr is {}'.format(arr))\n",
        "print('b is {}'.format(b))\n",
        "\n",
        "print('The base of b is {}'.format(b.base))"
      ],
      "id": "045f6e02",
      "execution_count": null,
      "outputs": []
    },
    {
      "cell_type": "markdown",
      "metadata": {},
      "source": [
        ":::\n",
        "\n",
        "\n",
        "## More commands\n",
        "\n",
        "- `.T`\n",
        "- `axis=n` is very important.\n",
        "- `np.reshape()`\n",
        "- `np.tile()`\n",
        "- `np.repeat()`\n",
        "\n",
        "\n",
        "### More advanced commands\n",
        "\n",
        "- `np.where()`\n",
        "- `np.any()`\n",
        "- `np.all()`\n",
        "- `np.argsort()`\n",
        "\n",
        "\n",
        "\n",
        "\n",
        "::: {#exm-}\n",
        "Get the position where elements of `a` and `b` match."
      ],
      "id": "17d92576"
    },
    {
      "cell_type": "code",
      "metadata": {},
      "source": [
        "a = np.array([1,2,3,2,3,4,3,4,5,6])\n",
        "b = np.array([7,2,10,2,7,4,9,4,9,8])\n",
        "\n",
        "np.where(a == b)"
      ],
      "id": "34de0835",
      "execution_count": null,
      "outputs": []
    },
    {
      "cell_type": "markdown",
      "metadata": {},
      "source": [
        ":::\n",
        "\n",
        "::: {#exm-}"
      ],
      "id": "ae201b3f"
    },
    {
      "cell_type": "code",
      "metadata": {},
      "source": [
        "a = np.array([1,2,3,2,3,4,3,4,5,6])\n",
        "b = np.array([7,2,10,2,7,4,9,4,9,8])\n",
        "\n",
        "np.where(a == b, a*2, b+1)"
      ],
      "id": "9bc1a443",
      "execution_count": null,
      "outputs": []
    },
    {
      "cell_type": "markdown",
      "metadata": {},
      "source": [
        ":::\n",
        "\n",
        "\n",
        "::: {#exm-}\n",
        "## Playing with axis\n"
      ],
      "id": "1914a33d"
    },
    {
      "cell_type": "code",
      "metadata": {},
      "source": [
        "import numpy as np\n",
        "a = np.array([[[1,2],[3,4]],[[5,6],[7,8]]])\n",
        "\n",
        "np.any(a==1, axis=0)\n",
        "np.any(a==1, axis=1)\n",
        "np.any(a==1, axis=2)\n",
        "\n",
        "\n",
        "np.any(a==2, axis=0)\n",
        "np.any(a==2, axis=1)\n",
        "np.any(a==2, axis=2)\n",
        "\n",
        "np.any(a==5, axis=0)\n",
        "np.any(a==5, axis=1)\n",
        "np.any(a==5, axis=2)"
      ],
      "id": "3199fde0",
      "execution_count": null,
      "outputs": []
    },
    {
      "cell_type": "markdown",
      "metadata": {},
      "source": [
        ":::\n",
        "\n",
        "\n",
        "## Examples\n",
        "::: {#exm-}\n",
        "## Random walks\n",
        "Adam walks randomly along the axis. He starts from `0`. Every step he has equal possibility to go left or right. Please simulate this process.\n",
        "\n",
        "Use `choices` to record the choice of Adam at each step. We may generate a random array where `0` represents left and `1` represents right.\n",
        "\n",
        "Use `positions` to record the position of Adam at each step. Using `choices`, the position is `+1` if we see a `1` and the position is `-1` if we see a `0`. So the most elegent way to perform this is to \n",
        "\n",
        "1. Convert `choices` from `{0, 1}` to `{-1, 1}`.\n",
        "2. To record the starting position, we attach `0` to the beginning of the new `choices`.\n",
        "3. Apply `cumsum` to `choices` to get `positions`."
      ],
      "id": "37812a24"
    },
    {
      "cell_type": "code",
      "metadata": {},
      "source": [
        "import numpy as np\n",
        "\n",
        "step = 30\n",
        "choices = np.random.randint(2, size=step)\n",
        "choices = choices * 2 - 1\n",
        "choices = np.concatenate(([0], choices))\n",
        "positions = choices.cumsum()\n",
        "\n",
        "import matplotlib.pyplot as plt\n",
        "plt.plot(positions)"
      ],
      "id": "7815037c",
      "execution_count": null,
      "outputs": []
    },
    {
      "cell_type": "markdown",
      "metadata": {},
      "source": [
        ":::\n",
        "\n",
        "::: {#exm-}\n",
        "## Many random walks\n",
        "We mainly use `numpy.ndarray` to write the code in the previous example. The best part here is that it can be easily generalized to many random walks.\n",
        "\n",
        "Still keep `choices` and `positions` in mind. Now we would like to deal with multiple people simutanously. Each row represents one person's random walk. All the formulas stay the same. We only need to update the dimension setting in the previous code.\n",
        "\n",
        "- Update `size` in `np.random.randint`.\n",
        "- Update `[0]` to `np.zeros((N, 1))` in `concatenate`.\n",
        "- For `cumsum` and `concatenate`, add `axis=1` to indicate that we perform the operations along `axis 1`.\n",
        "- We plot each row in the same figure. `plt.legend` is used to show the label for each line."
      ],
      "id": "1fe29ee8"
    },
    {
      "cell_type": "code",
      "metadata": {},
      "source": [
        "import numpy as np\n",
        "\n",
        "step = 30\n",
        "N = 3\n",
        "choices = np.random.randint(2, size=(N, step))\n",
        "choices = choices * 2 - 1\n",
        "choices = np.concatenate((np.zeros((N, 1)), choices), axis=1)\n",
        "positions = choices.cumsum(axis=1)\n",
        "\n",
        "import matplotlib.pyplot as plt\n",
        "for row in positions:\n",
        "    plt.plot(row)\n",
        "plt.legend([1, 2, 3])"
      ],
      "id": "89b620d4",
      "execution_count": null,
      "outputs": []
    },
    {
      "cell_type": "markdown",
      "metadata": {},
      "source": [
        ":::\n",
        "\n",
        "\n",
        "::: {#exm-}\n",
        "## Analyze `positions`\n",
        "We play with the numpy array `positions` to get some information about the random walks of three generated in the previous example.\n",
        "\n",
        "- The maximal position:"
      ],
      "id": "c8a9d0b9"
    },
    {
      "cell_type": "code",
      "metadata": {},
      "source": [
        "positions.max()"
      ],
      "id": "bb12d931",
      "execution_count": null,
      "outputs": []
    },
    {
      "cell_type": "markdown",
      "metadata": {},
      "source": [
        "- The maximal position for each one:"
      ],
      "id": "5a6c09ad"
    },
    {
      "cell_type": "code",
      "metadata": {},
      "source": [
        "positions.max(axis=1)"
      ],
      "id": "b4430f21",
      "execution_count": null,
      "outputs": []
    },
    {
      "cell_type": "markdown",
      "metadata": {},
      "source": [
        "- The maximal position across all three for each step:"
      ],
      "id": "15c68e08"
    },
    {
      "cell_type": "code",
      "metadata": {},
      "source": [
        "positions.max(axis=0)"
      ],
      "id": "5c359cdc",
      "execution_count": null,
      "outputs": []
    },
    {
      "cell_type": "markdown",
      "metadata": {},
      "source": [
        "- Check whether anyone once got to the position 3:"
      ],
      "id": "fc3bbdb3"
    },
    {
      "cell_type": "code",
      "metadata": {},
      "source": [
        "(positions>=3).any(axis=1)"
      ],
      "id": "84445139",
      "execution_count": null,
      "outputs": []
    },
    {
      "cell_type": "markdown",
      "metadata": {},
      "source": [
        "- The number of people who once got to the position 3: "
      ],
      "id": "4976e390"
    },
    {
      "cell_type": "code",
      "metadata": {},
      "source": [
        "(positions>=3).any(axis=1).sum()"
      ],
      "id": "d473fb58",
      "execution_count": null,
      "outputs": []
    },
    {
      "cell_type": "markdown",
      "metadata": {},
      "source": [
        "- Which step for each one gets to the right most position: "
      ],
      "id": "b7d483a0"
    },
    {
      "cell_type": "code",
      "metadata": {},
      "source": [
        "positions.argmax(axis=1)"
      ],
      "id": "74a785b2",
      "execution_count": null,
      "outputs": []
    },
    {
      "cell_type": "markdown",
      "metadata": {},
      "source": [
        ":::\n",
        "\n",
        "\n",
        "## Exercises\n",
        "\n",
        "Many exercises are from @Pra2018.\n",
        "\n",
        "::: {#exr-}\n",
        "\n",
        "1. Create a $3\\times3$ matrix with values ranging from 2 to 10.\n",
        "2. Create a $10\\times10$ 2D-array with `1` on the border and `0` inside.\n",
        "3. Create a 2D array of shape `5x3` to contain random decimal numbers between `5` and `10`.\n",
        "4. Create a 1D zero `np.array` of size 10 and update sixth value to 11.\n",
        ":::\n",
        "\n",
        "\n",
        "::: {#exr-}\n",
        "Write a function to reverse a `np.ndarray` (first element becomes last).\n",
        ":::\n",
        "\n",
        "\n",
        "\n",
        "::: {#exr-}\n",
        "Given `a = np.array([1,2,3])`, please get the desired output `array([1, 1, 1, 2, 2, 2, 3, 3, 3, 1, 2, 3, 1, 2, 3, 1, 2, 3])`. You may use `np.repeat()` and `np.tile()`.\n",
        ":::\n",
        "\n",
        "\n",
        "::: {#exr-}\n",
        "## Compare two `numpy` arraies\n",
        "Consider two `np.array` of the same length `x` and `y`. Compare them entry by entry. We would like to know how many are the same.\n",
        "\n",
        "Please wrap your code into a function that return the nnumber of same entries between `x` and `y`.\n",
        ":::\n",
        "\n",
        "\n",
        "\n",
        "\n",
        "\n",
        "::: {#exr-}\n",
        "## Manipulate matries\n",
        "Please finish the following tasks. Let `arr = np.arange(9).reshape(3,3)`.\n",
        "\n",
        "1. Swap rows `1` and `2` in the array `arr`.\n",
        "2. Reverse the rows of a 2D array `arr`.\n",
        "3. Reverse the columns of a 2D array `arr`.\n",
        ":::\n",
        "\n",
        "\n",
        "\n",
        "::: {#exr-}\n",
        "Consider a 2d `np.array`."
      ],
      "id": "96fbb893"
    },
    {
      "cell_type": "code",
      "metadata": {},
      "source": [
        "arr = np.random.rand(4, 4)"
      ],
      "id": "2a22f9e9",
      "execution_count": null,
      "outputs": []
    },
    {
      "cell_type": "markdown",
      "metadata": {},
      "source": [
        "1. Please compute the mean of each column.\n",
        "2. Please compute the sum of each row.\n",
        "3. Please compute the maximam of the whole array.\n",
        ":::\n",
        "\n",
        "\n",
        "::: {#exr-}\n",
        "## Adding one axis\n",
        "Please download [this file](assests/img/20220824224849.png).   \n",
        "\n",
        "1. Please use `matplotlib.pyplot.imread()` to read the file as a 3d `np.array`. You may need to use `matplotlib` package. It will be introduced later this course. You may go to its [homepage](https://matplotlib.org/stable/users/getting_started/) to install it.\n",
        "2. Check the shape of the array.\n",
        "3. Add one additional axis to it as axis 0 to make it into a 4D array. \n",
        ":::\n",
        "\n",
        "\n",
        "::: {#exr-}\n",
        "## Understanding colored pictures\n",
        "Please download [this file](assests/img/20220824224849.png) and use `matplotlib.pyplot.imread()` to read the file as a 3d `np.array`. You may need to use `matplotlib` package. It will be introduced later this course. You may go to its [homepage](https://matplotlib.org/stable/users/getting_started/) to install it.\n",
        "\n",
        "A colored picture is stored as a 3d `np.array`. Axis `0` and Axis `1` is about the vertical and horizontal coordinates and can help us to locate a sepecific point in the picture. Axis `2` is an array with `3` elements. It is the color vector which represents the three principal colors: red, green and blue.\n",
        "\n",
        "1. Find the maximum and minimum of the values in the array.\n",
        "2. Compute the mean of the three colors at each point to get a 2d `np.array` where each entry represents the mean of the three colors at each point of the picture.\n",
        ":::\n",
        "\n",
        "\n",
        "\n",
        "\n",
        "\n",
        "::: {#exr-}\n",
        "## Queries\n",
        "\n",
        "1. Get all items between `5` and `10` from an array `a = np.array([2, 6, 1, 9, 10, 3, 27])`.\n",
        "2. Consider `x = np.array([1, 2, 1, 1, 3, 4, 3, 1, 1, 2, 1, 1, 2])`. Please find the index of 5th repetition of number `1` in `x`.\n",
        ":::\n",
        "\n",
        "\n",
        "::: {#exr-}\n",
        "Use the following code to get the dataset `iris` and three related `np.array`: `iris_1d`, `iris_2d` and `sepallength`. "
      ],
      "id": "a3f34aeb"
    },
    {
      "cell_type": "code",
      "metadata": {},
      "source": [
        "import numpy as np\n",
        "\n",
        "url = 'https://archive.ics.uci.edu/ml/machine-learning-databases/iris/iris.data'\n",
        "iris_1d = np.genfromtxt(url, delimiter=',', dtype=None, encoding=None)\n",
        "iris_2d = np.genfromtxt(url, delimiter=',', dtype='float', encoding=None)\n",
        "iris_2d[np.random.randint(150, size=20), np.random.randint(4, size=20)] = np.nan\n",
        "sepallength = np.genfromtxt(url, delimiter=',', dtype='float', usecols=[0],\n",
        "                            encoding=None)"
      ],
      "id": "c92bae29",
      "execution_count": null,
      "outputs": []
    },
    {
      "cell_type": "markdown",
      "metadata": {},
      "source": [
        "1. `iris_1d` is a 1D numpy array that each item is a tuple. Please construct a new 1D numpy array that each item is the last componenet of each tuple in `iris_1d`.\n",
        "\n",
        "2. Convert `iris_1d` into a 2D array `iris_2d` by omitting the last field of each item.\n",
        "3. `np.isnan()` is a function to check whether each entry of a `np.array` is `nan` or not. Please use `np.isnan()` as well as `np.where` to find all `nan` entries in `iris_2d`. \n",
        "4. Select the rows of `iris_2d` that does not have any `nan` value.\n",
        "5. Replace all `nan` with `0` in `iris_2d`.\n",
        ":::\n",
        "\n",
        "\n",
        "\n",
        "\n",
        "\n",
        "\n",
        "::: {#exr-}\n",
        "## Random\n",
        "Please finish the following tasks. \n",
        "\n",
        "1. Use the package `np.random` to flip a coin 100 times and record the result in a list `coin`.\n",
        "2. Assume that the coin is not fair, and the probability to get `H` is `p`. Write a code to flip the coin 100 times and record the result in a list `coin`, with a given parameter `p`. You may use `p=.4` as the first choice.\n",
        "3. For each list `coin` created above, write a code to find the longest `H` streak. We only need the biggest number of consecutive `H` we get during this 100 tosses. It is NOT necessary to know when we start the streak.\n",
        ":::\n",
        "\n",
        "<!-- \n",
        "<details>\n",
        "<summary>Click for Hint.</summary>\n",
        "\n",
        "::: {.solution}\n",
        "The following ideas can be used to solve the problem.\n",
        "\n",
        "- `np.where`\n",
        "- string, `split` and `join`\n",
        ":::\n",
        "\n",
        "</details>\n",
        " -->\n",
        "\n",
        "\n",
        "::: {#exr-}\n",
        "## Bins\n",
        "Please read the [document of `np.digitize`](https://numpy.org/doc/stable/reference/generated/numpy.digitize.html#numpy-digitize), and use it to do the following task.\n",
        "\n",
        "Set the following bins:\n",
        "\n",
        "- Less than `3`: `small`\n",
        "- `3-5`: `medium`\n",
        "- Bigger than `5`: `large`\n",
        "\n",
        "Please transform the following data `iris_2c` into texts using the given bins."
      ],
      "id": "d9115440"
    },
    {
      "cell_type": "code",
      "metadata": {},
      "source": [
        "import numpy as np\n",
        "url = 'https://archive.ics.uci.edu/ml/machine-learning-databases/iris/iris.data'\n",
        "iris_2c = np.genfromtxt(url, delimiter=',', dtype='object')[:, 2].astype('float')"
      ],
      "id": "2d69686f",
      "execution_count": null,
      "outputs": []
    },
    {
      "cell_type": "markdown",
      "metadata": {},
      "source": [
        ":::\n",
        "\n",
        "\n",
        "\n",
        "::: {#exr-}\n",
        "Consider a 2D numpy array `a`. "
      ],
      "id": "053f60d9"
    },
    {
      "cell_type": "code",
      "metadata": {},
      "source": [
        "import numpy as np\n",
        "a = np.random.rand(5, 5)"
      ],
      "id": "a37c9e14",
      "execution_count": null,
      "outputs": []
    },
    {
      "cell_type": "markdown",
      "metadata": {},
      "source": [
        "1. Please sort it along the 3rd column.\n",
        "2. Please sort it along the 2nd row.\n",
        "\n",
        "You may use `np.argsort()` for the problem.\n",
        ":::\n",
        "\n",
        "\n",
        "\n",
        "::: {#exr-}\n",
        "## One-hot vector\n",
        "Compute the one-hot encodings of a given array. You may use the following array as a test example. In this example, there are `3` labels. So the one-hot vectors are 3 dimensional vectors.\n",
        "\n",
        "For more infomation about one-hot encodings, you may check the [Wiki page](https://en.wikipedia.org/wiki/One-hot#Machine_learning_and_statistics). You are not allowed to use packages that can directly compute the one-hot encodings for this problem. "
      ],
      "id": "0b053739"
    },
    {
      "cell_type": "code",
      "metadata": {},
      "source": [
        "import numpy as np\n",
        "arr = np.random.randint(1,4, size=6)"
      ],
      "id": "a2623703",
      "execution_count": null,
      "outputs": []
    },
    {
      "cell_type": "markdown",
      "metadata": {},
      "source": [
        ":::\n",
        "\n",
        "\n",
        "\n",
        "::: {#exr-}\n",
        "Consider `arr = np.arange(8)`. A stride of `arr` with a window length of `4` and strides of `2` is a 2d `np.array` that looks like `[[0,1,2,3], [2,3,4,5], [4,5,6,7]]`.\n",
        "\n",
        "Please write a function that takes `arr` and `length` and `strides` as inputs, and its stride as outputs.\n",
        ":::\n",
        "\n",
        "\n",
        "\n",
        "\n",
        "\n",
        "## References {.unnumbered}\n",
        "\n",
        "::: {#refs}\n",
        ":::"
      ],
      "id": "3f0d93db"
    }
  ],
  "metadata": {
    "kernelspec": {
      "name": "base23",
      "language": "python",
      "display_name": "base23"
    }
  },
  "nbformat": 4,
  "nbformat_minor": 5
}