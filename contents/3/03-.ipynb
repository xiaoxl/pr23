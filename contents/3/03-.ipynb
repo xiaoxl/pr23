{
  "cells": [
    {
      "cell_type": "markdown",
      "metadata": {},
      "source": [
        "# Package: `numpy`\n",
        "\n",
        "The main reference for this chapter is @McK2017.\n",
        "\n",
        "\n",
        "## Basics\n",
        "\n",
        "The basic data structure for `numpy` is `numpy.ndarray`. You may treat it as a generalized version of lists. However it can do so much more than the build-in `list`. \n",
        "\n",
        "To use `numpy`, we just import it. In most cases you would like to use the alias `np`."
      ],
      "id": "44982194"
    },
    {
      "cell_type": "code",
      "metadata": {},
      "source": [
        "#| eval: false\n",
        "import numpy as np"
      ],
      "id": "b6f7c508",
      "execution_count": null,
      "outputs": []
    },
    {
      "cell_type": "markdown",
      "metadata": {},
      "source": [
        "::: {.callout-note}\n",
        "In many cases, `numpy.ndarray` is a huge object since it stores tons of data. Therefore many of the operations related to `numpy.ndarray` are \"in-place\" by default. This means that if you don't explicitly ask for a copy, there will be only one copy of the array and all later operations make changes to the original one. \n",
        "\n",
        "However there are many cases that \n",
        ":::\n",
        "\n",
        "## Create `np.ndarray`\n",
        "\n",
        "- convert a list into a numpy array.\n",
        "- `np.zeros`, `np.zeros_like`\n",
        "- `np.ones`, `np.ones_like`\n",
        "- `np.eye`\n",
        "- `np.random.rand`\n",
        "- `np.arange`\n",
        "- `np.linspace`\n",
        "\n",
        "::: {.callout-note}\n",
        "Please be very careful about the format of the input. For example, when you want to specify the dimension of the array, using `np.zeros`, you need to input a `tuple`. On the other hand, when using `np.random.rand`, you just directly input the dimensions one by one."
      ],
      "id": "91e3ebb2"
    },
    {
      "cell_type": "code",
      "metadata": {},
      "source": [
        "#| eval: false\n",
        "import numpy as np\n",
        "\n",
        "np.zeros((3, 2))\n",
        "np.random.rand(3, 2)"
      ],
      "id": "d5d5fe12",
      "execution_count": null,
      "outputs": []
    },
    {
      "cell_type": "markdown",
      "metadata": {},
      "source": [
        "In this case, the official documents are always your friend.\n",
        ":::\n",
        "\n",
        "\n",
        "\n",
        "## Mathematical and Statistical Methods\n",
        "\n",
        "- `+`, `-`, `*`, `/`, `**`, etc.. \n",
        "- `np.sin`, `np.exp`, `np.sqrt`, etc..\n",
        "\n",
        "- `mean`, `sum`, `std`, `var`, `cumsum`\n",
        "- `max` and `min`\n",
        "- `maximum` and `minimum`\n",
        "- `argmin` and `argmax`\n",
        "\n",
        "- `np.sort`\n",
        "- `np.unique`, `np.any`\n",
        "\n",
        "- `np.dot`: Matrix multiplication\n",
        "- `np.concatenate`\n",
        "\n",
        "- Broadcast\n",
        "\n",
        "\n",
        "::: {#exm-}\n",
        "## Axis\n",
        "Given `A = np.array([[1,2],[3,4]])` and `B = np.array([[5,6],[7,8]])`, please use `np.concatenate` to concatencate these two matrices to get a new matrix, in the order:\n",
        "\n",
        "- `A` left, `B` right\n",
        "- `A` right, `B` left\n",
        "- `A` up, `B` down\n",
        "- `A` down, `B` up\n",
        ":::\n",
        "\n",
        "\n",
        "## Common attributes and methods\n",
        "\n",
        "- `shape`\n",
        "- `dtype`\n",
        "- `ndim`\n",
        "- Any arithmetic operations between equal-size arrays applies the operation element-wise. \n",
        "\n",
        "\n",
        "\n",
        "::: {#exm-}\n",
        "`MNIST` is a very famous dataset of hand written images. Here is how to load it. Note that in this instance of the dataset the data are stored as `numpy` arraies."
      ],
      "id": "0e28fc08"
    },
    {
      "cell_type": "code",
      "metadata": {},
      "source": [
        "#| eval: false\n",
        "import tensorflow as tf\n",
        "\n",
        "(X_train, y_train), (X_test, y_test) = tf.keras.datasets.mnist.load_data()\n",
        "X_train.shape"
      ],
      "id": "b4261f32",
      "execution_count": null,
      "outputs": []
    },
    {
      "cell_type": "markdown",
      "metadata": {},
      "source": [
        ":::\n",
        "\n",
        "## Basic indexing and slicing\n",
        "\n",
        "First see the following example.\n",
        "\n",
        "\n",
        "::: {#exm-}"
      ],
      "id": "91a85d5e"
    },
    {
      "cell_type": "code",
      "metadata": {},
      "source": [
        "import numpy as np\n",
        "arr = np.arange(10)\n",
        "\n",
        "print(arr[5])\n",
        "print(arr[5:8])\n",
        "\n",
        "arr[5:8] = 12\n",
        "print(arr)\n",
        "\n",
        "print(arr[5:8:2])\n",
        "print(arr[8:5:-1])\n",
        "print(arr[::-1])"
      ],
      "id": "78c1320d",
      "execution_count": null,
      "outputs": []
    },
    {
      "cell_type": "markdown",
      "metadata": {},
      "source": [
        ":::\n",
        "\n",
        "\n",
        "To do slicing in higher dimensional case, you may either treat a `numpy` array as a nested list, or you may directly work with it with multiindexes.\n",
        "\n",
        "\n",
        "::: {#exm-}"
      ],
      "id": "9f9079eb"
    },
    {
      "cell_type": "code",
      "metadata": {},
      "source": [
        "import numpy as np\n",
        "arr3d = np.arange(12).reshape(2, 2, 3)\n",
        "\n",
        "print('case 1:\\n {}'.format(arr3d))\n",
        "print('case 2:\\n {}'.format(arr3d[0, 1, 2]))\n",
        "print('case 3:\\n {}'.format(arr3d[:, 0: 2, 1]))\n",
        "print('case 4:\\n {}'.format(arr3d[:, 0: 2, 1:2]))"
      ],
      "id": "d5f72093",
      "execution_count": null,
      "outputs": []
    },
    {
      "cell_type": "markdown",
      "metadata": {},
      "source": [
        ":::\n",
        "\n",
        "\n",
        "## Boolean Indexing\n",
        "`numpy` array can accept index in terms of numpy arries with boolean indexing.\n",
        "\n",
        "\n",
        "::: {#exm-}"
      ],
      "id": "8e30247e"
    },
    {
      "cell_type": "code",
      "metadata": {},
      "source": [
        "import numpy as np\n",
        "a = np.arange(4)\n",
        "b = np.array([True, True, False, True])\n",
        "print(a)\n",
        "print(b)\n",
        "print(a[b])"
      ],
      "id": "641904fe",
      "execution_count": null,
      "outputs": []
    },
    {
      "cell_type": "markdown",
      "metadata": {},
      "source": [
        ":::\n",
        "\n",
        "We could combine this way with the logic computation to filter out the elements we don't want.\n",
        "\n",
        "\n",
        "::: {#exm-}\n",
        "Please replace the odd number in the array by its negative."
      ],
      "id": "71467fee"
    },
    {
      "cell_type": "code",
      "metadata": {},
      "source": [
        "import numpy as np\n",
        "arr = np.arange(10)\n",
        "odd = arr %2 == 1\n",
        "arr[odd] = arr[odd] * (-1)\n",
        "\n",
        "print(arr)"
      ],
      "id": "dea8e101",
      "execution_count": null,
      "outputs": []
    },
    {
      "cell_type": "markdown",
      "metadata": {},
      "source": [
        ":::\n",
        "\n",
        "## Fancy indexing\n",
        "Fancy indexing is a term adopted by NumPy to describe indexing using integer arrays. \n",
        "\n",
        "::: {#exm-}"
      ],
      "id": "ee7bf933"
    },
    {
      "cell_type": "code",
      "metadata": {},
      "source": [
        "import numpy as np\n",
        "\n",
        "arr = np.zeros((8, 4))\n",
        "for i in range(8):\n",
        "    arr[i] = i\n",
        "\n",
        "arr[[4, 3, 0, 6]]"
      ],
      "id": "f9fa10ae",
      "execution_count": null,
      "outputs": []
    },
    {
      "cell_type": "markdown",
      "metadata": {},
      "source": [
        ":::\n",
        "\n",
        "::: {#exm-}"
      ],
      "id": "45099f6a"
    },
    {
      "cell_type": "code",
      "metadata": {},
      "source": [
        "import numpy as np\n",
        "\n",
        "arr = np.arange(32).reshape((8, 4))\n",
        "print(arr)\n",
        "print(arr[[1, 5, 7, 2], [0, 3, 1, 2]])\n",
        "print(arr[[1, 5, 7, 2]][:, [0, 3, 1, 2]])"
      ],
      "id": "bbcfbee9",
      "execution_count": null,
      "outputs": []
    },
    {
      "cell_type": "markdown",
      "metadata": {},
      "source": [
        ":::\n",
        "\n",
        "\n",
        "## [Copies and views](https://numpy.org/doc/stable/user/basics.copies.html)\n",
        "The view of an numpy array is a way to get access to the array without copying internel data. When operating with a view, the original data as well as all other views of the original data will be modified simutanously. \n",
        "\n",
        "The default setting for copies and views is that, basic indexing and slicing will make views, and advanced indexing and slicing (e.g. boolean indexing, fancy indexing, etc.) will make copies. For other operations, you need to check the documents to know how they work. For example, `np.reshape` creates a view where possible, and `np.flatten` always creates a copy.\n",
        "\n",
        "You may use `np.view()` or `np.copy()` to make views or copies explicitly. \n",
        "::: {#exm-}"
      ],
      "id": "b0b68c2e"
    },
    {
      "cell_type": "code",
      "metadata": {},
      "source": [
        "import numpy as np\n",
        "arr = np.arange(10)\n",
        "b = arr[5:8]\n",
        "print('arr is {}'.format(arr))\n",
        "print('b is {}'.format(b))\n",
        "\n",
        "b[0] = -1\n",
        "print('arr is {}'.format(arr))\n",
        "print('b is {}'.format(b))\n",
        "\n",
        "\n",
        "arr[6] = -2\n",
        "print('arr is {}'.format(arr))\n",
        "print('b is {}'.format(b))\n",
        "\n",
        "print('The base of b is {}'.format(b.base))"
      ],
      "id": "095a8d1b",
      "execution_count": null,
      "outputs": []
    },
    {
      "cell_type": "markdown",
      "metadata": {},
      "source": [
        ":::\n",
        "\n",
        "\n",
        "The way to make explicit copy is `.copy()`.\n",
        "\n",
        "\n",
        "::: {#exm-}"
      ],
      "id": "180f4a0b"
    },
    {
      "cell_type": "code",
      "metadata": {},
      "source": [
        "import numpy as np\n",
        "arr = np.arange(10)\n",
        "b = arr[5:8].copy()\n",
        "print('arr is {}'.format(arr))\n",
        "print('b is {}'.format(b))\n",
        "\n",
        "b[0] = -1\n",
        "print('arr is {}'.format(arr))\n",
        "print('b is {}'.format(b))\n",
        "\n",
        "\n",
        "arr[6] = -2\n",
        "print('arr is {}'.format(arr))\n",
        "print('b is {}'.format(b))\n",
        "\n",
        "print('The base of b is {}'.format(b.base))"
      ],
      "id": "b38732d9",
      "execution_count": null,
      "outputs": []
    },
    {
      "cell_type": "markdown",
      "metadata": {},
      "source": [
        ":::\n",
        "\n",
        "\n",
        "## More commands\n",
        "\n",
        "- `.T`\n",
        "- `axis=n` is very important.\n",
        "- `np.reshape()`\n",
        "- `np.tile()`\n",
        "- `np.repeat()`\n",
        "\n",
        "\n",
        "## More advanced commands\n",
        "\n",
        "- `np.where()`\n",
        "- `np.any()`\n",
        "- `np.all()`\n",
        "- `np.argsort()`\n",
        "\n",
        "\n",
        "\n",
        "\n",
        "::: {#exm-}\n",
        "Get the position where elements of `a` and `b` match."
      ],
      "id": "3e0606fa"
    },
    {
      "cell_type": "code",
      "metadata": {},
      "source": [
        "a = np.array([1,2,3,2,3,4,3,4,5,6])\n",
        "b = np.array([7,2,10,2,7,4,9,4,9,8])\n",
        "\n",
        "np.where(a == b)"
      ],
      "id": "3cf9984a",
      "execution_count": null,
      "outputs": []
    },
    {
      "cell_type": "markdown",
      "metadata": {},
      "source": [
        ":::\n",
        "\n",
        "::: {#exm-}"
      ],
      "id": "8744f8b8"
    },
    {
      "cell_type": "code",
      "metadata": {},
      "source": [
        "a = np.array([1,2,3,2,3,4,3,4,5,6])\n",
        "b = np.array([7,2,10,2,7,4,9,4,9,8])\n",
        "\n",
        "np.where(a == b, a*2, b+1)"
      ],
      "id": "e7570337",
      "execution_count": null,
      "outputs": []
    },
    {
      "cell_type": "markdown",
      "metadata": {},
      "source": [
        ":::\n",
        "\n",
        "\n",
        "::: {#exm-}\n",
        "## Playing with axis\n"
      ],
      "id": "d4d3db95"
    },
    {
      "cell_type": "code",
      "metadata": {},
      "source": [
        "import numpy as np\n",
        "a = np.array([[[1,2],[3,4]],[[5,6],[7,8]]])\n",
        "\n",
        "np.any(a==1, axis=0)\n",
        "np.any(a==1, axis=1)\n",
        "np.any(a==1, axis=2)\n",
        "\n",
        "\n",
        "np.any(a==2, axis=0)\n",
        "np.any(a==2, axis=1)\n",
        "np.any(a==2, axis=2)\n",
        "\n",
        "np.any(a==5, axis=0)\n",
        "np.any(a==5, axis=1)\n",
        "np.any(a==5, axis=2)"
      ],
      "id": "bb0c4f29",
      "execution_count": null,
      "outputs": []
    },
    {
      "cell_type": "markdown",
      "metadata": {},
      "source": [
        ":::\n",
        "\n",
        "\n",
        "## Examples\n",
        "::: {#exm-}\n",
        "## Random walks\n",
        "Adam walks randomly along the axis. He starts from `0`. Every step he has equal possibility to go left or right. Please simulate this process.\n",
        "\n",
        "Use `choices` to record the choice of Adam at each step. We may generate a random array where `0` represents left and `1` represents right.\n",
        "\n",
        "Use `positions` to record the position of Adam at each step. Using `choices`, the position is `+1` if we see a `1` and the position is `-1` if we see a `0`. So the most elegent way to perform this is to \n",
        "\n",
        "1. Convert `choices` from `{0, 1}` to `{-1, 1}`.\n",
        "2. To record the starting position, we attach `0` to the beginning of the new `choices`.\n",
        "3. Apply `cumsum` to `choices` to get `positions`."
      ],
      "id": "215d38f1"
    },
    {
      "cell_type": "code",
      "metadata": {},
      "source": [
        "import numpy as np\n",
        "\n",
        "step = 30\n",
        "choices = np.random.randint(2, size=step)\n",
        "choices = choices * 2 - 1\n",
        "choices = np.concatenate(([0], choices))\n",
        "positions = choices.cumsum()\n",
        "\n",
        "import matplotlib.pyplot as plt\n",
        "plt.plot(positions)"
      ],
      "id": "889f3f0e",
      "execution_count": null,
      "outputs": []
    },
    {
      "cell_type": "markdown",
      "metadata": {},
      "source": [
        ":::\n",
        "\n",
        "::: {#exm-}\n",
        "## Many random walks\n",
        "We mainly use `numpy.ndarray` to write the code in the previous example. The best part here is that it can be easily generalized to many random walks.\n",
        "\n",
        "Still keep `choices` and `positions` in mind. Now we would like to deal with multiple people simutanously. Each row represents one person's random walk. All the formulas stay the same. We only need to update the dimension setting in the previous code.\n",
        "\n",
        "- Update `size` in `np.random.randint`.\n",
        "- Update `[0]` to `np.zeros((N, 1))` in `concatenate`.\n",
        "- For `cumsum` and `concatenate`, add `axis=1` to indicate that we perform the operations along `axis 1`.\n",
        "- We plot each row in the same figure. `plt.legend` is used to show the label for each line."
      ],
      "id": "9e1c9b84"
    },
    {
      "cell_type": "code",
      "metadata": {},
      "source": [
        "import numpy as np\n",
        "\n",
        "step = 30\n",
        "N = 3\n",
        "choices = np.random.randint(2, size=(N, step))\n",
        "choices = choices * 2 - 1\n",
        "choices = np.concatenate((np.zeros((N, 1)), choices), axis=1)\n",
        "positions = choices.cumsum(axis=1)\n",
        "\n",
        "import matplotlib.pyplot as plt\n",
        "for row in positions:\n",
        "    plt.plot(row)\n",
        "plt.legend([1, 2, 3])"
      ],
      "id": "0c38cef2",
      "execution_count": null,
      "outputs": []
    },
    {
      "cell_type": "markdown",
      "metadata": {},
      "source": [
        ":::\n",
        "\n",
        "\n",
        "::: {#exm-}\n",
        "## Analyze `positions`\n",
        "We play with the numpy array `positions` to get some information about the random walks of three generated in the previous example.\n",
        "\n",
        "- The maximal position:"
      ],
      "id": "982288cc"
    },
    {
      "cell_type": "code",
      "metadata": {},
      "source": [
        "positions.max()"
      ],
      "id": "59a66e58",
      "execution_count": null,
      "outputs": []
    },
    {
      "cell_type": "markdown",
      "metadata": {},
      "source": [
        "- The maximal position for each one:"
      ],
      "id": "87f534ea"
    },
    {
      "cell_type": "code",
      "metadata": {},
      "source": [
        "positions.max(axis=1)"
      ],
      "id": "3df90b58",
      "execution_count": null,
      "outputs": []
    },
    {
      "cell_type": "markdown",
      "metadata": {},
      "source": [
        "- The maximal position across all three for each step:"
      ],
      "id": "23eeb5b3"
    },
    {
      "cell_type": "code",
      "metadata": {},
      "source": [
        "positions.max(axis=0)"
      ],
      "id": "40839777",
      "execution_count": null,
      "outputs": []
    },
    {
      "cell_type": "markdown",
      "metadata": {},
      "source": [
        "- Check whether anyone once got to the position 3:"
      ],
      "id": "98a1cf41"
    },
    {
      "cell_type": "code",
      "metadata": {},
      "source": [
        "(positions>=3).any(axis=1)"
      ],
      "id": "5467aab6",
      "execution_count": null,
      "outputs": []
    },
    {
      "cell_type": "markdown",
      "metadata": {},
      "source": [
        "- The number of people who once got to the position 3: "
      ],
      "id": "5a437d1a"
    },
    {
      "cell_type": "code",
      "metadata": {},
      "source": [
        "(positions>=3).any(axis=1).sum()"
      ],
      "id": "3e075916",
      "execution_count": null,
      "outputs": []
    },
    {
      "cell_type": "markdown",
      "metadata": {},
      "source": [
        "- Which step for each one gets to the right most position: "
      ],
      "id": "5e3a3abc"
    },
    {
      "cell_type": "code",
      "metadata": {},
      "source": [
        "positions.argmax(axis=1)"
      ],
      "id": "14906f62",
      "execution_count": null,
      "outputs": []
    },
    {
      "cell_type": "markdown",
      "metadata": {},
      "source": [
        ":::\n",
        "\n",
        "\n",
        "## Exercises\n",
        "\n",
        "Many exercises are from @Pra2018.\n",
        "\n",
        "::: {#exr-}\n",
        "## array\n",
        "Write a NumPy program to create a $3\\times3$ matrix with values ranging from 2 to 10.\n",
        ":::\n",
        "\n",
        "\n",
        "::: {#exr-}\n",
        "## array\n",
        "Write a NumPy program to create a null vector of size 10 and update sixth value to 11.\n",
        ":::\n",
        "\n",
        "\n",
        "\n",
        "::: {#exr-}\n",
        "## array\n",
        "Write a NumPy program to reverse an array (first element becomes last).\n",
        ":::\n",
        "\n",
        "\n",
        "::: {#exr-}\n",
        "## array\n",
        "Write a NumPy program to create a $10\\times10$ 2D-array with 1 on the border and 0 inside.\n",
        ":::\n",
        "\n",
        "\n",
        "::: {#exr-}\n",
        "## repeat and tile\n",
        "Given `a = np.array([1,2,3])`, please get the desired output `array([1, 1, 1, 2, 2, 2, 3, 3, 3, 1, 2, 3, 1, 2, 3, 1, 2, 3])`.\n",
        ":::\n",
        "\n",
        "\n",
        "::: {#exr-}\n",
        "## Compare two `numpy` arraies\n",
        "Consider two `numpy` arraies `x` and `y`. Compare them entry by entry. We would like to know how many are the same.\n",
        ":::\n",
        "\n",
        "<details>\n",
        "<summary>Click to expand.</summary>\n",
        "\n",
        "::: {.solution}\n",
        "Note that `bool` values `True` and `False` can be treated as numbers `1` and `0`. "
      ],
      "id": "ed22eda9"
    },
    {
      "cell_type": "code",
      "metadata": {},
      "source": [
        "import numpy as np\n",
        "\n",
        "x = np.array([1, 2, 3, 4, 5])\n",
        "y = np.array([2, 1, 4, 4, 5])\n",
        "\n",
        "numofsame = np.sum(x == y)\n",
        "print(numofsame)"
      ],
      "id": "14131b1e",
      "execution_count": null,
      "outputs": []
    },
    {
      "cell_type": "markdown",
      "metadata": {},
      "source": [
        ":::\n",
        "</details>\n",
        "\n",
        "\n",
        "\n",
        "::: {#exr-}\n",
        "Get all items between `5` and `10` from an array `a = np.array([2, 6, 1, 9, 10, 3, 27])`.\n",
        ":::\n",
        "\n",
        "\n",
        "::: {#exr-}\n",
        "Swap rows `1` and `2` in the array `arr = np.arange(9).reshape(3,3)`.\n",
        ":::\n",
        "\n",
        "\n",
        "::: {#exr-}\n",
        "Please finish the following tasks.\n",
        "\n",
        "1. Reverse the rows of a 2D array `arr = np.arange(9).reshape(3,3)`.\n",
        "2. Reverse the columns of a 2D array `arr = np.arange(9).reshape(3,3)`.\n",
        ":::\n",
        "\n",
        "\n",
        "::: {#exr-}\n",
        "Create a 2D array of shape `5x3` to contain random decimal numbers between `5` and `10`.\n",
        ":::\n",
        "\n",
        "\n",
        "::: {#exr-}\n",
        "Use the following code to get the dataset `iris`. "
      ],
      "id": "6ee145fc"
    },
    {
      "cell_type": "code",
      "metadata": {},
      "source": [
        "import numpy as np\n",
        "\n",
        "url = 'https://archive.ics.uci.edu/ml/machine-learning-databases/iris/iris.data'\n",
        "iris_1d = np.genfromtxt(url, delimiter=',', dtype=None, encoding=None)"
      ],
      "id": "42a803d4",
      "execution_count": null,
      "outputs": []
    },
    {
      "cell_type": "markdown",
      "metadata": {},
      "source": [
        "1. `iris_1d` is a 1D numpy array that each item is a tuple. Please construct a new 1D numpy array that each item is the last componenet of each tuple in `iris_1d`.\n",
        "\n",
        "2. Convert `iris_1d` into a 2D array `iris_2d` by omitting the last field of each item.\n",
        "\n",
        ":::\n",
        "\n",
        "\n",
        "\n",
        "::: {#exr-}\n",
        "## Normalization\n",
        "\n",
        "Use the following code to get an 1D array `sepallength`."
      ],
      "id": "b51063f4"
    },
    {
      "cell_type": "code",
      "metadata": {},
      "source": [
        "import numpy as np\n",
        "\n",
        "url = 'https://archive.ics.uci.edu/ml/machine-learning-databases/iris/iris.data'\n",
        "sepallength = np.genfromtxt(url, delimiter=',', dtype='float', usecols=[0],\n",
        "                            encoding=None)"
      ],
      "id": "9dc0c14d",
      "execution_count": null,
      "outputs": []
    },
    {
      "cell_type": "markdown",
      "metadata": {},
      "source": [
        "Please normalize it such that the values of each item is between `0` and `1`.\n",
        "\n",
        ":::\n",
        "\n",
        "\n",
        "\n",
        "::: {#exr-}\n",
        "`np.isnan()` is a function to check whether each entry of a numpy array is `nan` or not. Please use this as well as `np.where` to find all `nan` entries in an array. \n",
        "\n",
        "You may use the following array `iris_2d` to test your code."
      ],
      "id": "162dec75"
    },
    {
      "cell_type": "code",
      "metadata": {},
      "source": [
        "import numpy as np\n",
        "url = 'https://archive.ics.uci.edu/ml/machine-learning-databases/iris/iris.data'\n",
        "iris_2d = np.genfromtxt(url, delimiter=',', dtype='float', encoding=None)\n",
        "iris_2d[np.random.randint(150, size=20), np.random.randint(4, size=20)] = np.nan"
      ],
      "id": "deb26516",
      "execution_count": null,
      "outputs": []
    },
    {
      "cell_type": "markdown",
      "metadata": {},
      "source": [
        ":::\n",
        "\n",
        "\n",
        "\n",
        "::: {#exr-}\n",
        "Select the rows of `iris_2d` that does not have any nan value."
      ],
      "id": "d9945283"
    },
    {
      "cell_type": "code",
      "metadata": {},
      "source": [
        "import numpy as np\n",
        "url = 'https://archive.ics.uci.edu/ml/machine-learning-databases/iris/iris.data'\n",
        "iris_2d = np.genfromtxt(url, delimiter=',', dtype='float', usecols=[0,1,2,3],\n",
        "                        encoding=None)\n",
        "iris_2d[np.random.randint(150, size=20), np.random.randint(4, size=20)] = np.nan"
      ],
      "id": "827cee0f",
      "execution_count": null,
      "outputs": []
    },
    {
      "cell_type": "markdown",
      "metadata": {},
      "source": [
        ":::\n",
        "\n",
        "\n",
        "::: {#exr-}\n",
        "Replace all `nan` with `0` in numpy array `iris_2d`."
      ],
      "id": "c232ac19"
    },
    {
      "cell_type": "code",
      "metadata": {},
      "source": [
        "import numpy as np\n",
        "url = 'https://archive.ics.uci.edu/ml/machine-learning-databases/iris/iris.data'\n",
        "iris_2d = np.genfromtxt(url, delimiter=',', dtype='float', usecols=[0,1,2,3],\n",
        "                        encoding=None)\n",
        "iris_2d[np.random.randint(150, size=20), np.random.randint(4, size=20)] = np.nan"
      ],
      "id": "4657ffcb",
      "execution_count": null,
      "outputs": []
    },
    {
      "cell_type": "markdown",
      "metadata": {},
      "source": [
        ":::\n",
        "\n",
        "\n",
        "\n",
        "::: {#exr-}\n",
        "Consider `x = np.array([1, 2, 1, 1, 3, 4, 3, 1, 1, 2, 1, 1, 2])`. Please find the index of 5th repetition of number `1` in `x`.\n",
        ":::\n",
        "\n",
        "\n",
        "## Projects\n",
        "\n",
        "\n",
        "\n",
        "\n",
        "::: {#exr-}\n",
        "## Adding one axis\n",
        "Please download [this file](assests/img/20220824224849.png).   \n",
        "\n",
        "1. Please use `matplotlib.pyplot.imread()` to read the file as a 3D numpy array.\n",
        "2. Check the shape of the array.\n",
        "3. Add one additional axis to it as axis 0 to make it into a 4D array. \n",
        ":::\n",
        "\n",
        "\n",
        "::: {#exr-}\n",
        "## Random\n",
        "Please finish the following tasks. \n",
        "\n",
        "1. Use the package `np.random` to flip a coin 100 times and record the result in a list `coin`.\n",
        "2. Assume that the coin is not fair, and the probability to get `H` is `p`. Write a code to flip the coin 100 times and record the result in a list `coin`, with a given parameter `p`. You may use `p=.4` as the first choice.\n",
        "3. For each list `coin` created above, write a code to find the longest `H` streak. We only need the biggest number of consecutive `H` we get during this 100 tosses. It is NOT necessary to know when we start the streak.\n",
        ":::\n",
        "\n",
        "\n",
        "<details>\n",
        "<summary>Click for Hint.</summary>\n",
        "\n",
        "::: {.solution}\n",
        "The following ideas can be used to solve the problem.\n",
        "\n",
        "- `np.where`\n",
        "- string, `split` and `join`\n",
        ":::\n",
        "\n",
        "</details>\n",
        "\n",
        "\n",
        "\n",
        "::: {#exr-}\n",
        "## Bins\n",
        "Please read the [document of `np.digitize`](https://numpy.org/doc/stable/reference/generated/numpy.digitize.html#numpy-digitize), and use it to do the following task.\n",
        "\n",
        "Set the following bins:\n",
        "\n",
        "- Less than `3`: `small`\n",
        "- `3-5`: `medium`\n",
        "- Bigger than `5`: `large`\n",
        "\n",
        "Please transform the following data `iris_2c` into texts using the given bins."
      ],
      "id": "b014d609"
    },
    {
      "cell_type": "code",
      "metadata": {},
      "source": [
        "import numpy as np\n",
        "url = 'https://archive.ics.uci.edu/ml/machine-learning-databases/iris/iris.data'\n",
        "iris_2c = np.genfromtxt(url, delimiter=',', dtype='object')[:, 2].astype('float')"
      ],
      "id": "c39b28da",
      "execution_count": null,
      "outputs": []
    },
    {
      "cell_type": "markdown",
      "metadata": {},
      "source": [
        ":::\n",
        "\n",
        "\n",
        "\n",
        "::: {#exr-}\n",
        "Consider a 2D numpy array `a`. "
      ],
      "id": "7b40b2da"
    },
    {
      "cell_type": "code",
      "metadata": {},
      "source": [
        "import numpy as np\n",
        "a = np.random.rand(5, 5)"
      ],
      "id": "a1f17c34",
      "execution_count": null,
      "outputs": []
    },
    {
      "cell_type": "markdown",
      "metadata": {},
      "source": [
        "1. Please sort it along the 3rd column.\n",
        "2. Please sort it along the 2nd row.\n",
        ":::\n",
        "\n",
        "\n",
        "<details>\n",
        "<summary>Click for Hint.</summary>\n",
        "\n",
        "::: {.solution}\n",
        "Please use `np.argsort` for the problem.\n",
        ":::\n",
        "</details>\n",
        "\n",
        "\n",
        "::: {#exr-}\n",
        "## One-hot vector\n",
        "Compute the one-hot encodings of a given array. You may use the following array as a test example. In this example, there are `3` labels. So the one-hot vectors are 3 dimensional vectors.\n",
        "\n",
        "For more infomation about one-hot encodings, you may check the [Wiki page](https://en.wikipedia.org/wiki/One-hot#Machine_learning_and_statistics). You are not allowed to use packages that can directly compute the one-hot encodings for this problem. "
      ],
      "id": "82857027"
    },
    {
      "cell_type": "code",
      "metadata": {},
      "source": [
        "import numpy as np\n",
        "arr = np.random.randint(1,4, size=6)"
      ],
      "id": "1ee84c40",
      "execution_count": null,
      "outputs": []
    },
    {
      "cell_type": "markdown",
      "metadata": {},
      "source": [
        ":::\n",
        "\n",
        "\n",
        "\n",
        "::: {#exr-}\n",
        "From the given 1d array `arr = np.arange(15)`, generate a 2d matrix using strides, with a window length of `4` and strides of `2`, like `[[0,1,2,3], [2,3,4,5], [4,5,6,7]..]`.\n",
        ":::\n"
      ],
      "id": "e941054c"
    }
  ],
  "metadata": {
    "kernelspec": {
      "name": "base23",
      "language": "python",
      "display_name": "base23"
    }
  },
  "nbformat": 4,
  "nbformat_minor": 5
}