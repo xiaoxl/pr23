{
  "cells": [
    {
      "cell_type": "markdown",
      "metadata": {},
      "source": [
        "# Visualization\n",
        "\n",
        "\n",
        "The main reference for this Chapter is @McK2017.\n",
        "\n",
        "\n",
        "\n",
        "## `matplotlib.pyplot`\n",
        "\n",
        "`matplotlib` is a modern and classic plot library. Its main features are inspired by `MATLAB`. In this book we mostly use `pyplot` package from `matplotlib`. We use the following import convention:\n"
      ],
      "id": "69bd6917"
    },
    {
      "cell_type": "code",
      "metadata": {},
      "source": [
        "import matplotlib.pyplot as plt"
      ],
      "id": "586af6f8",
      "execution_count": null,
      "outputs": []
    },
    {
      "cell_type": "markdown",
      "metadata": {},
      "source": [
        "### `matplotlib` interface\n",
        "\n",
        "\n",
        "\n",
        "`matplotlib` has two major application interfaces, or styles of using the library:\n",
        "\n",
        "- An explicit `Axes` interface that uses methods on a `Figure` or `Axes` object to create other Artists, and build a visualization step by step. You may treat this `Figure` object as a canvas, and `Axes` as plots on a canvas. There might be one or more plots on one canvas. This has also been called an *object-oriented* interface.\n",
        "- An implicit `pyplot` interface that keeps track of the last `Figure` and `Axes` created, and adds Artists to the object it thinks the user wants.\n",
        "\n",
        "Here is an example of an explicit interface."
      ],
      "id": "59118665"
    },
    {
      "cell_type": "code",
      "metadata": {},
      "source": [
        "fig = plt.figure()\n",
        "ax = fig.subplots()\n",
        "ax.plot([1, 2, 3, 4], [0, 0.5, 1, 0.2])"
      ],
      "id": "d011d409",
      "execution_count": null,
      "outputs": []
    },
    {
      "cell_type": "markdown",
      "metadata": {},
      "source": [
        "Here is an example of an implicit interface.\n"
      ],
      "id": "7210083b"
    },
    {
      "cell_type": "code",
      "metadata": {},
      "source": [
        "plt.plot([1, 2, 3, 4], [0, 0.5, 1, 0.2])"
      ],
      "id": "bd10c358",
      "execution_count": null,
      "outputs": []
    },
    {
      "cell_type": "markdown",
      "metadata": {},
      "source": [
        "::: {.callout-note}\n",
        "If the plot is not shown, you may want to type `plt.show()` to force the plot being rendered. However, to make `plt.show()` work is related to switching `matplotlib` backends, and is sometimes very complicated.\n",
        ":::\n",
        "\n",
        "The purpose to explicitly use `fig` and `ax` is to have more control over the configurations. The first important configuration is subplots.\n",
        "\n",
        "- `.subplot()`\n",
        "- `.subplots()`\n",
        "- `.add_subplot()`\n",
        "\n",
        "Please see the following examples.\n",
        "\n",
        "\n",
        "::: {#exm-}"
      ],
      "id": "608755b7"
    },
    {
      "cell_type": "code",
      "metadata": {},
      "source": [
        "plt.subplot(1, 2, 1)\n",
        "plt.plot([1, 2, 3], [0, 0.5, 0.2])"
      ],
      "id": "e493ce8a",
      "execution_count": null,
      "outputs": []
    },
    {
      "cell_type": "markdown",
      "metadata": {},
      "source": [
        ":::\n",
        "\n",
        "\n",
        "::: {#exm-}"
      ],
      "id": "595c845a"
    },
    {
      "cell_type": "code",
      "metadata": {},
      "source": [
        "plt.subplot(1, 2, 1)\n",
        "plt.plot([1, 2, 3], [0, 0.5, 0.2])\n",
        "plt.subplot(1, 2, 2)\n",
        "plt.plot([3, 2, 1], [0, 0.5, 0.2])"
      ],
      "id": "79c6220b",
      "execution_count": null,
      "outputs": []
    },
    {
      "cell_type": "markdown",
      "metadata": {},
      "source": [
        ":::\n",
        "\n",
        "\n",
        "::: {#exm-}"
      ],
      "id": "5bf5be44"
    },
    {
      "cell_type": "code",
      "metadata": {},
      "source": [
        "fig, axs = plt.subplots(1, 2)\n",
        "axs[0].plot([1, 2, 3], [0, 0.5, 0.2])\n",
        "axs[1].plot([3, 2, 1], [0, 0.5, 0.2])"
      ],
      "id": "760a153e",
      "execution_count": null,
      "outputs": []
    },
    {
      "cell_type": "markdown",
      "metadata": {},
      "source": [
        ":::\n",
        "\n",
        "\n",
        "::: {#exm-}"
      ],
      "id": "193009bf"
    },
    {
      "cell_type": "code",
      "metadata": {},
      "source": [
        "import numpy as np\n",
        "fig = plt.figure()\n",
        "ax1 = fig.add_subplot(2, 2, 1)\n",
        "ax2 = fig.add_subplot(2, 2, 3)\n",
        "ax3 = fig.add_subplot(1, 2, 2)\n",
        "\n",
        "ax3.plot([1, 2, 3], [0, 0.5, 0.2])"
      ],
      "id": "8f9b8b30",
      "execution_count": null,
      "outputs": []
    },
    {
      "cell_type": "markdown",
      "metadata": {},
      "source": [
        "The auguments `2, 2, 1` means that we split the figure into a `2x2` grid and the axis `ax1` is in the 1st position. The rest is understood in the same way.\n",
        ":::\n",
        "\n",
        "\n",
        "::: {#exm-}\n",
        "If you don't explicitly initialize `fig` and `ax`, you may use `plt.gcf()` and `plt.gca()` to get the handles for further operations."
      ],
      "id": "fe95b55f"
    },
    {
      "cell_type": "code",
      "metadata": {},
      "source": [
        "plt.subplot(1, 2, 1)\n",
        "ax = plt.gca()\n",
        "ax.plot([1, 2, 3], [0, 0.5, 0.2])\n",
        "\n",
        "plt.subplot(1, 2, 2)\n",
        "ax = plt.gca()\n",
        "ax.plot([3, 2, 1], [0, 0.5, 0.2])"
      ],
      "id": "2b9d59ca",
      "execution_count": null,
      "outputs": []
    },
    {
      "cell_type": "markdown",
      "metadata": {},
      "source": [
        ":::\n",
        "\n",
        "\n",
        "\n",
        "The purpose to explicitly use `fig` and `ax` is to have more control over the configurations. For example, when generate a `figure` object, we may use `figsize=(3, 3)` as an option to set the figure size to be `3x3`. `dpi` is another commonly modified option."
      ],
      "id": "2c51cbf9"
    },
    {
      "cell_type": "code",
      "metadata": {},
      "source": [
        "fig = plt.figure(figsize=(2, 2), dpi=50)\n",
        "plt.plot([1, 2, 3], [0, 0.5, 0.2])"
      ],
      "id": "daab1219",
      "execution_count": null,
      "outputs": []
    },
    {
      "cell_type": "markdown",
      "metadata": {},
      "source": [
        "If you would like to change this setting later, you may use the following command before plotting. \n"
      ],
      "id": "e0b9157c"
    },
    {
      "cell_type": "code",
      "metadata": {},
      "source": [
        "fig.set_size_inches(10, 10)\n",
        "fig.set_dpi(300)\n",
        "plt.plot([1, 2, 3], [0, 0.5, 0.2])"
      ],
      "id": "95daee40",
      "execution_count": null,
      "outputs": []
    },
    {
      "cell_type": "markdown",
      "metadata": {},
      "source": [
        "You may use `fig.savefig('filename.png')` to save the image into a file.\n",
        "\n",
        "\n",
        "### Downstream packages\n",
        "There are multiple packages depending on `matplotlib` to provide plotting. For example, you may directly plot from a Pandas DataFrame or a Pandas Series.\n",
        "\n",
        "::: {#exm-}\n"
      ],
      "id": "4d77096d"
    },
    {
      "cell_type": "code",
      "metadata": {},
      "source": [
        "import pandas as pd\n",
        "import numpy as np\n",
        "s = pd.Series(np.random.randn(10).cumsum(), index=np.arange(0, 100, 10))\n",
        "s.plot()"
      ],
      "id": "d014f3cf",
      "execution_count": null,
      "outputs": []
    },
    {
      "cell_type": "code",
      "metadata": {},
      "source": [
        "df = pd.DataFrame(np.random.randn(10, 4).cumsum(0),\n",
        "                  columns=['A', 'B', 'C', 'D'],\n",
        "                  index=np.arange(0, 100, 10))\n",
        "df.plot()"
      ],
      "id": "46e60c8f",
      "execution_count": null,
      "outputs": []
    },
    {
      "cell_type": "markdown",
      "metadata": {},
      "source": [
        ":::\n",
        "\n",
        "\n",
        "### plotting \n",
        "#### `plt.plot()`\n",
        "This is the command for line plotting. You may use `linestyle='--'` and `color='g'` to control the line style and color. The style can be shortened as `g--`. \n",
        "\n",
        "Here is a list of commonly used linestyles and colors.\n",
        "\n",
        "- line styles\n",
        "    - `solid` or `-`\n",
        "    - `dashed` or `--`\n",
        "    - `dashdot` or `-.`\n",
        "    - `dotted` or `:`\n",
        "- marker styles\n",
        "    - `o` as circle markers\n",
        "    - `+` as plusses\n",
        "    - `^` as triangles\n",
        "    - `s` as squares\n",
        "- colors\n",
        "    - `b` as blue\n",
        "    - `g` as green\n",
        "    - `r` as red\n",
        "    - `k` as black\n",
        "    - `w` as white\n",
        "\n",
        "The input of `plt.plot()` is two lists `x` and `y`. If there is only one list inputed, that one will be recognized as `y` and the index of elements of `y` will be used as the dafault `x`.\n",
        "\n",
        "\n",
        "::: {#exm-plot1}\n"
      ],
      "id": "a0c02756"
    },
    {
      "cell_type": "code",
      "metadata": {},
      "source": [
        "plt.plot(np.random.randn(30).cumsum(), color='r', linestyle='--', marker='o')"
      ],
      "id": "eedc1d97",
      "execution_count": null,
      "outputs": []
    },
    {
      "cell_type": "markdown",
      "metadata": {},
      "source": [
        "You may compare it with this [Example](#exm-plotwithsns) for the purpose of `seaborn` from next Section.\n",
        ":::\n",
        "\n",
        "#### `plt.bar()` and `plt.barh()`\n",
        "The two commands make vertical and horizontal bar plots, respectively.\n",
        "::: {#exm-}\n"
      ],
      "id": "06e85a17"
    },
    {
      "cell_type": "code",
      "metadata": {},
      "source": [
        "import pandas as pd\n",
        "data = pd.Series(np.random.rand(16), index=list('abcdefghijklmnop'))\n",
        "\n",
        "fig, axes = plt.subplots(2, 1)\n",
        "axes[0].bar(x=data.index, height=data, color='k', alpha=0.7)\n",
        "axes[1].barh(y=data.index, width=data, color='b', alpha=0.7)"
      ],
      "id": "e5b711c8",
      "execution_count": null,
      "outputs": []
    },
    {
      "cell_type": "markdown",
      "metadata": {},
      "source": [
        "We may also directly plot the bar plot from the Series. \n"
      ],
      "id": "d21cc2c0"
    },
    {
      "cell_type": "code",
      "metadata": {},
      "source": [
        "fig, axes = plt.subplots(2, 1)\n",
        "data.plot.bar(ax=axes[0], color='k', alpha=0.7)\n",
        "data.plot.barh(ax=axes[1], color='b', alpha=0.7)"
      ],
      "id": "1ec31bff",
      "execution_count": null,
      "outputs": []
    },
    {
      "cell_type": "markdown",
      "metadata": {},
      "source": [
        ":::\n",
        "\n",
        "\n",
        "\n",
        "With a DataFrame, bar plots group the values in each row together in a group in bars. This is easier if we directly plot from the DataFrame.\n",
        "\n",
        "::: {#exm-}\n"
      ],
      "id": "ee7c7693"
    },
    {
      "cell_type": "code",
      "metadata": {},
      "source": [
        "df = pd.DataFrame(np.random.rand(6, 4),\n",
        "                  index=['one', 'two', 'three', 'four', 'five', 'six'],\n",
        "                  columns=pd.Index(['A', 'B', 'C', 'D'], name='Genus'))\n",
        "df"
      ],
      "id": "4d5578fa",
      "execution_count": null,
      "outputs": []
    },
    {
      "cell_type": "code",
      "metadata": {},
      "source": [
        "df.plot.bar()"
      ],
      "id": "20e566bd",
      "execution_count": null,
      "outputs": []
    },
    {
      "cell_type": "code",
      "metadata": {},
      "source": [
        "df.plot.barh(stacked=True, alpha=0.5)"
      ],
      "id": "dbfc2858",
      "execution_count": null,
      "outputs": []
    },
    {
      "cell_type": "markdown",
      "metadata": {},
      "source": [
        ":::\n",
        "\n",
        "#### `plt.scatter()`\n",
        "\n",
        "\n",
        "::: {#exm-}\n"
      ],
      "id": "79f2fd9a"
    },
    {
      "cell_type": "code",
      "metadata": {},
      "source": [
        "import numpy as np\n",
        "\n",
        "N = 100\n",
        "data = 0.9 * np.random.rand(N, 2)\n",
        "area = (20 * np.random.rand(N))**2 \n",
        "c = np.sqrt(area)\n",
        "plt.scatter(data[:, 0], data[:, 1], s=area, marker='^', c=c)"
      ],
      "id": "fbd10ab4",
      "execution_count": null,
      "outputs": []
    },
    {
      "cell_type": "markdown",
      "metadata": {},
      "source": [
        ":::\n",
        "\n",
        "\n",
        "#### `plt.hist()`\n",
        "Here are two plots with build-in statistics. The plot command will have statistics as outputs. To disable it we could send the outputs to a temporary variable `_`.\n",
        "::: {#exm-histogram1}"
      ],
      "id": "1ca1f13e"
    },
    {
      "cell_type": "code",
      "metadata": {},
      "source": [
        "mu, sigma = 100, 15\n",
        "x = mu + sigma * np.random.randn(10000)\n",
        "y = mu-30 + sigma*2 * np.random.randn(10000)\n",
        "_ = plt.hist(x, 50, density=True, facecolor='g', alpha=0.75)\n",
        "_ = plt.hist(y, 50, density=True, facecolor='r', alpha=0.75)"
      ],
      "id": "d8d60bcb",
      "execution_count": null,
      "outputs": []
    },
    {
      "cell_type": "markdown",
      "metadata": {},
      "source": [
        ":::\n",
        "\n",
        "\n",
        "### `plt.boxplot()`\n",
        "\n",
        "::: {#exm-}"
      ],
      "id": "44c18ec6"
    },
    {
      "cell_type": "code",
      "metadata": {},
      "source": [
        "spread = np.random.rand(50) * 100\n",
        "center = np.ones(30) * 50\n",
        "flier_high = np.random.rand(10) * 100 + 100\n",
        "flier_low = np.random.rand(10) * -100\n",
        "data = np.concatenate((spread, center, flier_high, flier_low)).reshape(50, 2)\n",
        "\n",
        "_ = plt.boxplot(data, flierprops={'markerfacecolor': 'g', 'marker': 'D'})"
      ],
      "id": "ec50908d",
      "execution_count": null,
      "outputs": []
    },
    {
      "cell_type": "markdown",
      "metadata": {},
      "source": [
        ":::\n",
        "\n",
        "### Titles, labels and legends\n",
        "\n",
        "- Titles\n",
        "    - `plt.title(label)`, `plt.xlabel(label)`, `plt.ylabel(label)` will set the title/xlabel/ylabel.\n",
        "    - `ax.set_title(label)`, `ax.set_xlabel(label)`, `ax.set_ylabel(label)` will do the same thing.\n",
        "- Labels\n",
        "    - `plt` methods\n",
        "        - `xlim()`, `ylim()`, `xticks()`, `yticks()`, `xticklabels()`, `yticklabels()`\n",
        "        - all the above with arguments\n",
        "    - `ax` methods\n",
        "        - `get_xlim()`, `get_ylim()`, etc..\n",
        "        - `set_xlim()`, `set_ylim()`, etc..\n",
        "- Legneds\n",
        "    - First add `label` option to each piece when plotting, and then add `ax.legends()` or `plt.legends()` at the end to display the legends.\n",
        "    - You may use `handles, labels = ax.get_legend_handles_labels()` to get the handles and labels of the legends, and modify them if necessary.\n",
        "\n",
        "\n",
        "::: {#exm-}\n"
      ],
      "id": "058fcc73"
    },
    {
      "cell_type": "code",
      "metadata": {},
      "source": [
        "import numpy as np\n",
        "fig, ax = plt.subplots(1, 1)\n",
        "ax.plot(np.random.randn(1000).cumsum(), 'k', label='one')\n",
        "ax.plot(np.random.randn(1000).cumsum(), 'r--', label='two')\n",
        "ax.plot(np.random.randn(1000).cumsum(), 'b.', label='three')\n",
        "\n",
        "ax.set_title('Example')\n",
        "ax.set_xlabel('x')\n",
        "ax.set_ylabel('y')\n",
        "\n",
        "ax.set_yticks([-40, 0, 40])\n",
        "ax.set_yticklabels(['good', 'bad', 'ugly'])\n",
        "\n",
        "ax.legend(loc='best')"
      ],
      "id": "78fb24a7",
      "execution_count": null,
      "outputs": []
    },
    {
      "cell_type": "markdown",
      "metadata": {},
      "source": [
        ":::\n",
        "\n",
        "### Annotations\n",
        "\n",
        "- The command to add simple annotations is `ax.text()`. The required auguments are the coordinates of the text and the text itself. You may add several options to modify the style.\n",
        "- If arrows are needed, we may use `ax.annotation()`. Here an arrow will be shown from `xytext` to `xy`. The style of the arrow is controlled by the option `arrowprops`.\n",
        "\n",
        "\n",
        "::: {#exm-}\n"
      ],
      "id": "b2ca88ed"
    },
    {
      "cell_type": "code",
      "metadata": {},
      "source": [
        "fig, ax = plt.subplots(figsize=(5, 5))\n",
        "ax.plot(np.random.randn(1000).cumsum(), 'k', label='one')\n",
        "ax.text(500, 0, 'Hello world!', family='monospace', fontsize=15, c='r')\n",
        "ax.annotate('test', xy=(400, 0), xytext=(400, -10), c='r',\n",
        "            arrowprops={'facecolor': 'black',\n",
        "                        'shrink': 0.05})"
      ],
      "id": "c4027ac1",
      "execution_count": null,
      "outputs": []
    },
    {
      "cell_type": "markdown",
      "metadata": {},
      "source": [
        ":::\n",
        "\n",
        "\n",
        "### Example\n",
        "\n",
        "::: {#exm-}\n",
        "The stock data can be downloaded from [here](assests/datasets/spx.csv). "
      ],
      "id": "7aff4953"
    },
    {
      "cell_type": "code",
      "metadata": {},
      "source": [
        "from datetime import datetime\n",
        "fig, ax = plt.subplots()\n",
        "data = pd.read_csv('assests/datasets/spx.csv', index_col=0, parse_dates=True)\n",
        "spx = data['SPX']\n",
        "spx.plot(ax=ax, style='k-')\n",
        "crisis_data = [(datetime(2007, 10, 11), 'Peak of bull market'),\n",
        "               (datetime(2008, 3, 12), 'Bear Stearns Fails'),\n",
        "               (datetime(2008, 9, 15), 'Lehman Bankruptcy')]\n",
        "for date, label in crisis_data:\n",
        "    ax.annotate(label, xy=(date, spx.asof(date) + 75),\n",
        "                xytext=(date, spx.asof(date) + 225),\n",
        "                arrowprops=dict(facecolor='black', headwidth=4, width=2,\n",
        "                                headlength=4),\n",
        "                horizontalalignment='left', verticalalignment='top')\n",
        "ax.set_xlim(['1/1/2007', '1/1/2011'])\n",
        "ax.set_ylim([600, 1800])\n",
        "_ = ax.set_title('Important dates in the 2008-2009 financial crisis')"
      ],
      "id": "b3dce667",
      "execution_count": null,
      "outputs": []
    },
    {
      "cell_type": "markdown",
      "metadata": {},
      "source": [
        ":::\n",
        "\n",
        "\n",
        "::: {#exm-}\n",
        "Here is an example of arrows with different shapes. For more details please read the official [document](https://matplotlib.org/stable/tutorials/text/annotations.html#annotating-with-arrow)."
      ],
      "id": "e45628d9"
    },
    {
      "cell_type": "code",
      "metadata": {},
      "source": [
        "fig, ax = plt.subplots()\n",
        "\n",
        "x = np.linspace(0, 20, 1000)\n",
        "ax.plot(x, np.cos(x))\n",
        "ax.axis('equal')\n",
        "\n",
        "ax.annotate('local maximum', xy=(6.28, 1), xytext=(10, 4),\n",
        "            arrowprops=dict(facecolor='black', shrink=0.05))\n",
        "\n",
        "ax.annotate('local minimum', xy=(5 * np.pi, -1), xytext=(2, -6),\n",
        "            arrowprops=dict(arrowstyle=\"->\",\n",
        "                            connectionstyle=\"angle3,angleA=0,angleB=-90\",\n",
        "                            color='r'))"
      ],
      "id": "cb5a5ba1",
      "execution_count": null,
      "outputs": []
    },
    {
      "cell_type": "markdown",
      "metadata": {},
      "source": [
        ":::\n",
        "\n",
        "\n",
        "## `seaborn`\n",
        "\n",
        "There are some new libraries built upon `matplotlib`, and `seaborn` is one of them. `seaborn` is for statistical graphics. \n",
        "\n",
        "`seaborn` is used imported in the following way.\n"
      ],
      "id": "ba100fa9"
    },
    {
      "cell_type": "code",
      "metadata": {},
      "source": [
        "import seaborn as sns"
      ],
      "id": "cc713be3",
      "execution_count": null,
      "outputs": []
    },
    {
      "cell_type": "code",
      "metadata": {},
      "source": [
        "#| echo: false\n",
        "import matplotlib.pyplot as plt\n",
        "import numpy as np\n",
        "import pandas as pd"
      ],
      "id": "b29baaf4",
      "execution_count": null,
      "outputs": []
    },
    {
      "cell_type": "markdown",
      "metadata": {},
      "source": [
        "`seaborn` also modifies the default `matplotlib` color schemes and plot styles to improve readability and aesthetics. Even if you do not use the `seaborn` API, you may prefer to import `seaborn` as a simple way to improve the visual aesthetics of general `matplotlib` plots.\n",
        "\n",
        "To apply `sns` theme, run the following code.\n"
      ],
      "id": "01bab101"
    },
    {
      "cell_type": "code",
      "metadata": {},
      "source": [
        "sns.set_theme()"
      ],
      "id": "6c288596",
      "execution_count": null,
      "outputs": []
    },
    {
      "cell_type": "markdown",
      "metadata": {},
      "source": [
        "Let us directly run a few codes from the last section and compare the differences between them.\n",
        "\n",
        "\n",
        "\n",
        "::: {#exm-plotwithsns}\n"
      ],
      "id": "9836d061"
    },
    {
      "cell_type": "code",
      "metadata": {},
      "source": [
        "plt.plot(np.random.randn(30).cumsum(), color='r', linestyle='--', marker='o')"
      ],
      "id": "026939c2",
      "execution_count": null,
      "outputs": []
    },
    {
      "cell_type": "markdown",
      "metadata": {},
      "source": [
        "Please compare the output of the same code with [the previous example](#exm-plot1)\n",
        ":::\n",
        "\n",
        "\n",
        "### Scatter plots with `relplot()`\n",
        "\n",
        "The basic scatter plot method is `scatterplot()`. It is wrapped in `relplot()` as the default plotting method. So here we will mainly talk about `relplot()`. It is named that way because it is designed to visualize many different statistical relationships. \n",
        "\n",
        "The idea of `relplot()` is to display points based on the variables `x` and `y` you choose, and assign different properties to alter the apperance of the points. \n",
        "\n",
        "- `col` will create multiple plots based on the column you choose.\n",
        "- `hue` is for color encoding, based on the column you choose.\n",
        "- `size` will change the marker area, based on the column you choose.\n",
        "- `style` will change the marker symbol, based on the column you choose.\n",
        "\n",
        "\n",
        "::: {#exm-}\n",
        "Consider the following example. `tips` is a DataFrame, which is shown below.\n"
      ],
      "id": "45a32ab2"
    },
    {
      "cell_type": "code",
      "metadata": {},
      "source": [
        "import seaborn as sns\n",
        "tips = sns.load_dataset(\"tips\")\n",
        "tips"
      ],
      "id": "b6ae9d73",
      "execution_count": null,
      "outputs": []
    },
    {
      "cell_type": "code",
      "metadata": {},
      "source": [
        "sns.relplot(data=tips,\n",
        "            x=\"total_bill\", y=\"tip\", col=\"time\",\n",
        "            hue=\"smoker\", style=\"smoker\", size=\"size\")"
      ],
      "id": "869e0a0f",
      "execution_count": null,
      "outputs": []
    },
    {
      "cell_type": "markdown",
      "metadata": {},
      "source": [
        ":::\n",
        "\n",
        "The default type of plots for `relplot()` is scatter plots. However you may change it to line plot by setting `kind='line'`.\n",
        "\n",
        "\n",
        "::: {#exm-}\n"
      ],
      "id": "b97de33a"
    },
    {
      "cell_type": "code",
      "metadata": {},
      "source": [
        "dots = sns.load_dataset(\"dots\")\n",
        "sns.relplot(data=dots, kind=\"line\",\n",
        "            x=\"time\", y=\"firing_rate\", col=\"align\",\n",
        "            hue=\"choice\", size=\"coherence\", style=\"choice\",\n",
        "            facet_kws=dict(sharex=False))"
      ],
      "id": "7bf6d331",
      "execution_count": null,
      "outputs": []
    },
    {
      "cell_type": "markdown",
      "metadata": {},
      "source": [
        ":::\n",
        "\n",
        "### `regplot()`\n",
        "This method is a combination between scatter plots and linear regression.\n",
        "\n",
        "::: {#exm-}\n",
        "We still use `tips` as an example."
      ],
      "id": "1a42bffe"
    },
    {
      "cell_type": "code",
      "metadata": {},
      "source": [
        "sns.regplot(x='total_bill', y='tip', data=tips)"
      ],
      "id": "8d6a9ecc",
      "execution_count": null,
      "outputs": []
    },
    {
      "cell_type": "markdown",
      "metadata": {},
      "source": [
        ":::\n",
        "\n",
        "\n",
        "### `pairplot()`\n",
        "This is a way to display the pairwise relations among several variables. \n",
        "\n",
        "::: {#exm-}\n",
        "The following code shows the pairplots among all numeric data in `tips`."
      ],
      "id": "1ac8e440"
    },
    {
      "cell_type": "code",
      "metadata": {},
      "source": [
        "sns.pairplot(tips, diag_kind='kde', plot_kws={'alpha': 0.2})"
      ],
      "id": "e07e2ec9",
      "execution_count": null,
      "outputs": []
    },
    {
      "cell_type": "markdown",
      "metadata": {},
      "source": [
        ":::\n",
        "\n",
        "\n",
        "### `barplot`\n",
        "\n",
        "\n",
        "::: {#exm-}\n"
      ],
      "id": "ddab3829"
    },
    {
      "cell_type": "code",
      "metadata": {},
      "source": [
        "sns.barplot(x='total_bill', y='day', data=tips, orient='h')"
      ],
      "id": "2e7faa04",
      "execution_count": null,
      "outputs": []
    },
    {
      "cell_type": "markdown",
      "metadata": {},
      "source": [
        "In the plot, there are several `total_bill` during each `day`. The value in the plot is the average of `total_bill` in each `day`, and the black line stands for the `95%` confidence interval.\n"
      ],
      "id": "a10c3c54"
    },
    {
      "cell_type": "code",
      "metadata": {},
      "source": [
        "sns.barplot(x='total_bill', y='day', hue='time', data=tips, orient='h')"
      ],
      "id": "598cf0a4",
      "execution_count": null,
      "outputs": []
    },
    {
      "cell_type": "markdown",
      "metadata": {},
      "source": [
        "In this plot, lunch and dinner are distinguished by colors.\n",
        ":::\n",
        "\n",
        "### Histogram\n",
        "\n",
        "::: {#exm-}\n"
      ],
      "id": "619ba027"
    },
    {
      "cell_type": "code",
      "metadata": {},
      "source": [
        "mu, sigma = 100, 15\n",
        "x = mu + sigma * np.random.randn(10000)\n",
        "y = mu-30 + sigma*2 * np.random.randn(10000)\n",
        "df = pd.DataFrame(np.array([x,y]).T)\n",
        "sns.histplot(df, bins=100, kde=True)"
      ],
      "id": "bf889220",
      "execution_count": null,
      "outputs": []
    },
    {
      "cell_type": "markdown",
      "metadata": {},
      "source": [
        "Please compare this plot with [this Example](#exm-histogram1)\n",
        ":::\n",
        "\n",
        "\n",
        "## Examples\n",
        "\n",
        "\n",
        "### Example 1: `USA.gov` Data From `Bitly`\n",
        "In 2011, URL shortening service `Bitly` partnered with the US government website\n",
        "`USA.gov` to provide a feed of anonymous data gathered from users who shorten links\n",
        "ending with `.gov` or `.mil`. The data is gotten from @McK2017.\n",
        "\n",
        "The data file can be downloaded from [here](assests/datasets/example.txt). The file is mostly in JSON. It can be converted into a DataFrame by the following code."
      ],
      "id": "bafad253"
    },
    {
      "cell_type": "code",
      "metadata": {},
      "source": [
        "import pandas as pd\n",
        "import numpy as np\n",
        "import json\n",
        "path = 'assests/datasets/example.txt'\n",
        "df = pd.DataFrame([json.loads(line) for line in open(path)])"
      ],
      "id": "d5167a0f",
      "execution_count": null,
      "outputs": []
    },
    {
      "cell_type": "markdown",
      "metadata": {},
      "source": [
        "We mainly use `tz` and `a` columns. So let us clean it.\n"
      ],
      "id": "8b0ff662"
    },
    {
      "cell_type": "code",
      "metadata": {},
      "source": [
        "#| warning: false\n",
        "df['tz'] = df['tz'].fillna('Missing')\n",
        "df['tz'][df['tz'] == ''] = 'Unknown'\n",
        "df['a'] = df['a'].fillna('Missing')\n",
        "df['a'][df['a'] == ''] = 'Unknown'"
      ],
      "id": "b33e4024",
      "execution_count": null,
      "outputs": []
    },
    {
      "cell_type": "markdown",
      "metadata": {},
      "source": [
        "We first want to extract the timezone infomation from it. The timezone info is in the column `tz`.\n"
      ],
      "id": "cbf988cb"
    },
    {
      "cell_type": "code",
      "metadata": {},
      "source": [
        "tzone = df['tz']\n",
        "tvc = tzone.value_counts()\n",
        "tvc"
      ],
      "id": "c53078e2",
      "execution_count": null,
      "outputs": []
    },
    {
      "cell_type": "markdown",
      "metadata": {},
      "source": [
        "After cleaning data, we would like to visulize the value counts.\n"
      ],
      "id": "86a97cc4"
    },
    {
      "cell_type": "code",
      "metadata": {},
      "source": [
        "import seaborn as sns\n",
        "sns.barplot(x=tvc[:10].values, y=tvc[:10].index)"
      ],
      "id": "313d55fa",
      "execution_count": null,
      "outputs": []
    },
    {
      "cell_type": "markdown",
      "metadata": {},
      "source": [
        "We then would like to extract information from the column `a`. This column is about the agent of the connection. The important info is the part before the space `' '`.\n"
      ],
      "id": "cc43dd9d"
    },
    {
      "cell_type": "code",
      "metadata": {},
      "source": [
        "agent = df['a']\n",
        "agent = agent.str.split(' ').str[0]\n",
        "avc = agent.value_counts()\n",
        "avc[:10]"
      ],
      "id": "69019588",
      "execution_count": null,
      "outputs": []
    },
    {
      "cell_type": "markdown",
      "metadata": {},
      "source": [
        "Now let us assume that, if `Windows` appears in column `a` the user is using `Windows` os, if not then not. In this case, the os can be detected by the following code.\n"
      ],
      "id": "c30ef85d"
    },
    {
      "cell_type": "code",
      "metadata": {},
      "source": [
        "df['os'] = np.where(df['a'].str.contains('Windows'), 'Windows', 'Not Windows')"
      ],
      "id": "a1dd7c70",
      "execution_count": null,
      "outputs": []
    },
    {
      "cell_type": "markdown",
      "metadata": {},
      "source": [
        "Now we can make a bar plot about the counts based on `os` and `timezone`.\n"
      ],
      "id": "6a326ba7"
    },
    {
      "cell_type": "code",
      "metadata": {},
      "source": [
        "tz_os_counts = df.groupby(['tz', 'os']).size().unstack().fillna(0)\n",
        "tz_os_counts.head()"
      ],
      "id": "61fee543",
      "execution_count": null,
      "outputs": []
    },
    {
      "cell_type": "markdown",
      "metadata": {},
      "source": [
        "We then turn it into a DataFrame using the `.stack()`, `.unstack()` tricks.\n"
      ],
      "id": "d24b0d24"
    },
    {
      "cell_type": "code",
      "metadata": {},
      "source": [
        "tovc = tz_os_counts.stack()[tz_os_counts.sum(axis=1).nlargest(10).index]\n",
        "tovc.name = 'count'\n",
        "dftovc = pd.DataFrame(tovc).reset_index()"
      ],
      "id": "1c14fa31",
      "execution_count": null,
      "outputs": []
    },
    {
      "cell_type": "markdown",
      "metadata": {},
      "source": [
        "Finally we may draw the bar plot.\n"
      ],
      "id": "cff40120"
    },
    {
      "cell_type": "code",
      "metadata": {},
      "source": [
        "sns.barplot(x='count', y='tz', hue='os', data=dftovc)"
      ],
      "id": "d04e42c2",
      "execution_count": null,
      "outputs": []
    },
    {
      "cell_type": "markdown",
      "metadata": {},
      "source": [
        "### Example 2: US Baby Names 1880–2010\n",
        "The United States Social Security Administration (SSA) has made available data on the frequency of baby names from 1880 through the present. Hadley Wickham, an author of several popular R packages, has often made use of this dataset in illustrating data manipulation in `R`. The dataset can be downloaded from [here](assests/datasets/babynames.zip) as a zip file. Please unzip it and put it in your working folder.\n",
        "\n",
        "In the folder there are 131 `.txt` files. The naming scheme is `yob` + the year. Each file contains 3 columns: `name`, `gender`, and `counts`. We would like to add a column `year`, and combine all files into a single DataFrame. In our example, the year is from 1880 to 2010.\n"
      ],
      "id": "e35c44f7"
    },
    {
      "cell_type": "code",
      "metadata": {},
      "source": [
        "#| eval: false\n",
        "import pandas as pd\n",
        "\n",
        "path = 'assests/datasets/babynames/'\n",
        "dflist = list()\n",
        "for year in range(1880, 2011):\n",
        "    filename = path + 'yob' + str(year) + '.txt'\n",
        "    df = pd.read_csv(filename, names=['name', 'gender', 'counts'])\n",
        "    df['year'] = year\n",
        "    dflist.append(df)\n",
        "df = pd.concat(dflist, ignore_index=True)"
      ],
      "id": "e552b8a9",
      "execution_count": null,
      "outputs": []
    },
    {
      "cell_type": "markdown",
      "metadata": {},
      "source": [
        "We can plot the total births by sex and year.\n"
      ],
      "id": "8533c8af"
    },
    {
      "cell_type": "code",
      "metadata": {},
      "source": [
        "#| eval: false\n",
        "import seaborn as sns\n",
        "\n",
        "sns.relplot(data=df.groupby(['gender', 'year']).sum().reset_index(),\n",
        "            x='year', y='counts', hue='gender', kind='line')"
      ],
      "id": "03677151",
      "execution_count": null,
      "outputs": []
    },
    {
      "cell_type": "code",
      "metadata": {},
      "source": [
        "#| echo: false\n",
        "import seaborn as sns\n",
        "sns.set_theme()\n",
        "dfgy = pd.read_csv('assests/datasets/gy.csv')\n",
        "sns.relplot(data=dfgy,\n",
        "            x='year', y='counts', hue='gender', kind='line')"
      ],
      "id": "7cd87a64",
      "execution_count": null,
      "outputs": []
    },
    {
      "cell_type": "markdown",
      "metadata": {},
      "source": [
        "For further analysis, we would like to compute the proportions of each name relative to the total number of births per year per gender. \n"
      ],
      "id": "bb2e82f4"
    },
    {
      "cell_type": "code",
      "metadata": {},
      "source": [
        "#| eval: false\n",
        "def add_prop(group):\n",
        "    group['prop'] = group.counts / group.counts.sum()\n",
        "    return group\n",
        "\n",
        "df = df.groupby(['gender', 'year']).apply(add_prop)\n",
        "df.head()"
      ],
      "id": "f4cf49c2",
      "execution_count": null,
      "outputs": []
    },
    {
      "cell_type": "code",
      "metadata": {},
      "source": [
        "#| echo: false\n",
        "babydf5 = pd.read_csv('assests/datasets/babydf5.csv')\n",
        "babydf5"
      ],
      "id": "40ef3e49",
      "execution_count": null,
      "outputs": []
    },
    {
      "cell_type": "markdown",
      "metadata": {},
      "source": [
        "Now we would like to keep the first 100 names in each year, and save it as a new DataFrame `top100`.\n"
      ],
      "id": "192c4c1d"
    },
    {
      "cell_type": "code",
      "metadata": {},
      "source": [
        "#| eval: false\n",
        "top100 = (\n",
        "    df.groupby(['year', 'gender'])\n",
        "    .apply(lambda x: df.loc[x['counts'].nlargest(100).index])\n",
        "    .drop(columns=['year', 'gender'])\n",
        "    .reset_index()\n",
        "    .drop(columns='level_2')\n",
        ")\n",
        "top100.head()"
      ],
      "id": "b267f943",
      "execution_count": null,
      "outputs": []
    },
    {
      "cell_type": "code",
      "metadata": {},
      "source": [
        "#| echo: false\n",
        "dftop100 = pd.read_csv('assests/datasets/baby100.csv')\n",
        "dftop100"
      ],
      "id": "85948377",
      "execution_count": null,
      "outputs": []
    },
    {
      "cell_type": "markdown",
      "metadata": {},
      "source": [
        "Note that `level_2` is related to the original index after `reset_index()`. That's why we don't need it here.\n",
        "\n",
        "Now we would like to draw the trend of some names.\n"
      ],
      "id": "d341d8c3"
    },
    {
      "cell_type": "code",
      "metadata": {},
      "source": [
        "#| eval: false\n",
        "namelist = ['John', 'Harry', 'Mary']\n",
        "sns.relplot(data=top100[top100['name'].isin(namelist)],\n",
        "            x='year', y='counts', hue='name', kind='line')"
      ],
      "id": "22a55604",
      "execution_count": null,
      "outputs": []
    },
    {
      "cell_type": "code",
      "metadata": {},
      "source": [
        "#| echo: false\n",
        "babynamelist = pd.read_csv('assests/datasets/babynamelist.csv')\n",
        "sns.relplot(data=babynamelist,\n",
        "            x='year', y='counts', hue='name', kind='line')"
      ],
      "id": "80931cfc",
      "execution_count": null,
      "outputs": []
    },
    {
      "cell_type": "markdown",
      "metadata": {},
      "source": [
        "Now we would like to analyze the ending of names.\n"
      ],
      "id": "64251be2"
    },
    {
      "cell_type": "code",
      "metadata": {},
      "source": [
        "#| eval: false\n",
        "df['ending'] = df['name'].str[-1]\n",
        "endingcount = df.groupby(['gender', 'year', 'ending']).sum().reset_index()"
      ],
      "id": "1131dbc6",
      "execution_count": null,
      "outputs": []
    },
    {
      "cell_type": "markdown",
      "metadata": {},
      "source": [
        "We would like to draw barplots to show the distributions in year 1910, 1960 and 2010.\n"
      ],
      "id": "0f02090b"
    },
    {
      "cell_type": "code",
      "metadata": {},
      "source": [
        "#| eval: false\n",
        "certainyear = endingcount[endingcount['year'].isin([1910, 1960, 2010])]\n",
        "import matplotlib.pyplot as plt\n",
        "\n",
        "fig, axs = plt.subplots(2, 1, figsize=(10,7))\n",
        "sns.barplot(data=certainyear[endingcount['gender']=='M'],\n",
        "            x='ending', y='prop', hue='year', ax=axs[0])\n",
        "sns.barplot(data=certainyear[endingcount['gender']=='F'],\n",
        "            x='ending', y='prop', hue='year', ax=axs[1]).legend_.remove()"
      ],
      "id": "b30fc2cf",
      "execution_count": null,
      "outputs": []
    },
    {
      "cell_type": "code",
      "metadata": {},
      "source": [
        "#| echo: false\n",
        "babyyear = pd.read_csv('assests/datasets/babyyear.csv')\n",
        "import matplotlib.pyplot as plt\n",
        "\n",
        "fig, axs = plt.subplots(2, 1, figsize=(10,7))\n",
        "sns.barplot(data=babyyear[babyyear['gender']=='M'],\n",
        "            x='ending', y='prop', hue='year', ax=axs[0])\n",
        "sns.barplot(data=babyyear[babyyear['gender']=='F'],\n",
        "            x='ending', y='prop', hue='year', ax=axs[1]).legend_.remove()"
      ],
      "id": "746a3c36",
      "execution_count": null,
      "outputs": []
    },
    {
      "cell_type": "markdown",
      "metadata": {},
      "source": [
        "We would also like to draw the line plot to show the trending of certain letters through years.\n"
      ],
      "id": "cc20074e"
    },
    {
      "cell_type": "code",
      "metadata": {},
      "source": [
        "#| eval: false\n",
        "sns.relplot(data=endingcount[endingcount.ending.isin(['d', 'n', 'y'])],\n",
        "            x='year', y='prop', hue='ending', kind='line')"
      ],
      "id": "f69f01bb",
      "execution_count": null,
      "outputs": []
    },
    {
      "cell_type": "code",
      "metadata": {},
      "source": [
        "#| echo: false\n",
        "babyending = pd.read_csv('assests/datasets/babyending.csv')\n",
        "sns.relplot(data=babyending[babyending.ending.isin(['d', 'n', 'y'])],\n",
        "            x='year', y='prop', hue='ending', kind='line')"
      ],
      "id": "31b9134c",
      "execution_count": null,
      "outputs": []
    },
    {
      "cell_type": "markdown",
      "metadata": {},
      "source": [
        "## Exercises\n",
        "\n",
        "\n",
        "\n",
        "::: {#exr-}\n",
        "Please download the `mtcars` file from [here](assests/datasets/mtcars.csv) and read it as a DataFrame. Then create a scatter plot of the `drat` and `wt` variables from `mtcars` and color the dots by the `carb` variable. \n",
        ":::\n",
        "\n",
        "\n",
        "::: {#exr-}\n",
        "Please consider the baby name dataset. Please draw the trends of counts of names ending in `a`, `e`, `n` across years for each gender.\n",
        ":::\n",
        "\n",
        "## Projects\n",
        "\n",
        "\n",
        "\n",
        "::: {#exr-}\n",
        "Please read the file as a DataFrame from [here](assests/datasets/QSR.csv). This is the Dining satisfaction with quick service restaurants questionare data provided by Dr. Siri McDowall, supported by DART SEED grant.\n",
        "\n",
        "1. Please pick out all rating columns. Excluding `last.visit`, `visit.again` and `recommend`, compute the mean of the rest and add it to the DataFrame as a new column.\n",
        "2. Use a plot to show the relations among these four columns:  `last.visit`, `visit.again`, `recommend` and `mean`.\n",
        "3. Look at the column `Profession`. Keep `Student`, and change everything else to be `Professional`, and add it as a new column `Status` to the DataFrame.\n",
        "4. Draw the histogram of `mean` with respect to `Status`.\n",
        "5. Find the counts of each `recommend` rating for each `Status` and draw the barplot. Do the same to `last.visit`/`Status` and `visit.again`/`Status`.\n",
        "6. Exploer the dataset and draw one plot.\n",
        ":::\n",
        "\n",
        "\n",
        "\n",
        "::: {#exr-}\n",
        "Please use the baby name dataset. We would like to consider the diversity of the names. Please compute the number of popular names in top 50% for each year each gender. Draw a line plot to show the trend and discuss the result.\n",
        ":::\n"
      ],
      "id": "cb215431"
    }
  ],
  "metadata": {
    "kernelspec": {
      "name": "base23",
      "language": "python",
      "display_name": "Python (3.10)"
    }
  },
  "nbformat": 4,
  "nbformat_minor": 5
}