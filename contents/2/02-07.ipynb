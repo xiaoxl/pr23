{
  "cells": [
    {
      "cell_type": "markdown",
      "metadata": {},
      "source": [
        "## Examples\n",
        "\n",
        "### Monty Hall problem\n",
        "\n",
        "\n",
        "The Monty Hall problem is a brain teaser, in the form of a probability puzzle, loosely based on the American television game show *Let's Make a Deal* and named after its original host, Monty Hall. The problem is stated as follows:\n",
        "\n",
        "Suppose you're on a game show, and you're given the choice of three doors: Behind one door is a car; behind the others, goats. You pick a door, say No. 1, and the host, who knows what's behind the doors, opens another door, say No. 3, which has a goat. He then says to you, \"Do you want to pick door No. 2?\" Is it to your advantage to switch your choice?\n",
        "\n",
        "\n",
        "We would like to use code to simulate this process. Here are the steps. \n",
        "\n",
        "\n",
        "::: {.callout-note collapse=\"true\"}\n",
        "## Setup\n",
        "We use `1`, `2`, `3` to denote the three doors. We could put it in a list `doors = [1, 2, 3]`. Later after the game, we may record our result. There are only two possibilites: remains with the initial choice wins or switch to the new choice wins. We may record the result in a dictionary `results={'remain': 0, 'switch': 0}`, and update the corresponding key after one game.\n"
      ],
      "id": "39f3e227"
    },
    {
      "cell_type": "code",
      "metadata": {},
      "source": [
        "doors = [1, 2, 3]\n",
        "results = {'remain': 0, 'switch': 0}"
      ],
      "id": "3989e76a",
      "execution_count": null,
      "outputs": []
    },
    {
      "cell_type": "markdown",
      "metadata": {},
      "source": [
        ":::\n",
        "\n",
        "\n",
        "::: {.callout-note collapse='true'}\n",
        "## 1. Put the car behind a door.\n",
        "We randomly pick one door and put the car behind it. \n",
        "\n",
        "\"Randomly pick\" can be done by `random.choice()`. What it does is to take a sample chosen from the list. In our case, we would like to take a sample from `doors`. Therefore we want to use `random.choice(doors)`. The output is the door we randomly pick to put the car. So we set it to a variable `door_with_car` to remind us.\n"
      ],
      "id": "3feb2ac0"
    },
    {
      "cell_type": "code",
      "metadata": {},
      "source": [
        "import random\n",
        "door_with_car = random.choice(doors)"
      ],
      "id": "421c6fd9",
      "execution_count": null,
      "outputs": []
    },
    {
      "cell_type": "markdown",
      "metadata": {},
      "source": [
        "This is a function in the package `random`. So to use it you should first `import random`. You may get more information from [the official document](https://docs.python.org/3/library/random.html#random.choice). \n",
        "\n",
        ":::\n",
        "\n",
        "\n",
        "::: {.callout-note collapse=\"true\"}\n",
        "## 2. Make the initial choice.\n",
        "We make our initial choice. We could also randomly pick one door as our initial choice. The code is similar to the previous one. \n"
      ],
      "id": "1adfb51b"
    },
    {
      "cell_type": "code",
      "metadata": {},
      "source": [
        "initial_choice = random.choice(doors)"
      ],
      "id": "fddf7803",
      "execution_count": null,
      "outputs": []
    },
    {
      "cell_type": "markdown",
      "metadata": {},
      "source": [
        ":::\n",
        "\n",
        "\n",
        "::: {.callout-note collapse=\"true\"}\n",
        "## 3. The host opens another door.\n",
        "Based on the door with car and our inital choice, the host chooses a door without car to open. This door is denoted by `door_host_open`.\n",
        "\n",
        "There are two possibility here:\n",
        "\n",
        "- If we haapen to pick the door with car, the host will randomly open one of the other two doors, since neither of them has car inside. In other words, we remove `door_with_car` from `doors`, and randomly pick one from the rest.\n",
        "- If we didn't pick the door with car, the car is in one of the other two doors, and the host has to open the other door. In other words, this door is the door that is neither `door_with_car` nor `initial_choice`.\n",
        "\n",
        "The above analysis can be translated directly into the following code.\n"
      ],
      "id": "fb1f62d7"
    },
    {
      "cell_type": "code",
      "metadata": {},
      "source": [
        "rest_doors = doors[:]\n",
        "if door_with_car == initial_choice:\n",
        "    rest_doors.remove(door_with_car)\n",
        "    door_host_open = random.choice(rest_doors)\n",
        "elif door_with_car != initial_choice:\n",
        "    rest_doors.remove(door_with_car)\n",
        "    rest_doors.remove(initial_choice)\n",
        "    door_host_open = random.choice(rest_doors)"
      ],
      "id": "5e575a9f",
      "execution_count": null,
      "outputs": []
    },
    {
      "cell_type": "markdown",
      "metadata": {},
      "source": [
        "Note that in this part, we directly remove elements from `doors`. Since we don't want to alter the original variable `doors`, and also `.remove()` works in-place, we make a copy of `doors` and call it `rest_doors` for us to remove doors. \n",
        "\n",
        "The code `[:]` is used to make copies of list. This may be the fastest way to copy plain `list` in Python.\n",
        ":::\n",
        "\n",
        "\n",
        "::: {.callout-note collapse=\"true\"}\n",
        "## 4. Check the result.\n",
        "After the host opens `door_host_open`, two doors are left: our initial choice and the door unopened. The door unopened is actually the door that is neither our initial choice or the door host opens. It is the only element in `tmpdoors` after removing `initial_choice` and `door_host_open`. So we could directly get it by calling index `0`. The code is as follows. Note that we make another copy of `doors` at the beginning due to the same reason as the previous step.\n"
      ],
      "id": "8c211539"
    },
    {
      "cell_type": "code",
      "metadata": {},
      "source": [
        "tmpdoors = doors[:]\n",
        "tmpdoors.remove(initial_choice)\n",
        "tmpdoors.remove(door_host_open)\n",
        "door_unopened = tmpdoors[0]"
      ],
      "id": "55a7fddb",
      "execution_count": null,
      "outputs": []
    },
    {
      "cell_type": "markdown",
      "metadata": {},
      "source": [
        "Then we could start the check the result. \n",
        "\n",
        "- If `door_with_car` equals `initial_choice`, remaining with the initial choice wins. \n",
        "- If `door_with_car` equals `door_unopened`, switching to the new door wins.\n",
        "We could update the result dictionary accordingly.\n"
      ],
      "id": "fcd9aecf"
    },
    {
      "cell_type": "code",
      "metadata": {},
      "source": [
        "if door_with_car == initial_choice:\n",
        "    winner = 'remain'\n",
        "elif door_with_car == door_unopened:\n",
        "    winner = 'switch'\n",
        "\n",
        "results[winner] = results[winner] + 1"
      ],
      "id": "36b3a38d",
      "execution_count": null,
      "outputs": []
    },
    {
      "cell_type": "markdown",
      "metadata": {},
      "source": [
        ":::\n",
        "\n",
        "\n",
        "\n",
        "::: {.callout-note collapse=\"true\"}\n",
        "## Put things together\n",
        "We now put the above steps together.\n"
      ],
      "id": "3b85c473"
    },
    {
      "cell_type": "code",
      "metadata": {},
      "source": [
        "import random\n",
        "doors = [1, 2, 3]\n",
        "results = {'remain': 0, 'switch': 0}\n",
        "\n",
        "door_with_car = random.choice(doors)\n",
        "initial_choice = random.choice(doors)\n",
        "\n",
        "rest_doors = doors[:]\n",
        "if door_with_car == initial_choice:\n",
        "    rest_doors.remove(door_with_car)\n",
        "    door_host_open = random.choice(rest_doors)\n",
        "elif door_with_car != initial_choice:\n",
        "    rest_doors.remove(door_with_car)\n",
        "    rest_doors.remove(initial_choice)\n",
        "    door_host_open = random.choice(rest_doors)\n",
        "\n",
        "tmpdoors = doors[:]\n",
        "tmpdoors.remove(initial_choice)\n",
        "tmpdoors.remove(door_host_open)\n",
        "door_unopened = tmpdoors[0]\n",
        "\n",
        "if door_with_car == initial_choice:\n",
        "    winner = 'remain'\n",
        "elif door_with_car == door_unopened:\n",
        "    winner = 'switch'\n",
        "\n",
        "results[winner] = results[winner] + 1"
      ],
      "id": "66b0101a",
      "execution_count": null,
      "outputs": []
    },
    {
      "cell_type": "markdown",
      "metadata": {},
      "source": [
        "The code can be simplified in multiple ways. However here I would like to show how to translate something directly into codes. So I will just keep it as it is.\n",
        ":::\n",
        "\n",
        "\n",
        "::: {.callout-note collapse=\"true\"}\n",
        "## Wrapped in a function\n",
        "The above game process can be wrapped in a function.\n"
      ],
      "id": "03468587"
    },
    {
      "cell_type": "code",
      "metadata": {},
      "source": [
        "import random\n",
        "\n",
        "def MontyHall():\n",
        "    doors = [1, 2, 3]\n",
        "\n",
        "    door_with_car = random.choice(doors)\n",
        "    initial_choice = random.choice(doors)\n",
        "\n",
        "    rest_doors = doors[:]\n",
        "    if door_with_car == initial_choice:\n",
        "        rest_doors.remove(door_with_car)\n",
        "        door_host_open = random.choice(rest_doors)\n",
        "    elif door_with_car != initial_choice:\n",
        "        rest_doors.remove(door_with_car)\n",
        "        rest_doors.remove(initial_choice)\n",
        "        door_host_open = random.choice(rest_doors)\n",
        "\n",
        "    tmpdoors = doors[:]\n",
        "    tmpdoors.remove(initial_choice)\n",
        "    tmpdoors.remove(door_host_open)\n",
        "    door_unopened = tmpdoors[0]\n",
        "\n",
        "    if door_with_car == initial_choice:\n",
        "        winner = 'remain'\n",
        "    elif door_with_car == door_unopened:\n",
        "        winner = 'switch'\n",
        "    return winner"
      ],
      "id": "d11d260c",
      "execution_count": null,
      "outputs": []
    },
    {
      "cell_type": "markdown",
      "metadata": {},
      "source": [
        ":::\n",
        "\n",
        "Now we may play the game by calling the function `MontyHall()`. The return value is the winner, which can be used to update `results`.\n"
      ],
      "id": "13b17076"
    },
    {
      "cell_type": "code",
      "metadata": {},
      "source": [
        "results = {'remain': 0, 'switch': 0}\n",
        "winner = MontyHall()\n",
        "results[winner] = results[winner] + 1"
      ],
      "id": "48d053df",
      "execution_count": null,
      "outputs": []
    },
    {
      "cell_type": "markdown",
      "metadata": {},
      "source": [
        "Then we may play the game multiple times, and see which strategy wins more. The following is the result of 100 games.\n"
      ],
      "id": "d9c0988d"
    },
    {
      "cell_type": "code",
      "metadata": {},
      "source": [
        "results = {'remain': 0, 'switch': 0}\n",
        "\n",
        "for i in range(100):\n",
        "    winner = MontyHall()\n",
        "    results[winner] = results[winner] + 1\n",
        "\n",
        "results"
      ],
      "id": "f539ca12",
      "execution_count": null,
      "outputs": []
    },
    {
      "cell_type": "markdown",
      "metadata": {},
      "source": [
        "From this result, you may guess that switch might be the better strategy.\n",
        "\n",
        "\n",
        "### `N`-door Monty Hall problem\n",
        "\n",
        "\n",
        "The Monty Hall problem can be modified to `N` doors. The host will open `N-2` doors which don't have the car behind, and only leave one door left for us to choose. What will you choose?\n",
        "\n",
        "We only need to modify our codes a little bit for the change. You may bring the idea \"there are `N` doors\" to the process mentioned above to see what should be modified. However when writing the code, you may still set `N=3` and change it later after you finish.\n",
        "\n",
        "::: {.callout-note collapse=\"true\"}\n",
        "## 1. Change `doors`\n",
        "<!-- The initial setup for `doors` becomes `list(range(1, N+1))`.\n"
      ],
      "id": "22402ee9"
    },
    {
      "cell_type": "markdown",
      "metadata": {},
      "source": [
        "N = 3\n",
        "doors = list(range(1, N+1))\n",
        "``` -->\n",
        ":::\n",
        "\n",
        "\n",
        "::: {.callout-note collapse=\"true\"}\n",
        "## 2. The host opens multiple doors\n",
        "<!-- The major change is that now the host has to open `N-2` to only leave one unopened door for us. In other words, during Step 3, we need to take a length `N-2` sample for the host to open. \n",
        "\n",
        "Using the package `random`, to take a length `N-2` sample, we could use the function `random.sample(L, N-2)`. Please go to [the official document](https://docs.python.org/3/library/random.html#random.sample) for more information."
      ],
      "id": "eb3a635e"
    },
    {
      "cell_type": "code",
      "metadata": {},
      "source": [
        "rest_doors = doors[:]\n",
        "if door_with_car == initial_choice:\n",
        "    rest_doors.remove(door_with_car)\n",
        "    door_host_open = random.sample(rest_doors, N-2)\n",
        "elif door_with_car != initial_choice:\n",
        "    rest_doors.remove(door_with_car)\n",
        "    rest_doors.remove(initial_choice)\n",
        "    door_host_open = random.sample(rest_doors, N-2)"
      ],
      "id": "172fdb93",
      "execution_count": null,
      "outputs": []
    },
    {
      "cell_type": "markdown",
      "metadata": {},
      "source": [
        "Note that the logic of the last line is similar to `N=3` case. The host has to open `N-2` doors that are neither `door_with_car` nor `initial_choice`. If the two doors are different, the host has to open all the rest doors. That's why `door_host_open = rest_doors`. -->\n",
        "\n",
        ":::\n",
        "\n",
        "\n",
        "::: {.callout-note collapse=\"true\"}\n",
        "## 3. Remove multiple `door_host_open`\n",
        "<!-- Because now the host opens more than 1 door, `door_host_open` is now a list, which contains all the doors opened by the host. Then in Step 4 when we remove `door_host_open`, we have to run a `for` loop to remove those doors one by one.\n"
      ],
      "id": "7c0b66da"
    },
    {
      "cell_type": "markdown",
      "metadata": {},
      "source": [
        "tmpdoors = doors[:]\n",
        "tmpdoors.remove(initial_choice)\n",
        "for door in tmpdoors:\n",
        "    tmpdoors.remove(door)\n",
        "door_unopened = tmpdoors[0]\n",
        "``` -->\n",
        "\n",
        "<!-- Then the codes are  -->\n",
        ":::\n",
        "\n",
        "\n",
        "::: {.callout-note collapse=\"true\"}\n",
        "## Put things together\n",
        "<!-- Here is the updated function. -->"
      ],
      "id": "ac644afa"
    },
    {
      "cell_type": "code",
      "metadata": {},
      "source": [
        "#| echo: false\n",
        "import random\n",
        "\n",
        "def MontyHall(N=3):\n",
        "    doors = list(range(1, N+1))\n",
        "\n",
        "    door_with_car = random.choice(doors)\n",
        "    initial_choice = random.choice(doors)\n",
        "\n",
        "    rest_doors = doors[:]\n",
        "    if door_with_car == initial_choice:\n",
        "        rest_doors.remove(door_with_car)\n",
        "        door_host_open = random.sample(rest_doors, N-2)\n",
        "    elif door_with_car != initial_choice:\n",
        "        rest_doors.remove(door_with_car)\n",
        "        rest_doors.remove(initial_choice)\n",
        "        door_host_open = random.sample(rest_doors, N-2)\n",
        "\n",
        "    tmpdoors = doors[:]\n",
        "    tmpdoors.remove(initial_choice)\n",
        "    for door in door_host_open:\n",
        "        tmpdoors.remove(door)\n",
        "    door_unopened = tmpdoors[0]\n",
        "\n",
        "    if door_with_car == initial_choice:\n",
        "        winner = 'remain'\n",
        "    elif door_with_car == door_unopened:\n",
        "        winner = 'switch'\n",
        "    return winner"
      ],
      "id": "f6a356f0",
      "execution_count": null,
      "outputs": []
    },
    {
      "cell_type": "markdown",
      "metadata": {},
      "source": [
        "<!-- Note that we set the default value of `N` is `3`. So if we call `MontyHall()` it will run the `3`-door version.  -->\n",
        ":::\n",
        "\n",
        "Now we can start to play the game. We may test our code by using the default `N` which is `3`.\n"
      ],
      "id": "920e2ccd"
    },
    {
      "cell_type": "code",
      "metadata": {},
      "source": [
        "#| eval: false\n",
        "results = {'remain': 0, 'switch': 0}\n",
        "\n",
        "for i in range(100):\n",
        "    winner = MontyHall()\n",
        "    results[winner] = results[winner] + 1\n",
        "\n",
        "results"
      ],
      "id": "ef614c57",
      "execution_count": null,
      "outputs": []
    },
    {
      "cell_type": "markdown",
      "metadata": {},
      "source": [
        "```\n",
        "{'remain': 34, 'switch': 66}\n",
        "```\n",
        "\n",
        "You will see that we get a similar result as our previous version.\n",
        "\n",
        "Now we will try `10`-door version."
      ],
      "id": "dfd446d9"
    },
    {
      "cell_type": "code",
      "metadata": {},
      "source": [
        "#| eval: false\n",
        "results = {'remain': 0, 'switch': 0}\n",
        "\n",
        "for i in range(100):\n",
        "    winner = MontyHall(10)\n",
        "    results[winner] = results[winner] + 1\n",
        "\n",
        "results"
      ],
      "id": "a75e114b",
      "execution_count": null,
      "outputs": []
    },
    {
      "cell_type": "markdown",
      "metadata": {},
      "source": [
        "```\n",
        "{'remain': 9, 'switch': 91}\n",
        "```\n",
        "\n",
        "The result also shows that switch is a better strategy. This is the simulation approach for this classic problem. You may compare it with theorical calculations using Probability theory.\n",
        "\n",
        "\n",
        "\n",
        "\n",
        "### Color the Gnomic data\n",
        "\n",
        "We can use ASCII color codes in the string to change the color of strings. As an example, `\\033[91m` is for red and `\\033[94m` is for blue. See the following example."
      ],
      "id": "57a2c3d7"
    },
    {
      "cell_type": "code",
      "metadata": {},
      "source": [
        "#| eval: false\n",
        "print('\\033[91m'+'red'+'\\033[92m'+'green'+'\\033[94m'+'blue'+'\\033[93m'+'yellow')"
      ],
      "id": "6007cde1",
      "execution_count": null,
      "outputs": []
    },
    {
      "cell_type": "markdown",
      "metadata": {},
      "source": [
        "This example works in IPython console or Jupyter notebook. \n",
        "\n",
        "\n",
        "Consider an (incomplete) Gnomic data given below which is represented by a long sequence of `A`, `C`, `T` and `G`. Please color it using ASCII color codes."
      ],
      "id": "4235ce67"
    },
    {
      "cell_type": "code",
      "metadata": {},
      "source": [
        "gnomicdata = 'TCGATCTCTTGTAGATCTGTTCTCTAAACGAACTTTAAAATCTGTGTGGCTGTCACTCGG'\\\n",
        "             'CTGCATGCTTAGTGCACTCACGCAGTATAATTAATAACTAATTACTGTCGTTGACAGGAC'\\\n",
        "             'ACGAGTAACTCGTCTATCTTCTGCAGGCTGCTTACGGTTTCGTCCGTGTTGCAGCCGATC'\\\n",
        "             'ATCAGCACATCTAGGTTTTGTCCGGGTGTGACCGAAAGGTAAGATGGAGAGCCTTGTCCC'\\\n",
        "             'TGGTTTCAACGAGAAAACACACGTCCAACTCAGTTTGCCTGTTTTACAGGTTCGCGACGT'\\\n",
        "             'GCTCGTACGTGGCTTTGGAGACTCCGTGGAGGAGGTCTTATCAGAGGCACGTCAACATCT'\\\n",
        "             'TAAAGATGGCACTTGTGGCTTAGTAGAAGTTGAAAAAGGCGTTTTGCCTCAACTTGAACA'\\\n",
        "             'GCCCTATGTGTTCATCAAACGTTCGGATGCTCGAACTGCACCTCATGGTCATGTTATGGT'\\\n",
        "             'TGAGCTGGTAGCAGAACTCGAAGGCATTCAGTACGGTCGTAGTGGTGAGACACTTGGTGT'\\\n",
        "             'CCTTGTCCCTCATGTGGGCGAAATACCAGTGGCTTACCGCAAGGTTCTTCTTCGTAAGAA'\\\n",
        "             'CGGTAATAAAGGAGCTGGTGGCCATAGTTACGGCGCCGATCTAAAGTCATTTGACTTAGG'\\\n",
        "             'CGACGAGCTTGGCACTGATCCTTATGAAGATTTTCAAGAAAACTGGAACACTAAACATAG'"
      ],
      "id": "06ca3bbf",
      "execution_count": null,
      "outputs": []
    },
    {
      "cell_type": "markdown",
      "metadata": {},
      "source": [
        "The way to color `A` as a red `A` is to change the character into `\\033[91mA`. Then using in IPython console or Jupyter notebook after you print it, you can see a red `A`. Therefore the core idea to solve this problem is to replace `A` in the string by `\\033[91mA`, etc..\n",
        "\n",
        "There are multiple ways to implement this idea.\n",
        "\n",
        "::: {.callout-note collapse=\"true\"}\n",
        "## `if-elif-else`\n",
        "We loop through the whole string. Every time when we get an `A`, we replace it with `\\033[91mA`. The same applies to `C`, `T` and `G`.\n",
        "\n",
        "To implement this idea, we actually make another list `newlist`. Every time we read `A` from `gnomicdata`, we add `033[91mA` to the `newlist`. Then at the end we could combine all strings in `newlist` to get the string we need.\n",
        "\n",
        "Here is the code.\n"
      ],
      "id": "c29922b2"
    },
    {
      "cell_type": "code",
      "metadata": {},
      "source": [
        "newlist = []\n",
        "for letter in gnomicdata:\n",
        "    if letter == 'A':\n",
        "        newlist.append('\\033[91mA')\n",
        "    elif letter == 'C':\n",
        "        newlist.append('\\033[92mC')\n",
        "    elif letter == 'T':\n",
        "        newlist.append('\\033[93mT')\n",
        "    elif letter == 'G':\n",
        "        newlist.append('\\033[94mG')\n",
        "gnomicstring = ''.join(newlist)"
      ],
      "id": "8a5b25c4",
      "execution_count": null,
      "outputs": []
    },
    {
      "cell_type": "markdown",
      "metadata": {},
      "source": [
        ":::\n",
        "\n",
        "::: {.callout-note collapse=\"true\"}\n",
        "## Upgrade using `dict`\n",
        "In the previous method, the big `if...elif...` doesn't look very good. We could use `dict` to simplify the code.\n",
        "\n",
        "The key idea of the `if...elif...` statement is to make a relation between `A` and `\\033[91mA`, etc.. This is exactly what a `dict` can do.\n",
        "\n",
        "Here is the sample code."
      ],
      "id": "4dbf8853"
    },
    {
      "cell_type": "code",
      "metadata": {},
      "source": [
        "color_pattern = {\n",
        "    'A': '\\033[91mA',\n",
        "    'C': '\\033[92mC',\n",
        "    'T': '\\033[93mT',\n",
        "    'G': '\\033[94mG',\n",
        "}\n",
        "\n",
        "newlist = []\n",
        "for letter in gnomicdata:\n",
        "    newlist.append(color_pattern[letter])\n",
        "gnomicstring = ''.join(newlist)"
      ],
      "id": "fe76012c",
      "execution_count": null,
      "outputs": []
    },
    {
      "cell_type": "markdown",
      "metadata": {},
      "source": [
        ":::\n",
        "\n",
        "\n",
        "::: {.callout-note collapse=\"true\"}\n",
        "## Upgrade using `list` comprehension\n",
        "In the previous method, there is a `new list, for...list.append()` structure. This is exactly what `list` compreshension can do.\n",
        "\n",
        "Here is the sample code."
      ],
      "id": "eaf8e3f0"
    },
    {
      "cell_type": "code",
      "metadata": {},
      "source": [
        "color_pattern = {\n",
        "    'A': '\\033[91mA',\n",
        "    'C': '\\033[92mC',\n",
        "    'T': '\\033[93mT',\n",
        "    'G': '\\033[94mG',\n",
        "}\n",
        "\n",
        "gnomicstring = ''.join([color_pattern[letter] for letter in gnomicdata])"
      ],
      "id": "f69b63ff",
      "execution_count": null,
      "outputs": []
    },
    {
      "cell_type": "markdown",
      "metadata": {},
      "source": [
        "The last piece of code is the best of the three. On the one side it is more condense and easy to read. On the other side, it is actually split into two pieces explicitly: the sytle part (`color_pattern`) and the code part (`gnomicstring`). The code part only controls changing colors, but the colors of the letters are controlled by the style part. This split make the code easier to maintain.\n",
        ":::"
      ],
      "id": "700dea4b"
    }
  ],
  "metadata": {
    "kernelspec": {
      "name": "python3",
      "language": "python",
      "display_name": "Python 3 (ipykernel)"
    }
  },
  "nbformat": 4,
  "nbformat_minor": 5
}