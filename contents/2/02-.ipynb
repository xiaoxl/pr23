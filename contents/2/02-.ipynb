{
  "cells": [
    {
      "cell_type": "markdown",
      "metadata": {},
      "source": [
        "# Python Basics\n",
        "\n",
        "\n",
        "\n",
        "\n",
        "## Built-in Types: numeric types and `str` {#sec-path}\n",
        "\n",
        "This section is based on @You2020.\n",
        "\n",
        "There are several built-in data structures in Python. Here is an (incomplete) list:\n",
        "\n",
        "- `None`\n",
        "- Boolean -- `True`, `False`\n",
        "- Numeric Types — `int`, `float`, `complex`\n",
        "- Text Sequence Type — `str`\n",
        "- Sequence Types — `list`\n",
        "- Map type - `dict`\n",
        "\n",
        "We will cover numeric types and strings in this section. The rests are either simple that are self-explained, or not simple that will be discussed later.\n",
        "\n",
        "\n",
        "\n",
        "### Numeric types and math expressions\n",
        "Numeric types are represented by numbers. If there are no confusions, Python will automatically detect the type. "
      ],
      "id": "809ae977"
    },
    {
      "cell_type": "code",
      "metadata": {},
      "source": [
        "x = 1 # x is an int.\n",
        "y = 2.0 # y is a float."
      ],
      "id": "147eb9c4",
      "execution_count": null,
      "outputs": []
    },
    {
      "cell_type": "markdown",
      "metadata": {},
      "source": [
        "Python can do math just like other programming languages. The basic math operations are listed as follows.\n",
        "\n",
        "- `+`, `-`, `*`, `/`, `>`, `<`, `>=`, `<=` works as normal.\n",
        "- `**` is the power operation.\n",
        "- `%` is the mod operation.\n",
        "- `!=` is `not equal`\n",
        "\n",
        "### `str`\n",
        "Scalars are represented by numbers and strings are represented by quotes. Example:"
      ],
      "id": "0a1c3019"
    },
    {
      "cell_type": "code",
      "metadata": {},
      "source": [
        "x = 1       # x is a scalar.\n",
        "y = 's'     # y is a string with one letter.\n",
        "z = '0'     # z loos like a number, but it is a string.\n",
        "w = \"Hello\" # w is a string with double quotes."
      ],
      "id": "8a90b26a",
      "execution_count": null,
      "outputs": []
    },
    {
      "cell_type": "markdown",
      "metadata": {},
      "source": [
        "Here are some facts.\n",
        "\n",
        "1. For strings, you can use either single quotes `'` or double quotes `\"`.\n",
        "2. `\\` is used to denote escaped words. You may find the list [Here](https://www.w3schools.com/python/gloss_python_escape_characters.asp). \n",
        "3. There are several types of scalars, like `int`, `float`, etc.. Usually Python will automatically determine the type of the data, but sometimes you may still want to declare them manually.\n",
        "4. You can use `int()`, `str()`, etc. to change types.\n",
        "\n",
        "Although `str` is a built-in type, there are tons of tricks with `str`, and there are tons of packages related to strings. Generally speaking, to play with strings, we are interested in two types of questions.\n",
        "\n",
        "- Put information together to form a string.\n",
        "- Extract information from a string.\n",
        "We briefly talk about these two tasks.\n",
        "\n",
        "\n",
        "\n",
        "::: {.callout-note}\n",
        "There is a very subtle relations between the variable / constant and the name of the variable / constant. We will talk about these later.\n",
        ":::\n",
        "\n",
        "\n",
        "::: {#exm-}\n",
        "Here is an example of playing with strings. Please play with these codes and try to understand what they do."
      ],
      "id": "40951ea2"
    },
    {
      "cell_type": "code",
      "metadata": {},
      "source": [
        "import re\n",
        "\n",
        "def clean_strings(strings):\n",
        "    result = []\n",
        "    for value in strings:\n",
        "        value = value.strip()\n",
        "        value = re.sub('[!#?]', '', value)\n",
        "        value = value.title()\n",
        "        result.append(value)\n",
        "    return result\n",
        "\n",
        "states = [' Alabama ', 'Georgia!', 'Georgia', 'georgia', 'FlOrIda',\n",
        "          'south carolina##', 'West virginia?']\n",
        "print(clean_strings(states))"
      ],
      "id": "ad5d5391",
      "execution_count": null,
      "outputs": []
    },
    {
      "cell_type": "markdown",
      "metadata": {},
      "source": [
        ":::\n",
        "\n",
        "\n",
        "## Fundamentals\n",
        "This section is mainly based on @McK2017.\n",
        "\n",
        "### Indentation\n",
        "One key feature about Python is that its structures (blocks) is determined by **Indentation**. \n",
        "\n",
        "Let's compare with other languages. Let's take `C` as an example."
      ],
      "id": "52d25e11"
    },
    {
      "cell_type": "code",
      "metadata": {},
      "source": [
        "#| eval: false\n",
        "#| warning: false\n",
        "#| error: false\n",
        "\n",
        "/*This is a C function.*/\n",
        "int f(int x){return x;}"
      ],
      "id": "be59479b",
      "execution_count": null,
      "outputs": []
    },
    {
      "cell_type": "markdown",
      "metadata": {},
      "source": [
        "The block is defined by `{}` and lines are separated by `;`. `space` and `newline` are not important when `C` runs the code. It is recommended to write codes in a \"beautiful, stylish\" format for readibility, as follows. However it is not mandatary."
      ],
      "id": "0ad96349"
    },
    {
      "cell_type": "code",
      "metadata": {},
      "source": [
        "#| eval: false\n",
        "#| warning: false\n",
        "#| error: false\n",
        "\n",
        "/*This is a C function.*/\n",
        "int f(int x) {\n",
        "   return x;\n",
        "}"
      ],
      "id": "d773c9f1",
      "execution_count": null,
      "outputs": []
    },
    {
      "cell_type": "markdown",
      "metadata": {},
      "source": [
        "In Python, blocks starts from `:` and then are determined by indents. Therefore you won't see a lot of `{}` in Python, and the \"beautiful, stylish\" format is mandatary. "
      ],
      "id": "12acbe57"
    },
    {
      "cell_type": "code",
      "metadata": {},
      "source": [
        "# This is a Python function.\n",
        "def f(x):\n",
        "    return x"
      ],
      "id": "f85eed98",
      "execution_count": null,
      "outputs": []
    },
    {
      "cell_type": "markdown",
      "metadata": {},
      "source": [
        "The default value for indentation is 4 spaces, which can be changed by users. We will just use the default value in this course.\n",
        "\n",
        "\n",
        "::: {.callout-note}\n",
        "It is usually recommended that one line of code should not be very long. If you do have one, and it cannot be shortened, you may break it into multiline codes directly in Python. However, since indentation is super important in Python, when break one line code into multilines, please make sure that everything is aligned perfectly. Please see the following example."
      ],
      "id": "ef380561"
    },
    {
      "cell_type": "code",
      "metadata": {},
      "source": [
        "#| eval: false\n",
        "results = shotchartdetail.ShotChartDetail(\n",
        "            team_id = 0,\n",
        "            player_id = 201939,\n",
        "            context_measure_simple = 'FGA',\n",
        "            season_nullable = '2021-22',\n",
        "            season_type_all_star = 'Regular Season')"
      ],
      "id": "eaf98ac6",
      "execution_count": null,
      "outputs": []
    },
    {
      "cell_type": "markdown",
      "metadata": {},
      "source": [
        ":::\n",
        "\n",
        "\n",
        "\n",
        "\n",
        "### Binary operators and comparisons\n",
        "\n",
        "Most binary operators behaves as you expected. Here I just want to mention `==` and `is`. \n",
        "\n",
        "- `==` is testing whehter these two objects have the same value.\n",
        "- `is` is testing whether these two objects are exactly the same.\n",
        "\n",
        "\n",
        "::: {.callout-note}\n",
        "You may use `id(x)` to check the id of the object `x`. Two objects are identical if they have the same id.\n",
        ":::\n",
        "\n",
        "\n",
        "\n",
        "<!-- ### Duck typing -->\n",
        "### `import`\n",
        "\n",
        "In Python a module is simply a file with the .py extension containing Python code. Assume that we have a Python file `example.py` stored in the folder `assests/codes/`. The file is as follows."
      ],
      "id": "c328b732"
    },
    {
      "cell_type": "code",
      "metadata": {},
      "source": [
        "#| eval: false\n",
        "\n",
        "# from assests/codes/example.py\n",
        "\n",
        "def f(x):\n",
        "    print(x)\n",
        "\n",
        "A = 'You get me!'"
      ],
      "id": "2bc968b6",
      "execution_count": null,
      "outputs": []
    },
    {
      "cell_type": "markdown",
      "metadata": {},
      "source": [
        "You may get access to this function and this string in the following way."
      ],
      "id": "2901a288"
    },
    {
      "cell_type": "code",
      "metadata": {},
      "source": [
        "from assests.codes import example\n",
        "\n",
        "example.f(example.A)"
      ],
      "id": "2d5fc7b0",
      "execution_count": null,
      "outputs": []
    },
    {
      "cell_type": "markdown",
      "metadata": {},
      "source": [
        "### Comments\n",
        "\n",
        "Any text preceded by the hash mark (pound sign) `#` is ignored by the Python interpreter. In many IDEs you may use hotkeys to directly toggle multilines as comments. For example, in VS Code the default setting for toggling comments is `ctrl+/`.\n",
        "\n",
        "\n",
        "### Dynamic references, strong types\n",
        "\n",
        "In some programming languages, you have to declare the variable’s name and what type of data it will hold. If a variable is declared to be a number, it can never hold a different type of value, like a string. This is called *static typing* because the type of the variable can never change.\n",
        "\n",
        "Python is a *dynamically typed* language, which means you do not have to declare a variable or what kind of\n",
        "data the variable will hold. You can change the value and type of data at any time. This could be either great or terrible news. \n",
        "\n",
        "On the other side, \"dynamic typed\" doesn't mean that types are not important in Python. You still have to make sure that the types of all variables meet the requirements of the operations used."
      ],
      "id": "c734e6a0"
    },
    {
      "cell_type": "code",
      "metadata": {},
      "source": [
        "#| error: true\n",
        "\n",
        "a = 1\n",
        "b = 2\n",
        "b = '2'\n",
        "c = a + b"
      ],
      "id": "18e7c461",
      "execution_count": null,
      "outputs": []
    },
    {
      "cell_type": "markdown",
      "metadata": {},
      "source": [
        "In this example, `b` was first assigned by a number, and then it was reassigned by a `str`. This is totally fine since Python is dynamically types. However later when adding `a` and `b`, the type error occurs since you cannot add a number and a `str`.\n",
        "\n",
        "\n",
        "::: {.callout-note}\n",
        "You may always use `type(x)` to detect the type of the object `x`.\n",
        ":::\n",
        "\n",
        "\n",
        "\n",
        "### Everything is an object\n",
        "\n",
        "Every number, string, data structure, function, class, module, and so on exists in the Python interpreter in its own “box”, which is referred to as a *Python object*. \n",
        "\n",
        "Each object has an associated type (e.g., string or function) and internal data. In practice this makes the language very flexible, as even functions can be treated like any other object.\n",
        "\n",
        "Each object might have attributes and/or methods attached. \n",
        "\n",
        "\n",
        "### Mutable and immutable objects\n",
        "An object whose internal state can be changed is *mutable*. On the other hand, *immutable* doesn’t allow any change in the object once it has been created.\n",
        "\n",
        "Some objects of built-in type that are mutable are:\n",
        "\n",
        "- Lists\n",
        "- Dictionaries\n",
        "- Sets\n",
        "\n",
        "\n",
        "Some objects of built-in type that are immutable are:\n",
        "\n",
        "- Numbers (Integer, Rational, Float, Decimal, Complex & Booleans)\n",
        "- Strings\n",
        "- Tuples\n",
        "\n",
        "\n",
        "::: {#exm-}\n",
        "## Tuples are not really \"immutable\"\n",
        "You can treat a tuple as a container, which contains some objects. The relations between the container and its contents are immutable, but the objects it holds might be mutable. Please check the following example."
      ],
      "id": "1607a7a9"
    },
    {
      "cell_type": "code",
      "metadata": {},
      "source": [
        "container = ([1], [2])\n",
        "print('This is `container`: ', container)\n",
        "print('This is the id of `container`: ', id(container))\n",
        "print('This is the id of the first list of `container`: ', id(container[0]))\n",
        "\n",
        "container[0].append(2)\n",
        "print('This is the new `container`: ', container)\n",
        "print('This is the id of the new `container`: ', id(container))\n",
        "print('This is the id of the first list (which is updated) of the new `container`: ', id(container[0]))"
      ],
      "id": "034527aa",
      "execution_count": null,
      "outputs": []
    },
    {
      "cell_type": "markdown",
      "metadata": {},
      "source": [
        "You can see that the tuple `container` and its first object stay the same, although we add one element to the first object.\n",
        ":::\n",
        "\n",
        "\n",
        "\n",
        "\n",
        "## Flows and Logic\n",
        "\n",
        "### `for` loop\n",
        "\n",
        "- `range(10)`\n",
        "- `list`\n",
        "\n",
        "### `if` conditional control\n",
        "\n",
        "\n",
        "\n",
        "\n",
        "## `list` \n",
        "\n",
        "\n",
        "::: {.callout-note}\n",
        "In Python, a list is an ordered sequence of object types and a string is an ordered sequence of characters. \n",
        ":::\n",
        "\n",
        "- Access to the data\n",
        "- Slicing\n",
        "- Methods\n",
        "    - `append` and `+`\n",
        "    - `extend`\n",
        "    - `pop`\n",
        "    - `remove`\n",
        "- `in`\n",
        "- `for`\n",
        "- `list()`\n",
        "- `sorted`\n",
        "\n",
        "- `str.split`\n",
        "- `str.join`\n",
        "\n",
        "\n",
        "### List Comprehension\n",
        "List Comprehension is a convenient way to create lists based on the values of an existing list. It cannot provide any real improvement to the performance of the codes, but it can make the codes shorter and easier to read.\n",
        "\n",
        "The format of list Comprehension is\n",
        "```\n",
        "newlist = [expression for item in iterable if condition == True]\n",
        "```\n",
        "   \n",
        "\n",
        "\n",
        "\n",
        "## `dict` \n",
        "\n",
        "\n",
        "- Access to the data\n",
        "- Methods\n",
        "    - directly add items\n",
        "    - `update`\n",
        "    - `get`\n",
        "    - `keys`\n",
        "    - `values`\n",
        "    - `items`\n",
        "- `dict()`\n",
        "- dictionary comprehension\n",
        "\n",
        "\n",
        "## Exercises\n",
        "Most problems are based on @Sha2017, @You2020 and @Swe2020.\n",
        "\n",
        "\n",
        "::: {#exr-}\n",
        "## Indentation\n",
        "Please tell the differences between the following codes. If you don't understand `for` don't worry about it. Just focus on the indentation and try to understand how the codes work.\n"
      ],
      "id": "26169a17"
    },
    {
      "cell_type": "code",
      "metadata": {},
      "source": [
        "#| eval: false\n",
        "\n",
        "for i in range(5):\n",
        "    print('Hello world!')\n",
        "print('Hello world!')"
      ],
      "id": "086c037e",
      "execution_count": null,
      "outputs": []
    },
    {
      "cell_type": "code",
      "metadata": {},
      "source": [
        "#| eval: false\n",
        "\n",
        "for i in range(5):\n",
        "    print('Hello world!')\n",
        "    print('Hello world!')"
      ],
      "id": "4c630dd5",
      "execution_count": null,
      "outputs": []
    },
    {
      "cell_type": "code",
      "metadata": {},
      "source": [
        "#| eval: false\n",
        "\n",
        "for i in range(5):\n",
        "print('Hello world!')\n",
        "print('Hello world!')"
      ],
      "id": "3efa10e7",
      "execution_count": null,
      "outputs": []
    },
    {
      "cell_type": "code",
      "metadata": {},
      "source": [
        "#| eval: false\n",
        "\n",
        "for i in range(5):\n",
        "    pass\n",
        "print('Hello world!')\n",
        "print('Hello world!')"
      ],
      "id": "a89c679f",
      "execution_count": null,
      "outputs": []
    },
    {
      "cell_type": "markdown",
      "metadata": {},
      "source": [
        ":::\n",
        "\n",
        "\n",
        "\n",
        "\n",
        "::: {#exr-}\n",
        "## Play with built-in data types\n",
        "\n",
        "Please first guess the results of all expressions below, and then run them to check your answers."
      ],
      "id": "e0d885b4"
    },
    {
      "cell_type": "code",
      "metadata": {},
      "source": [
        "#| eval: false\n",
        "print(True and True)\n",
        "print(True or True)\n",
        "print(False and True)\n",
        "print((1+1>2) or (1-1<1))"
      ],
      "id": "952a7e61",
      "execution_count": null,
      "outputs": []
    },
    {
      "cell_type": "markdown",
      "metadata": {},
      "source": [
        ":::\n",
        "\n",
        "\n",
        "\n",
        "::: {#exr-}\n",
        "## `==` vs `is`\n",
        "Please explain what happens below."
      ],
      "id": "2e6540ae"
    },
    {
      "cell_type": "code",
      "metadata": {},
      "source": [
        "a = 1\n",
        "b = 1.0\n",
        "print(type(a))\n",
        "print(type(b))\n",
        "\n",
        "print(a == b)\n",
        "print(a is b)"
      ],
      "id": "702ae832",
      "execution_count": null,
      "outputs": []
    },
    {
      "cell_type": "markdown",
      "metadata": {},
      "source": [
        ":::\n",
        "\n",
        "\n",
        "::: {#exr-}\n",
        "## Play with strings\n",
        "Please excute the code below line by line and explain what happens in text cells."
      ],
      "id": "48d2c827"
    },
    {
      "cell_type": "code",
      "metadata": {},
      "source": [
        "# 1\n",
        "answer = 10\n",
        "wronganswer = 11\n",
        "text1 = \"The answer to this question is {}. If you got {}, you are wrong.\".format(answer, wronganswer)\n",
        "print(text1)\n",
        "\n",
        "# 2\n",
        "var = True\n",
        "text2 = \"This is {}.\".format(var)\n",
        "print(text2)\n",
        "\n",
        "# 3\n",
        "word1 = 'Good '\n",
        "word2 = 'buy. '\n",
        "text3 = (word1 + word2) * 3\n",
        "print(text3)\n",
        "\n",
        "# 4\n",
        "sentence = \"This is\\ngood enough\\nfor a exercise to\\nhave so many parts. \" \\\n",
        "           \"We would also want to try this symbol: '. \" \\\n",
        "           \"Do you know how to type \\\" in double quotes?\"\n",
        "print(sentence)"
      ],
      "id": "f9c2857e",
      "execution_count": null,
      "outputs": []
    },
    {
      "cell_type": "markdown",
      "metadata": {},
      "source": [
        ":::\n",
        "\n",
        "\n",
        "\n",
        "::: {#exr-}\n",
        "## `split` and `join`\n",
        "Please excute the code below line by line and explain what happens in text cells."
      ],
      "id": "75fe8354"
    },
    {
      "cell_type": "code",
      "metadata": {},
      "source": [
        "#| eval: false\n",
        "sentence = 'This is an example of a sentence that I expect you to split.'\n",
        "\n",
        "wordlist = sentence.split(' ')\n",
        "\n",
        "newsentence = '\\n'.join(wordlist)\n",
        "print(newsentence)"
      ],
      "id": "2d79299a",
      "execution_count": null,
      "outputs": []
    },
    {
      "cell_type": "markdown",
      "metadata": {},
      "source": [
        ":::\n",
        "\n",
        "\n",
        "\n",
        "::: {#exr-}\n",
        "## List reference\n",
        "\n",
        "Please finish the following tasks.\n",
        "\n",
        "1. Given the list `a`, make a new reference `b` to `a`. Update the first entry in `b` to be `0`. What happened to the first entry in `a`? Explain your answer in a text block.\n",
        "\n",
        "2. Given the list `a`, make a new copy `b` of the list `a` using the function `list`. Update the first entry in `b` to be `0`. What happened to the first entry in `a`? Explain your answer in a text block. \n",
        ":::\n",
        "\n",
        "\n",
        "\n",
        "::: {#exr-}\n",
        "## List comprehension\n",
        "Given a list of numbers, use list comprehension to remove all odd numbers from the list:"
      ],
      "id": "1cc3a269"
    },
    {
      "cell_type": "code",
      "metadata": {},
      "source": [
        "numbers = [3,5,45,97,32,22,10,19,39,43]"
      ],
      "id": "fd292bd7",
      "execution_count": null,
      "outputs": []
    },
    {
      "cell_type": "markdown",
      "metadata": {},
      "source": [
        ":::\n",
        "\n",
        "::: {#exr-}\n",
        "## More list comprehension\n",
        "Use list comprehension to find all of the numbers from 1-1000 that are divisible by 7.\n",
        ":::\n",
        "\n",
        "::: {#exr-}\n",
        "## More list comprehension\n",
        "Count the number of spaces in a string.\n",
        ":::\n",
        "\n",
        "\n",
        "::: {#exr-}\n",
        "## More list comprehension\n",
        "Use list comprehension to get the index and the value as a tuple for items in the list `['hi', 4, 8.99, 'apple', ('t,b', 'n')]`. Result would look like `[(index, value), (index, value), ...]`.\n",
        ":::\n",
        "\n",
        "::: {#exr-}\n",
        "## More list comprehension\n",
        "Use list comprehension to find the common numbers in two lists (without using a tuple or set) `list_a = [1, 2, 3, 4]`, `list_b = [2, 3, 4, 5]`.\n",
        ":::\n",
        "\n",
        "\n",
        "::: {#exr-}\n",
        "## Probability\n",
        "Compute the probability that two people out of 23 share the same birthday. The math formula for this is \n",
        "$$1-\\frac{365!/(365-23)!}{365^{23}}=1-\\frac{365}{365}\\cdot\\frac{365-1}{365}\\cdot\\frac{365-2}{365}\\cdot\\ldots\\cdot\\frac{365-22}{365}.$$\n",
        "\n",
        "1. To directly use the formula we have to use a high performance math package, e.g. `math`. Please use `math.factorial` to compute the above formula.\n",
        "\n",
        "2. Please use the right hand side of the above formula to compute the probability using the following steps.\n",
        "    a. Please use the list comprehension to create a list $\\left[\\frac{365}{365},\\frac{365-1}{365},\\frac{365-2}{365},\\ldots,\\frac{365-22}{365}\\right]$. \n",
        "    b. Use `numpy.prod` to compute the product of elements of the above list.\n",
        "    c. Compute the probability by finishing the formula.\n",
        "\n",
        "3. Please use `time` to test which method mentioned above is faster.\n",
        ":::\n",
        "\n",
        "\n",
        "\n",
        "\n",
        "## Projects\n",
        "Most projects are based on @McK2017, @Klo2021.\n",
        "\n",
        "\n",
        "::: {#exr-}\n",
        "## Determine the indefinite article\n",
        "Please finish the following tasks.\n",
        "\n",
        "1. Please construct a list `aeiou` that contains all vowels.\n",
        "2. Given a word `word`, we would like to find the indefinite article `article` before `word`. (Hint: the article should be `an` if the first character of `word` is a vowel, and `a` if not.)\n",
        ":::\n",
        "<details>\n",
        "<summary> Click for Hint.</summary>\n",
        "::: {.solution}\n",
        "Consider `in`, `.lower()` and `if` structure.\n",
        ":::\n",
        "</details>\n",
        "\n",
        "\n",
        "\n",
        "::: {#exr-}\n",
        "## Datetime and files names\n",
        "We would like to write a program to quickly generate `N` files. Every time we run the code, `N` files will be generated. We hope to store all files generated and organize them in a neat way. To achieve this, one way is to create a subfolder for each run and store all files generated during that run in the particular subfolder. Since we would like to make it fast, the real point of this task is to find a way to automatically generate the file names for the files generated and the folder names for the subfolders generated. You don't need to worry about the contents of the files and empty files are totally fine for this problem.\n",
        ":::\n",
        "<details>\n",
        "<summary>Click for Hint.</summary>\n",
        "::: {.solution}\n",
        "One way to automatically generate file names and folder names is to use the date and the time when the code is run. Please check `datetime` package for getting and formatting date/time, and `os` packages for playing with files and folders.\n",
        ":::\n",
        "</details>\n",
        "\n",
        "\n",
        "\n",
        "\n",
        "::: {#exr-}\n",
        "## Color the Gnomic data\n",
        "We can use ASCII color codes in the string to change the color of strings, as an example `\\033[91m` for red and `\\033[94m` for blue. See the following example."
      ],
      "id": "327a3866"
    },
    {
      "cell_type": "code",
      "metadata": {},
      "source": [
        "#| eval: false\n",
        "print('\\033[91m'+'red'+'\\033[92m'+'green'+'\\033[94m'+'blue'+'\\033[93m'+'yellow')"
      ],
      "id": "bc965936",
      "execution_count": null,
      "outputs": []
    },
    {
      "cell_type": "markdown",
      "metadata": {},
      "source": [
        "Consider an (incomplete) Gnomic data given below which is represented by a long sequence of `A`, `C`, `T` and `G`. Please color it using ASCII color codes."
      ],
      "id": "01679b48"
    },
    {
      "cell_type": "code",
      "metadata": {},
      "source": [
        "Gnomicdata = 'TCGATCTCTTGTAGATCTGTTCTCTAAACGAACTTTAAAATCTGTGTGGCTGTCACTCGG'\\\n",
        "             'CTGCATGCTTAGTGCACTCACGCAGTATAATTAATAACTAATTACTGTCGTTGACAGGAC'\\\n",
        "             'ACGAGTAACTCGTCTATCTTCTGCAGGCTGCTTACGGTTTCGTCCGTGTTGCAGCCGATC'\\\n",
        "             'ATCAGCACATCTAGGTTTTGTCCGGGTGTGACCGAAAGGTAAGATGGAGAGCCTTGTCCC'\\\n",
        "             'TGGTTTCAACGAGAAAACACACGTCCAACTCAGTTTGCCTGTTTTACAGGTTCGCGACGT'\\\n",
        "             'GCTCGTACGTGGCTTTGGAGACTCCGTGGAGGAGGTCTTATCAGAGGCACGTCAACATCT'\\\n",
        "             'TAAAGATGGCACTTGTGGCTTAGTAGAAGTTGAAAAAGGCGTTTTGCCTCAACTTGAACA'\\\n",
        "             'GCCCTATGTGTTCATCAAACGTTCGGATGCTCGAACTGCACCTCATGGTCATGTTATGGT'\\\n",
        "             'TGAGCTGGTAGCAGAACTCGAAGGCATTCAGTACGGTCGTAGTGGTGAGACACTTGGTGT'\\\n",
        "             'CCTTGTCCCTCATGTGGGCGAAATACCAGTGGCTTACCGCAAGGTTCTTCTTCGTAAGAA'\\\n",
        "             'CGGTAATAAAGGAGCTGGTGGCCATAGTTACGGCGCCGATCTAAAGTCATTTGACTTAGG'\\\n",
        "             'CGACGAGCTTGGCACTGATCCTTATGAAGATTTTCAAGAAAACTGGAACACTAAACATAG'"
      ],
      "id": "ff66fac2",
      "execution_count": null,
      "outputs": []
    },
    {
      "cell_type": "markdown",
      "metadata": {},
      "source": [
        ":::\n",
        "\n",
        "<details>\n",
        "<summary>Click for Hint.</summary>\n",
        "\n",
        "::: {.solution}\n",
        "## Hint\n",
        "You may use `if` to do the conversion. Or you may use `dict` to do the conversion.\n",
        ":::\n",
        "</details>\n",
        "\n",
        "\n",
        "\n",
        "::: {#exr-}\n",
        "## `sorted`\n",
        "Please read through the [Key funtions](https://docs.python.org/3/howto/sorting.html#key-functions) in this article, and sort the following two lists.\n",
        "\n",
        "1. Sort `list1 = [[11,2,3], [2, 3, 1], [5,-1, 2], [2, 3,-8]]` according to the sum of each list.\n",
        "\n",
        "2. Sort `list2 = [{'a': 1, 'b': 2}, {'a': 3, 'b': 4},{'a': 5, 'b': 2}]` according to the `b` value of each dictionary.\n",
        "\n",
        ":::\n",
        "\n",
        "\n",
        "\n",
        "\n",
        "::: {#exr-fantasyinventorycode}\n",
        "## Fantasy Game Inventory\n",
        "\n",
        "You are creating a fantasy video game. The data structure to model the player’s inventory will be a dictionary where the keys are string values describing the item in the inventory and the value is an integer value detailing how many of that item the player has. For example, the dictionary value `{'rope': 1, 'torch': 6, 'gold coin': 42, 'dagger': 1, 'arrow': 12}` means the player has 1 rope, 6 torches, 42 gold coins, and so on.\n",
        "\n",
        "Write a program to take any possible `inventory` and display it like the following:"
      ],
      "id": "14e3363d"
    },
    {
      "cell_type": "code",
      "metadata": {},
      "source": [
        "#| eval: false\n",
        "Inventory:\n",
        "12 arrow\n",
        "42 gold coin\n",
        "1 rope\n",
        "6 torch\n",
        "1 dagger\n",
        "Total number of items: 62"
      ],
      "id": "8a9586ba",
      "execution_count": null,
      "outputs": []
    },
    {
      "cell_type": "markdown",
      "metadata": {},
      "source": [
        ":::\n"
      ],
      "id": "0a443742"
    }
  ],
  "metadata": {
    "kernelspec": {
      "name": "base23",
      "language": "python",
      "display_name": "base23"
    }
  },
  "nbformat": 4,
  "nbformat_minor": 5
}