{
  "cells": [
    {
      "cell_type": "markdown",
      "metadata": {},
      "source": [
        "# Projects with Python\n",
        "\n",
        "\n",
        "\n",
        "## Example 1: `USA.gov` Data From `Bitly`\n",
        "In 2011, URL shortening service `Bitly` partnered with the US government website\n",
        "`USA.gov` to provide a feed of anonymous data gathered from users who shorten links\n",
        "ending with `.gov` or `.mil`. The data is gotten from @McK2017.\n",
        "\n",
        "The data file can be downloaded from [here](assests/datasets/example.txt). The file is mostly in JSON. It can be converted into a DataFrame by the following code."
      ],
      "id": "1bae6050"
    },
    {
      "cell_type": "code",
      "metadata": {},
      "source": [
        "import pandas as pd\n",
        "import numpy as np\n",
        "import json\n",
        "path = 'assests/datasets/example.txt'\n",
        "df = pd.DataFrame([json.loads(line) for line in open(path)])"
      ],
      "id": "9ce1a6e1",
      "execution_count": null,
      "outputs": []
    },
    {
      "cell_type": "markdown",
      "metadata": {},
      "source": [
        "We mainly use `tz` and `a` columns. So let us clean it."
      ],
      "id": "5b174515"
    },
    {
      "cell_type": "code",
      "metadata": {},
      "source": [
        "#| warning: false\n",
        "df['tz'] = df['tz'].fillna('Missing')\n",
        "df['tz'][df['tz'] == ''] = 'Unknown'\n",
        "df['a'] = df['a'].fillna('Missing')\n",
        "df['a'][df['a'] == ''] = 'Unknown'"
      ],
      "id": "7b307840",
      "execution_count": null,
      "outputs": []
    },
    {
      "cell_type": "markdown",
      "metadata": {},
      "source": [
        "We first want to extract the timezone infomation from it. The timezone info is in the column `tz`."
      ],
      "id": "43dc179d"
    },
    {
      "cell_type": "code",
      "metadata": {},
      "source": [
        "tzone = df['tz']\n",
        "tvc = tzone.value_counts()\n",
        "tvc"
      ],
      "id": "0e67f619",
      "execution_count": null,
      "outputs": []
    },
    {
      "cell_type": "markdown",
      "metadata": {},
      "source": [
        "After cleaning data, we would like to visulize the value counts."
      ],
      "id": "a462077a"
    },
    {
      "cell_type": "code",
      "metadata": {},
      "source": [
        "import seaborn as sns\n",
        "sns.barplot(x=tvc[:10].values, y=tvc[:10].index)"
      ],
      "id": "a696210f",
      "execution_count": null,
      "outputs": []
    },
    {
      "cell_type": "markdown",
      "metadata": {},
      "source": [
        "We then would like to extract information from the column `a`. This column is about the agent of the connection. The important info is the part before the space `' '`.\n"
      ],
      "id": "162e3647"
    },
    {
      "cell_type": "code",
      "metadata": {},
      "source": [
        "agent = df['a']\n",
        "agent = agent.str.split(' ').str[0]\n",
        "avc = agent.value_counts()\n",
        "avc[:10]"
      ],
      "id": "453e7289",
      "execution_count": null,
      "outputs": []
    },
    {
      "cell_type": "markdown",
      "metadata": {},
      "source": [
        "Now let us assume that, if `Windows` appears in column `a` the user is using `Windows` os, if not then not. In this case, the os can be detected by the following code."
      ],
      "id": "8160a71a"
    },
    {
      "cell_type": "code",
      "metadata": {},
      "source": [
        "df['os'] = np.where(df['a'].str.contains('Windows'), 'Windows', 'Not Windows')"
      ],
      "id": "88a2b095",
      "execution_count": null,
      "outputs": []
    },
    {
      "cell_type": "markdown",
      "metadata": {},
      "source": [
        "Now we can make a bar plot about the counts based on `os` and `timezone`."
      ],
      "id": "8369d47c"
    },
    {
      "cell_type": "code",
      "metadata": {},
      "source": [
        "tz_os_counts = df.groupby(['tz', 'os']).size().unstack().fillna(0)\n",
        "tz_os_counts.head()"
      ],
      "id": "7ffaabc6",
      "execution_count": null,
      "outputs": []
    },
    {
      "cell_type": "markdown",
      "metadata": {},
      "source": [
        "We then turn it into a DataFrame using the `.stack()`, `.unstack()` tricks."
      ],
      "id": "e6715ba2"
    },
    {
      "cell_type": "code",
      "metadata": {},
      "source": [
        "tovc = tz_os_counts.stack()[tz_os_counts.sum(axis=1).nlargest(10).index]\n",
        "tovc.name = 'count'\n",
        "dftovc = pd.DataFrame(tovc).reset_index()"
      ],
      "id": "2175c84e",
      "execution_count": null,
      "outputs": []
    },
    {
      "cell_type": "markdown",
      "metadata": {},
      "source": [
        "Finally we may draw the bar plot."
      ],
      "id": "ca2e74b0"
    },
    {
      "cell_type": "code",
      "metadata": {},
      "source": [
        "sns.barplot(x='count', y='tz', hue='os', data=dftovc)"
      ],
      "id": "071a5f8e",
      "execution_count": null,
      "outputs": []
    },
    {
      "cell_type": "markdown",
      "metadata": {},
      "source": [
        "## Example 2: US Baby Names 1880–2010\n",
        "The United States Social Security Administration (SSA) has made available data on the frequency of baby names from 1880 through the present. Hadley Wickham, an author of several popular R packages, has often made use of this dataset in illustrating data manipulation in `R`. The dataset can be downloaded from [here](assests/datasets/babynames.zip) as a zip file. Please unzip it and put it in your working folder.\n",
        "\n",
        "In the folder there are 131 `.txt` files. The naming scheme is `yob` + the year. Each file contains 3 columns: `name`, `gender`, and `counts`. We would like to add a column `year`, and combine all files into a single DataFrame. In our example, the year is from 1880 to 2010.\n"
      ],
      "id": "cf3ed00e"
    },
    {
      "cell_type": "code",
      "metadata": {},
      "source": [
        "#| eval: false\n",
        "import pandas as pd\n",
        "\n",
        "path = 'assests/datasets/babynames/'\n",
        "dflist = list()\n",
        "for year in range(1880, 2011):\n",
        "    filename = path + 'yob' + str(year) + '.txt'\n",
        "    df = pd.read_csv(filename, names=['name', 'gender', 'counts'])\n",
        "    df['year'] = year\n",
        "    dflist.append(df)\n",
        "df = pd.concat(dflist, ignore_index=True)"
      ],
      "id": "ea6f0eb4",
      "execution_count": null,
      "outputs": []
    },
    {
      "cell_type": "markdown",
      "metadata": {},
      "source": [
        "We can plot the total births by sex and year."
      ],
      "id": "4a77d832"
    },
    {
      "cell_type": "code",
      "metadata": {},
      "source": [
        "#| eval: false\n",
        "import seaborn as sns\n",
        "\n",
        "sns.relplot(data=df.groupby(['gender', 'year']).sum().reset_index(),\n",
        "            x='year', y='counts', hue='gender', kind='line')"
      ],
      "id": "aa193b1b",
      "execution_count": null,
      "outputs": []
    },
    {
      "cell_type": "code",
      "metadata": {},
      "source": [
        "#| echo: false\n",
        "import seaborn as sns\n",
        "sns.set_theme()\n",
        "dfgy = pd.read_csv('assests/datasets/gy.csv')\n",
        "sns.relplot(data=dfgy,\n",
        "            x='year', y='counts', hue='gender', kind='line')"
      ],
      "id": "cee0bf36",
      "execution_count": null,
      "outputs": []
    },
    {
      "cell_type": "markdown",
      "metadata": {},
      "source": [
        "For further analysis, we would like to compute the proportions of each name relative to the total number of births per year per gender. "
      ],
      "id": "97ba6e13"
    },
    {
      "cell_type": "code",
      "metadata": {},
      "source": [
        "#| eval: false\n",
        "def add_prop(group):\n",
        "    group['prop'] = group.counts / group.counts.sum()\n",
        "    return group\n",
        "\n",
        "df = df.groupby(['gender', 'year']).apply(add_prop)\n",
        "df.head()"
      ],
      "id": "7a74014c",
      "execution_count": null,
      "outputs": []
    },
    {
      "cell_type": "code",
      "metadata": {},
      "source": [
        "#| echo: false\n",
        "babydf5 = pd.read_csv('assests/datasets/babydf5.csv')\n",
        "babydf5"
      ],
      "id": "d715f695",
      "execution_count": null,
      "outputs": []
    },
    {
      "cell_type": "markdown",
      "metadata": {},
      "source": [
        "Now we would like to keep the first 100 names in each year, and save it as a new DataFrame `top100`."
      ],
      "id": "61081dd6"
    },
    {
      "cell_type": "code",
      "metadata": {},
      "source": [
        "#| eval: false\n",
        "top100 = (\n",
        "    df.groupby(['year', 'gender'])\n",
        "    .apply(lambda x: df.loc[x['counts'].nlargest(100).index])\n",
        "    .drop(columns=['year', 'gender'])\n",
        "    .reset_index()\n",
        "    .drop(columns='level_2')\n",
        ")\n",
        "top100.head()"
      ],
      "id": "e048a520",
      "execution_count": null,
      "outputs": []
    },
    {
      "cell_type": "code",
      "metadata": {},
      "source": [
        "#| echo: false\n",
        "dftop100 = pd.read_csv('assests/datasets/baby100.csv')\n",
        "dftop100"
      ],
      "id": "31ddba67",
      "execution_count": null,
      "outputs": []
    },
    {
      "cell_type": "markdown",
      "metadata": {},
      "source": [
        "Note that `level_2` is related to the original index after `reset_index()`. That's why we don't need it here.\n",
        "\n",
        "Now we would like to draw the trend of some names."
      ],
      "id": "edff1748"
    },
    {
      "cell_type": "code",
      "metadata": {},
      "source": [
        "#| eval: false\n",
        "namelist = ['John', 'Harry', 'Mary']\n",
        "sns.relplot(data=top100[top100['name'].isin(namelist)],\n",
        "            x='year', y='counts', hue='name', kind='line')"
      ],
      "id": "566c6617",
      "execution_count": null,
      "outputs": []
    },
    {
      "cell_type": "code",
      "metadata": {},
      "source": [
        "#| echo: false\n",
        "babynamelist = pd.read_csv('assests/datasets/babynamelist.csv')\n",
        "sns.relplot(data=babynamelist,\n",
        "            x='year', y='counts', hue='name', kind='line')"
      ],
      "id": "9333cb45",
      "execution_count": null,
      "outputs": []
    },
    {
      "cell_type": "markdown",
      "metadata": {},
      "source": [
        "Now we would like to analyze the ending of names."
      ],
      "id": "146530b5"
    },
    {
      "cell_type": "code",
      "metadata": {},
      "source": [
        "#| eval: false\n",
        "df['ending'] = df['name'].str[-1]\n",
        "endingcount = df.groupby(['gender', 'year', 'ending']).sum().reset_index()"
      ],
      "id": "a4e6a075",
      "execution_count": null,
      "outputs": []
    },
    {
      "cell_type": "markdown",
      "metadata": {},
      "source": [
        "We would like to draw barplots to show the distributions in year 1910, 1960 and 2010."
      ],
      "id": "4f7298ec"
    },
    {
      "cell_type": "code",
      "metadata": {},
      "source": [
        "#| eval: false\n",
        "certainyear = endingcount[endingcount['year'].isin([1910, 1960, 2010])]\n",
        "import matplotlib.pyplot as plt\n",
        "\n",
        "fig, axs = plt.subplots(2, 1, figsize=(10,7))\n",
        "sns.barplot(data=certainyear[endingcount['gender']=='M'],\n",
        "            x='ending', y='prop', hue='year', ax=axs[0])\n",
        "sns.barplot(data=certainyear[endingcount['gender']=='F'],\n",
        "            x='ending', y='prop', hue='year', ax=axs[1]).legend_.remove()"
      ],
      "id": "141e8ae7",
      "execution_count": null,
      "outputs": []
    },
    {
      "cell_type": "code",
      "metadata": {},
      "source": [
        "#| echo: false\n",
        "babyyear = pd.read_csv('assests/datasets/babyyear.csv')\n",
        "import matplotlib.pyplot as plt\n",
        "\n",
        "fig, axs = plt.subplots(2, 1, figsize=(10,7))\n",
        "sns.barplot(data=babyyear[babyyear['gender']=='M'],\n",
        "            x='ending', y='prop', hue='year', ax=axs[0])\n",
        "sns.barplot(data=babyyear[babyyear['gender']=='F'],\n",
        "            x='ending', y='prop', hue='year', ax=axs[1]).legend_.remove()"
      ],
      "id": "f23418da",
      "execution_count": null,
      "outputs": []
    },
    {
      "cell_type": "markdown",
      "metadata": {},
      "source": [
        "We would also like to draw the line plot to show the trending of certain letters through years."
      ],
      "id": "f124f8b6"
    },
    {
      "cell_type": "code",
      "metadata": {},
      "source": [
        "#| eval: false\n",
        "sns.relplot(data=endingcount[endingcount.ending.isin(['d', 'n', 'y'])],\n",
        "            x='year', y='prop', hue='ending', kind='line')"
      ],
      "id": "428f0b1e",
      "execution_count": null,
      "outputs": []
    },
    {
      "cell_type": "code",
      "metadata": {},
      "source": [
        "#| echo: false\n",
        "babyending = pd.read_csv('assests/datasets/babyending.csv')\n",
        "sns.relplot(data=babyending[babyending.ending.isin(['d', 'n', 'y'])],\n",
        "            x='year', y='prop', hue='ending', kind='line')"
      ],
      "id": "3eef5376",
      "execution_count": null,
      "outputs": []
    },
    {
      "cell_type": "markdown",
      "metadata": {},
      "source": [
        "## Exercises\n",
        "\n",
        "::: {#exr-}\n",
        "Please use the baby name dataset. We would like to consider the diversity of the names. Please compute the number of popular names in top 50% for each year each gender. Draw a line plot to show the trend and discuss the result.\n",
        ":::\n"
      ],
      "id": "c9b58778"
    }
  ],
  "metadata": {
    "kernelspec": {
      "name": "base23",
      "language": "python",
      "display_name": "base23"
    }
  },
  "nbformat": 4,
  "nbformat_minor": 5
}