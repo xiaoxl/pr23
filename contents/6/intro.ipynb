{
  "cells": [
    {
      "cell_type": "markdown",
      "metadata": {},
      "source": [
        "# Projects with Python\n",
        "\n",
        "\n",
        "\n",
        "## Example 1: `USA.gov` Data From `Bitly`\n",
        "In 2011, URL shortening service `Bitly` partnered with the US government website\n",
        "`USA.gov` to provide a feed of anonymous data gathered from users who shorten links\n",
        "ending with `.gov` or `.mil`. The data is gotten from @McK2017.\n",
        "\n",
        "The data file can be downloaded from [here](assests/datasets/example.txt). The file is mostly in JSON. It can be converted into a DataFrame by the following code."
      ],
      "id": "d8618630"
    },
    {
      "cell_type": "code",
      "metadata": {},
      "source": [
        "import pandas as pd\n",
        "import numpy as np\n",
        "import json\n",
        "path = 'assests/datasets/example.txt'\n",
        "df = pd.DataFrame([json.loads(line) for line in open(path)])"
      ],
      "id": "cc458137",
      "execution_count": null,
      "outputs": []
    },
    {
      "cell_type": "markdown",
      "metadata": {},
      "source": [
        "We mainly use `tz` and `a` columns. So let us clean it."
      ],
      "id": "717b9471"
    },
    {
      "cell_type": "code",
      "metadata": {},
      "source": [
        "#| warning: false\n",
        "df['tz'] = df['tz'].fillna('Missing')\n",
        "df['tz'][df['tz'] == ''] = 'Unknown'\n",
        "df['a'] = df['a'].fillna('Missing')\n",
        "df['a'][df['a'] == ''] = 'Unknown'"
      ],
      "id": "f39dfc21",
      "execution_count": null,
      "outputs": []
    },
    {
      "cell_type": "markdown",
      "metadata": {},
      "source": [
        "::: {#exm-}\n",
        "\n",
        "We first want to extract the timezone infomation from it. The timezone info is in the column `tz`. Please count different values in the columns `tz`.\n",
        ":::\n",
        "\n",
        "\n",
        "::: {.callout-tip collapse=\"true\"}"
      ],
      "id": "fb706967"
    },
    {
      "cell_type": "code",
      "metadata": {},
      "source": [
        "tzone = df['tz']\n",
        "tvc = tzone.value_counts()\n",
        "tvc"
      ],
      "id": "293c59d5",
      "execution_count": null,
      "outputs": []
    },
    {
      "cell_type": "markdown",
      "metadata": {},
      "source": [
        ":::\n",
        "\n",
        "\n",
        "\n",
        "::: {#exm-}\n",
        "We would like to visulize the value counts. You may just show the top ten results. \n",
        ":::\n",
        "\n",
        "::: {.callout-tip collapse=\"true\"}"
      ],
      "id": "78d4fcf2"
    },
    {
      "cell_type": "code",
      "metadata": {},
      "source": [
        "import seaborn as sns\n",
        "sns.barplot(x=tvc[:10].values, y=tvc[:10].index)"
      ],
      "id": "eb1db18d",
      "execution_count": null,
      "outputs": []
    },
    {
      "cell_type": "markdown",
      "metadata": {},
      "source": [
        ":::\n",
        "\n",
        "\n",
        "\n",
        "::: {#exm-}\n",
        "\n",
        "We then would like to extract information from the column `a`. This column is about the agent of the connection. The important info is the part before the space `' '`. Please get that part out and count values.\n",
        "\n",
        ":::\n",
        "\n",
        "\n",
        "::: {.callout-tip collapse=\"true\"}"
      ],
      "id": "53922526"
    },
    {
      "cell_type": "code",
      "metadata": {},
      "source": [
        "agent = df['a']\n",
        "agent = agent.str.split(' ').str[0]\n",
        "avc = agent.value_counts()\n",
        "avc.head()"
      ],
      "id": "de7174e5",
      "execution_count": null,
      "outputs": []
    },
    {
      "cell_type": "markdown",
      "metadata": {},
      "source": [
        ":::\n",
        "\n",
        "\n",
        "::: {#exm-}\n",
        "\n",
        "Now let us assume that, if `Windows` appears in column `a` the user is using `Windows` os, if not then not. Please detect os, and classify it as `Windows` and `Not Windows`.\n",
        ":::\n",
        "\n",
        "\n",
        "::: {.callout-tip collapse=\"true\"}"
      ],
      "id": "64e2a39b"
    },
    {
      "cell_type": "code",
      "metadata": {},
      "source": [
        "df['os'] = np.where(df['a'].str.contains('Windows'), 'Windows', 'Not Windows')"
      ],
      "id": "087169e0",
      "execution_count": null,
      "outputs": []
    },
    {
      "cell_type": "markdown",
      "metadata": {},
      "source": [
        ":::\n",
        "\n",
        "Now make a bar plot about the counts based on `os` and `timezone`.\n",
        "\n",
        "::: {#exm-}\n",
        "We first group the data by `os` and `tz`.\n",
        ":::\n",
        "\n",
        "\n",
        "::: {.callout-tip collapse=\"true\"}"
      ],
      "id": "3e137319"
    },
    {
      "cell_type": "code",
      "metadata": {},
      "source": [
        "tz_os_counts = df.groupby(['tz', 'os']).size().unstack().fillna(0)\n",
        "tz_os_counts.head()"
      ],
      "id": "5fe9c7b9",
      "execution_count": null,
      "outputs": []
    },
    {
      "cell_type": "markdown",
      "metadata": {},
      "source": [
        ":::\n",
        "\n",
        "\n",
        "::: {#exm-}\n",
        "We then turn it into a DataFrame. You may use any methods.\n",
        ":::\n",
        "\n",
        "\n",
        "::: {.callout-tip collapse=\"true\"}\n",
        "\n",
        "We use the `.stack()`, `.unstack()` tricks here."
      ],
      "id": "4eacf8b6"
    },
    {
      "cell_type": "code",
      "metadata": {},
      "source": [
        "tovc = tz_os_counts.stack()[tz_os_counts.sum(axis=1).nlargest(10).index]\n",
        "tovc.name = 'count'\n",
        "dftovc = pd.DataFrame(tovc).reset_index()\n",
        "dftovc.head()"
      ],
      "id": "bdc68219",
      "execution_count": null,
      "outputs": []
    },
    {
      "cell_type": "markdown",
      "metadata": {},
      "source": [
        ":::\n",
        "\n",
        "\n",
        "::: {#exm-}\n",
        "We may now draw the bar plot showing `tz` and `os`.\n",
        ":::\n",
        "\n",
        "\n",
        "\n",
        "::: {.callout-tip collapse=\"true\"}\n"
      ],
      "id": "7d453f5f"
    },
    {
      "cell_type": "code",
      "metadata": {},
      "source": [
        "sns.barplot(x='count', y='tz', hue='os', data=dftovc)"
      ],
      "id": "96e46c2e",
      "execution_count": null,
      "outputs": []
    },
    {
      "cell_type": "markdown",
      "metadata": {},
      "source": [
        ":::\n",
        "\n",
        "\n",
        "\n",
        "## Example 2: US Baby Names 1880–2010\n",
        "The United States Social Security Administration (SSA) has made available data on the frequency of baby names from 1880 through the present. Hadley Wickham, an author of several popular R packages, has often made use of this dataset in illustrating data manipulation in `R`. The dataset can be downloaded from [here](assests/datasets/babynames.zip) as a zip file. Please unzip it and put it in your working folder.\n",
        "\n",
        "\n",
        "\n",
        "::: {#exm-}\n",
        "\n",
        "In the folder there are 131 `.txt` files. The naming scheme is `yob` + the year. Each file contains 3 columns: `name`, `gender`, and `counts`. We would like to add a column `year`, and combine all files into a single DataFrame. In our example, the year is from 1880 to 2010.\n",
        ":::\n",
        "\n",
        "\n",
        "::: {.callout-tip collapse=\"true\"}"
      ],
      "id": "ba7104a6"
    },
    {
      "cell_type": "code",
      "metadata": {},
      "source": [
        "#| eval: false\n",
        "import pandas as pd\n",
        "\n",
        "path = 'assests/datasets/babynames/'\n",
        "dflist = list()\n",
        "for year in range(1880, 2011):\n",
        "    filename = path + 'yob' + str(year) + '.txt'\n",
        "    df = pd.read_csv(filename, names=['name', 'gender', 'counts'])\n",
        "    df['year'] = year\n",
        "    dflist.append(df)\n",
        "df = pd.concat(dflist, ignore_index=True)"
      ],
      "id": "86f0dd0b",
      "execution_count": null,
      "outputs": []
    },
    {
      "cell_type": "markdown",
      "metadata": {},
      "source": [
        ":::\n",
        "\n",
        "\n",
        "::: {#exm-}\n",
        "\n",
        "Plot the total births by sex and year.\n",
        ":::\n",
        "\n",
        "\n",
        "::: {.callout-tip collapse=\"true\"}"
      ],
      "id": "9956113b"
    },
    {
      "cell_type": "code",
      "metadata": {},
      "source": [
        "#| eval: false\n",
        "import seaborn as sns\n",
        "\n",
        "sns.relplot(data=df.groupby(['gender', 'year']).sum().reset_index(),\n",
        "            x='year', y='counts', hue='gender', kind='line')"
      ],
      "id": "cdec8387",
      "execution_count": null,
      "outputs": []
    },
    {
      "cell_type": "code",
      "metadata": {},
      "source": [
        "#| echo: false\n",
        "import seaborn as sns\n",
        "sns.set_theme()\n",
        "dfgy = pd.read_csv('assests/datasets/gy.csv')\n",
        "sns.relplot(data=dfgy,\n",
        "            x='year', y='counts', hue='gender', kind='line')"
      ],
      "id": "f2dbf508",
      "execution_count": null,
      "outputs": []
    },
    {
      "cell_type": "markdown",
      "metadata": {},
      "source": [
        ":::\n",
        "\n",
        "\n",
        "::: {#exm-}\n",
        "\n",
        "For further analysis, we would like to compute the proportions of each name relative to the total number of births per year per gender. \n",
        "\n",
        ":::\n",
        "\n",
        "\n",
        "::: {.callout-tip collapse=\"true\"}"
      ],
      "id": "05482b37"
    },
    {
      "cell_type": "code",
      "metadata": {},
      "source": [
        "#| eval: false\n",
        "def add_prop(group):\n",
        "    group['prop'] = group.counts / group.counts.sum()\n",
        "    return group\n",
        "\n",
        "df = df.groupby(['gender', 'year']).apply(add_prop)\n",
        "df.head()"
      ],
      "id": "9de43e7a",
      "execution_count": null,
      "outputs": []
    },
    {
      "cell_type": "code",
      "metadata": {},
      "source": [
        "#| echo: false\n",
        "babydf5 = pd.read_csv('assests/datasets/babydf5.csv')\n",
        "babydf5"
      ],
      "id": "51d27d9d",
      "execution_count": null,
      "outputs": []
    },
    {
      "cell_type": "markdown",
      "metadata": {},
      "source": [
        ":::\n",
        "\n",
        "\n",
        "\n",
        "::: {#exm-}\n",
        "\n",
        "Now we would like to keep the first 100 names in each year, and save it as a new DataFrame `top100`.\n",
        ":::\n",
        "\n",
        "\n",
        "::: {.callout-tip collapse=\"true\"}"
      ],
      "id": "c38c31b8"
    },
    {
      "cell_type": "code",
      "metadata": {},
      "source": [
        "#| eval: false\n",
        "top100 = (\n",
        "    df.groupby(['year', 'gender'])\n",
        "    .apply(lambda x: df.loc[x['counts'].nlargest(100).index])\n",
        "    .drop(columns=['year', 'gender'])\n",
        "    .reset_index()\n",
        "    .drop(columns='level_2')\n",
        ")\n",
        "top100.head()"
      ],
      "id": "54b42c97",
      "execution_count": null,
      "outputs": []
    },
    {
      "cell_type": "code",
      "metadata": {},
      "source": [
        "#| echo: false\n",
        "dftop100 = pd.read_csv('assests/datasets/baby100.csv')\n",
        "dftop100"
      ],
      "id": "a8a42dbb",
      "execution_count": null,
      "outputs": []
    },
    {
      "cell_type": "markdown",
      "metadata": {},
      "source": [
        "Note that `level_2` is related to the original index after `reset_index()`. That's why we don't need it here.\n",
        ":::\n",
        "\n",
        "\n",
        "\n",
        "::: {#exm-}\n",
        "Now we would like to draw the trend of some names: `John`, `Harry` and `Mary`.\n",
        ":::\n",
        "\n",
        "\n",
        "::: {.callout-tip collapse=\"true\"}"
      ],
      "id": "643e6954"
    },
    {
      "cell_type": "code",
      "metadata": {},
      "source": [
        "#| eval: false\n",
        "namelist = ['John', 'Harry', 'Mary']\n",
        "sns.relplot(data=top100[top100['name'].isin(namelist)],\n",
        "            x='year', y='counts', hue='name', kind='line')"
      ],
      "id": "fd0a9ebb",
      "execution_count": null,
      "outputs": []
    },
    {
      "cell_type": "code",
      "metadata": {},
      "source": [
        "#| echo: false\n",
        "babynamelist = pd.read_csv('assests/datasets/babynamelist.csv')\n",
        "sns.relplot(data=babynamelist,\n",
        "            x='year', y='counts', hue='name', kind='line')"
      ],
      "id": "bd13bf59",
      "execution_count": null,
      "outputs": []
    },
    {
      "cell_type": "markdown",
      "metadata": {},
      "source": [
        ":::\n",
        "\n",
        "\n",
        "::: {#exm-}\n",
        "Please analyze the ending of names.\n",
        ":::\n",
        "\n",
        "\n",
        "::: {.callout-tip collapse=\"true\"}\n"
      ],
      "id": "7c1ebd74"
    },
    {
      "cell_type": "code",
      "metadata": {},
      "source": [
        "#| eval: false\n",
        "df['ending'] = df['name'].str[-1]\n",
        "endingcount = df.groupby(['gender', 'year', 'ending']).sum().reset_index()"
      ],
      "id": "d2a5c133",
      "execution_count": null,
      "outputs": []
    },
    {
      "cell_type": "markdown",
      "metadata": {},
      "source": [
        ":::\n",
        "\n",
        "\n",
        "\n",
        "::: {#exm-}\n",
        "We would like to draw barplots to show the distributions in year 1910, 1960 and 2010.\n",
        "\n",
        "\n",
        ":::\n",
        "\n",
        "\n",
        "\n",
        "::: {.callout-tip collapse=\"true\"}\n"
      ],
      "id": "e7821d06"
    },
    {
      "cell_type": "code",
      "metadata": {},
      "source": [
        "#| eval: false\n",
        "certainyear = endingcount[endingcount['year'].isin([1910, 1960, 2010])]\n",
        "import matplotlib.pyplot as plt\n",
        "\n",
        "fig, axs = plt.subplots(2, 1, figsize=(10,7))\n",
        "sns.barplot(data=certainyear[endingcount['gender']=='M'],\n",
        "            x='ending', y='prop', hue='year', ax=axs[0])\n",
        "sns.barplot(data=certainyear[endingcount['gender']=='F'],\n",
        "            x='ending', y='prop', hue='year', ax=axs[1]).legend_.remove()"
      ],
      "id": "cd4ea99b",
      "execution_count": null,
      "outputs": []
    },
    {
      "cell_type": "code",
      "metadata": {},
      "source": [
        "#| echo: false\n",
        "babyyear = pd.read_csv('assests/datasets/babyyear.csv')\n",
        "import matplotlib.pyplot as plt\n",
        "\n",
        "fig, axs = plt.subplots(2, 1, figsize=(10,7))\n",
        "sns.barplot(data=babyyear[babyyear['gender']=='M'],\n",
        "            x='ending', y='prop', hue='year', ax=axs[0])\n",
        "sns.barplot(data=babyyear[babyyear['gender']=='F'],\n",
        "            x='ending', y='prop', hue='year', ax=axs[1]).legend_.remove()"
      ],
      "id": "67314d7f",
      "execution_count": null,
      "outputs": []
    },
    {
      "cell_type": "markdown",
      "metadata": {},
      "source": [
        ":::\n",
        "\n",
        "\n",
        "::: {#exm-}\n",
        "\n",
        "\n",
        "We would also like to draw the line plot to show the trending of certain letters through years.\n",
        ":::\n",
        "\n",
        "\n",
        "::: {.callout-tip collapse=\"true\"}"
      ],
      "id": "f642935a"
    },
    {
      "cell_type": "code",
      "metadata": {},
      "source": [
        "#| eval: false\n",
        "sns.relplot(data=endingcount[endingcount.ending.isin(['d', 'n', 'y'])],\n",
        "            x='year', y='prop', hue='ending', kind='line')"
      ],
      "id": "444faf2a",
      "execution_count": null,
      "outputs": []
    },
    {
      "cell_type": "code",
      "metadata": {},
      "source": [
        "#| echo: false\n",
        "babyending = pd.read_csv('assests/datasets/babyending.csv')\n",
        "sns.relplot(data=babyending[babyending.ending.isin(['d', 'n', 'y'])],\n",
        "            x='year', y='prop', hue='ending', kind='line')"
      ],
      "id": "b2f90b97",
      "execution_count": null,
      "outputs": []
    },
    {
      "cell_type": "markdown",
      "metadata": {},
      "source": [
        ":::\n",
        "\n",
        "## Exercises\n",
        "\n",
        "::: {#exr-}\n",
        "Please use the baby name dataset. We would like to consider the diversity of the names. Please compute the number of popular names in top 50% for each year each gender. Draw a line plot to show the trend and discuss the result.\n",
        ":::\n",
        "\n",
        "\n",
        "\n",
        "::: {#exr-}\n",
        "Please consider the baby name dataset. Please draw the trends of counts of names ending in `a`, `e`, `n` across years for each gender.\n",
        ":::\n"
      ],
      "id": "39f006d6"
    }
  ],
  "metadata": {
    "kernelspec": {
      "name": "base",
      "language": "python",
      "display_name": "base"
    }
  },
  "nbformat": 4,
  "nbformat_minor": 5
}